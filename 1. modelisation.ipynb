{
 "cells": [
  {
   "cell_type": "code",
   "execution_count": 1,
   "id": "75c1c260-f6c2-4eb7-983a-ce5ab177010d",
   "metadata": {},
   "outputs": [],
   "source": [
    "import numpy as np\n",
    "import pandas as pd\n",
    "import matplotlib.pyplot as plt\n",
    "import seaborn as sns\n",
    "from functions import *\n",
    "from feat_functions import *\n",
    "import time\n",
    "import joblib\n",
    "import gc"
   ]
  },
  {
   "cell_type": "code",
   "execution_count": 2,
   "id": "10e8da26-45a8-4757-8aec-635c3d1ac135",
   "metadata": {},
   "outputs": [],
   "source": [
    "from sklearn.model_selection import train_test_split\n",
    "from sklearn.impute import SimpleImputer\n",
    "import bayes_opt\n",
    "from imblearn import under_sampling, over_sampling, pipeline\n",
    "from sklearn.metrics import roc_curve, roc_auc_score, balanced_accuracy_score, fbeta_score, confusion_matrix\n",
    "\n",
    "import lightgbm as lgb\n",
    "import catboost as cb\n",
    "import xgboost as xgb\n",
    "from sklearn.ensemble import RandomForestClassifier\n",
    "\n",
    "from sklearn.feature_selection import SelectKBest, f_classif\n",
    "from sklearn.inspection import permutation_importance\n",
    "from sklearn.base import clone"
   ]
  },
  {
   "cell_type": "markdown",
   "id": "d81ca871-4999-428d-ad0a-8cc5083b2642",
   "metadata": {},
   "source": [
    "# 1. Feature engineering et exploration"
   ]
  },
  {
   "cell_type": "markdown",
   "id": "ad3f8d0d-af68-4cbe-82d6-8900911d8ec4",
   "metadata": {},
   "source": [
    "## 1.1. Feature extraction"
   ]
  },
  {
   "cell_type": "markdown",
   "id": "38b434b6-802b-49d8-866f-ecb7b38071f8",
   "metadata": {},
   "source": [
    "Pour les besoins de ce projet, le kernel Kaggle disponible à [cette addresse](https://www.kaggle.com/code/jsaguiar/lightgbm-with-simple-features/script) a été utilisé, avec quelques adaptations, notamment pour éviter les divisions par 0. Ce prétraitement met en place un one-hot encoding pour les variables catégorielles, et inclus des données statistiques sur les variables historiques (min, max, moyenne observés)."
   ]
  },
  {
   "cell_type": "code",
   "execution_count": 3,
   "id": "a1387cd0-cd87-49c7-997e-50c8b0e19571",
   "metadata": {},
   "outputs": [
    {
     "name": "stdout",
     "output_type": "stream",
     "text": [
      "Train samples: 307511, test samples: 48744\n",
      "Bureau df shape: (305811, 116)\n",
      "Process bureau and bureau_balance - done in 10s\n",
      "Previous applications df shape: (338857, 249)\n",
      "Process previous_applications - done in 13s\n",
      "Pos-cash balance df shape: (337252, 18)\n",
      "Process POS-CASH balance - done in 7s\n",
      "Installments payments df shape: (339587, 26)\n",
      "Process installments payments - done in 17s\n",
      "Credit card balance df shape: (103558, 141)\n",
      "Process credit card balance - done in 14s\n"
     ]
    }
   ],
   "source": [
    "complete_set, challenge_set = feat_engineering()"
   ]
  },
  {
   "cell_type": "markdown",
   "id": "5a02d435-dc28-4e63-833c-8993319bebe0",
   "metadata": {},
   "source": [
    "Nous enregistrons le set de test."
   ]
  },
  {
   "cell_type": "code",
   "execution_count": 4,
   "id": "4f4edf37-c9a7-4c71-a685-3dcbd465b1e0",
   "metadata": {},
   "outputs": [],
   "source": [
    "challenge_set.to_csv('data/challenge_set.csv', index=False)"
   ]
  },
  {
   "cell_type": "code",
   "execution_count": 5,
   "id": "63f23a4c-4b91-43e6-a006-0ad0239645dd",
   "metadata": {},
   "outputs": [
    {
     "name": "stdout",
     "output_type": "stream",
     "text": [
      "La base d'entraînement contient 307511 lignes, et 797 colonnes.\n"
     ]
    }
   ],
   "source": [
    "print(f\"La base d'entraînement contient {complete_set.shape[0]} lignes, et {complete_set.shape[1]} colonnes.\")"
   ]
  },
  {
   "cell_type": "markdown",
   "id": "949e6c87-491b-4506-a839-97d84a653dd5",
   "metadata": {},
   "source": [
    "Nous observons les premières lignes de la base de données."
   ]
  },
  {
   "cell_type": "code",
   "execution_count": 6,
   "id": "c08d5878-f0d0-4b97-abba-0778cf43d292",
   "metadata": {},
   "outputs": [
    {
     "data": {
      "text/html": [
       "<div>\n",
       "<style scoped>\n",
       "    .dataframe tbody tr th:only-of-type {\n",
       "        vertical-align: middle;\n",
       "    }\n",
       "\n",
       "    .dataframe tbody tr th {\n",
       "        vertical-align: top;\n",
       "    }\n",
       "\n",
       "    .dataframe thead th {\n",
       "        text-align: right;\n",
       "    }\n",
       "</style>\n",
       "<table border=\"1\" class=\"dataframe\">\n",
       "  <thead>\n",
       "    <tr style=\"text-align: right;\">\n",
       "      <th></th>\n",
       "      <th>SK_ID_CURR</th>\n",
       "      <th>TARGET</th>\n",
       "      <th>CODE_GENDER</th>\n",
       "      <th>FLAG_OWN_CAR</th>\n",
       "      <th>FLAG_OWN_REALTY</th>\n",
       "      <th>CNT_CHILDREN</th>\n",
       "      <th>AMT_INCOME_TOTAL</th>\n",
       "      <th>AMT_CREDIT</th>\n",
       "      <th>AMT_ANNUITY</th>\n",
       "      <th>AMT_GOODS_PRICE</th>\n",
       "      <th>...</th>\n",
       "      <th>CC_NAME_CONTRACT_STATUS_Signed_MAX</th>\n",
       "      <th>CC_NAME_CONTRACT_STATUS_Signed_MEAN</th>\n",
       "      <th>CC_NAME_CONTRACT_STATUS_Signed_SUM</th>\n",
       "      <th>CC_NAME_CONTRACT_STATUS_Signed_VAR</th>\n",
       "      <th>CC_NAME_CONTRACT_STATUS_nan_MIN</th>\n",
       "      <th>CC_NAME_CONTRACT_STATUS_nan_MAX</th>\n",
       "      <th>CC_NAME_CONTRACT_STATUS_nan_MEAN</th>\n",
       "      <th>CC_NAME_CONTRACT_STATUS_nan_SUM</th>\n",
       "      <th>CC_NAME_CONTRACT_STATUS_nan_VAR</th>\n",
       "      <th>CC_COUNT</th>\n",
       "    </tr>\n",
       "    <tr>\n",
       "      <th>index</th>\n",
       "      <th></th>\n",
       "      <th></th>\n",
       "      <th></th>\n",
       "      <th></th>\n",
       "      <th></th>\n",
       "      <th></th>\n",
       "      <th></th>\n",
       "      <th></th>\n",
       "      <th></th>\n",
       "      <th></th>\n",
       "      <th></th>\n",
       "      <th></th>\n",
       "      <th></th>\n",
       "      <th></th>\n",
       "      <th></th>\n",
       "      <th></th>\n",
       "      <th></th>\n",
       "      <th></th>\n",
       "      <th></th>\n",
       "      <th></th>\n",
       "      <th></th>\n",
       "    </tr>\n",
       "  </thead>\n",
       "  <tbody>\n",
       "    <tr>\n",
       "      <th>0</th>\n",
       "      <td>100002</td>\n",
       "      <td>1.0</td>\n",
       "      <td>0</td>\n",
       "      <td>0</td>\n",
       "      <td>0</td>\n",
       "      <td>0</td>\n",
       "      <td>202500.0</td>\n",
       "      <td>406597.5</td>\n",
       "      <td>24700.5</td>\n",
       "      <td>351000.0</td>\n",
       "      <td>...</td>\n",
       "      <td>NaN</td>\n",
       "      <td>NaN</td>\n",
       "      <td>NaN</td>\n",
       "      <td>NaN</td>\n",
       "      <td>NaN</td>\n",
       "      <td>NaN</td>\n",
       "      <td>NaN</td>\n",
       "      <td>NaN</td>\n",
       "      <td>NaN</td>\n",
       "      <td>NaN</td>\n",
       "    </tr>\n",
       "    <tr>\n",
       "      <th>1</th>\n",
       "      <td>100003</td>\n",
       "      <td>0.0</td>\n",
       "      <td>1</td>\n",
       "      <td>0</td>\n",
       "      <td>1</td>\n",
       "      <td>0</td>\n",
       "      <td>270000.0</td>\n",
       "      <td>1293502.5</td>\n",
       "      <td>35698.5</td>\n",
       "      <td>1129500.0</td>\n",
       "      <td>...</td>\n",
       "      <td>NaN</td>\n",
       "      <td>NaN</td>\n",
       "      <td>NaN</td>\n",
       "      <td>NaN</td>\n",
       "      <td>NaN</td>\n",
       "      <td>NaN</td>\n",
       "      <td>NaN</td>\n",
       "      <td>NaN</td>\n",
       "      <td>NaN</td>\n",
       "      <td>NaN</td>\n",
       "    </tr>\n",
       "    <tr>\n",
       "      <th>2</th>\n",
       "      <td>100004</td>\n",
       "      <td>0.0</td>\n",
       "      <td>0</td>\n",
       "      <td>1</td>\n",
       "      <td>0</td>\n",
       "      <td>0</td>\n",
       "      <td>67500.0</td>\n",
       "      <td>135000.0</td>\n",
       "      <td>6750.0</td>\n",
       "      <td>135000.0</td>\n",
       "      <td>...</td>\n",
       "      <td>NaN</td>\n",
       "      <td>NaN</td>\n",
       "      <td>NaN</td>\n",
       "      <td>NaN</td>\n",
       "      <td>NaN</td>\n",
       "      <td>NaN</td>\n",
       "      <td>NaN</td>\n",
       "      <td>NaN</td>\n",
       "      <td>NaN</td>\n",
       "      <td>NaN</td>\n",
       "    </tr>\n",
       "    <tr>\n",
       "      <th>3</th>\n",
       "      <td>100006</td>\n",
       "      <td>0.0</td>\n",
       "      <td>1</td>\n",
       "      <td>0</td>\n",
       "      <td>0</td>\n",
       "      <td>0</td>\n",
       "      <td>135000.0</td>\n",
       "      <td>312682.5</td>\n",
       "      <td>29686.5</td>\n",
       "      <td>297000.0</td>\n",
       "      <td>...</td>\n",
       "      <td>0.0</td>\n",
       "      <td>0.0</td>\n",
       "      <td>0.0</td>\n",
       "      <td>0.0</td>\n",
       "      <td>0.0</td>\n",
       "      <td>0.0</td>\n",
       "      <td>0.0</td>\n",
       "      <td>0.0</td>\n",
       "      <td>0.0</td>\n",
       "      <td>6.0</td>\n",
       "    </tr>\n",
       "    <tr>\n",
       "      <th>4</th>\n",
       "      <td>100007</td>\n",
       "      <td>0.0</td>\n",
       "      <td>0</td>\n",
       "      <td>0</td>\n",
       "      <td>0</td>\n",
       "      <td>0</td>\n",
       "      <td>121500.0</td>\n",
       "      <td>513000.0</td>\n",
       "      <td>21865.5</td>\n",
       "      <td>513000.0</td>\n",
       "      <td>...</td>\n",
       "      <td>NaN</td>\n",
       "      <td>NaN</td>\n",
       "      <td>NaN</td>\n",
       "      <td>NaN</td>\n",
       "      <td>NaN</td>\n",
       "      <td>NaN</td>\n",
       "      <td>NaN</td>\n",
       "      <td>NaN</td>\n",
       "      <td>NaN</td>\n",
       "      <td>NaN</td>\n",
       "    </tr>\n",
       "  </tbody>\n",
       "</table>\n",
       "<p>5 rows × 797 columns</p>\n",
       "</div>"
      ],
      "text/plain": [
       "       SK_ID_CURR  TARGET  CODE_GENDER  FLAG_OWN_CAR  FLAG_OWN_REALTY  \\\n",
       "index                                                                   \n",
       "0          100002     1.0            0             0                0   \n",
       "1          100003     0.0            1             0                1   \n",
       "2          100004     0.0            0             1                0   \n",
       "3          100006     0.0            1             0                0   \n",
       "4          100007     0.0            0             0                0   \n",
       "\n",
       "       CNT_CHILDREN  AMT_INCOME_TOTAL  AMT_CREDIT  AMT_ANNUITY  \\\n",
       "index                                                            \n",
       "0                 0          202500.0    406597.5      24700.5   \n",
       "1                 0          270000.0   1293502.5      35698.5   \n",
       "2                 0           67500.0    135000.0       6750.0   \n",
       "3                 0          135000.0    312682.5      29686.5   \n",
       "4                 0          121500.0    513000.0      21865.5   \n",
       "\n",
       "       AMT_GOODS_PRICE  ...  CC_NAME_CONTRACT_STATUS_Signed_MAX  \\\n",
       "index                   ...                                       \n",
       "0             351000.0  ...                                 NaN   \n",
       "1            1129500.0  ...                                 NaN   \n",
       "2             135000.0  ...                                 NaN   \n",
       "3             297000.0  ...                                 0.0   \n",
       "4             513000.0  ...                                 NaN   \n",
       "\n",
       "       CC_NAME_CONTRACT_STATUS_Signed_MEAN  \\\n",
       "index                                        \n",
       "0                                      NaN   \n",
       "1                                      NaN   \n",
       "2                                      NaN   \n",
       "3                                      0.0   \n",
       "4                                      NaN   \n",
       "\n",
       "       CC_NAME_CONTRACT_STATUS_Signed_SUM  CC_NAME_CONTRACT_STATUS_Signed_VAR  \\\n",
       "index                                                                           \n",
       "0                                     NaN                                 NaN   \n",
       "1                                     NaN                                 NaN   \n",
       "2                                     NaN                                 NaN   \n",
       "3                                     0.0                                 0.0   \n",
       "4                                     NaN                                 NaN   \n",
       "\n",
       "       CC_NAME_CONTRACT_STATUS_nan_MIN  CC_NAME_CONTRACT_STATUS_nan_MAX  \\\n",
       "index                                                                     \n",
       "0                                  NaN                              NaN   \n",
       "1                                  NaN                              NaN   \n",
       "2                                  NaN                              NaN   \n",
       "3                                  0.0                              0.0   \n",
       "4                                  NaN                              NaN   \n",
       "\n",
       "       CC_NAME_CONTRACT_STATUS_nan_MEAN  CC_NAME_CONTRACT_STATUS_nan_SUM  \\\n",
       "index                                                                      \n",
       "0                                   NaN                              NaN   \n",
       "1                                   NaN                              NaN   \n",
       "2                                   NaN                              NaN   \n",
       "3                                   0.0                              0.0   \n",
       "4                                   NaN                              NaN   \n",
       "\n",
       "       CC_NAME_CONTRACT_STATUS_nan_VAR  CC_COUNT  \n",
       "index                                             \n",
       "0                                  NaN       NaN  \n",
       "1                                  NaN       NaN  \n",
       "2                                  NaN       NaN  \n",
       "3                                  0.0       6.0  \n",
       "4                                  NaN       NaN  \n",
       "\n",
       "[5 rows x 797 columns]"
      ]
     },
     "execution_count": 6,
     "metadata": {},
     "output_type": "execute_result"
    }
   ],
   "source": [
    "complete_set.head()"
   ]
  },
  {
   "cell_type": "markdown",
   "id": "808d9753-cd19-4d8f-baed-a40660bd1916",
   "metadata": {},
   "source": [
    "## 1.2. Analyse des données manquantes"
   ]
  },
  {
   "cell_type": "markdown",
   "id": "d2462a5a-bafd-4dde-864c-a83cf9491088",
   "metadata": {},
   "source": [
    "Notre base de données contient vraisemblablement des données manquantes. Nous explorons rapidement celles-ci."
   ]
  },
  {
   "cell_type": "code",
   "execution_count": 7,
   "id": "bccd94da-1a63-4974-8191-eb895d130b37",
   "metadata": {},
   "outputs": [
    {
     "data": {
      "text/plain": [
       "REFUSED_AMT_DOWN_PAYMENT_MIN     0.853111\n",
       "REFUSED_AMT_DOWN_PAYMENT_MAX     0.853111\n",
       "REFUSED_AMT_DOWN_PAYMENT_MEAN    0.853111\n",
       "REFUSED_RATE_DOWN_PAYMENT_MIN    0.853111\n",
       "REFUSED_RATE_DOWN_PAYMENT_MAX    0.853111\n",
       "                                   ...   \n",
       "ANNUITY_INCOME_PERC              0.000039\n",
       "YEARLY_PAYMENT_RATE              0.000039\n",
       "CNT_FAM_MEMBERS                  0.000007\n",
       "INCOME_PER_PERSON                0.000007\n",
       "DAYS_LAST_PHONE_CHANGE           0.000003\n",
       "Length: 616, dtype: float64"
      ]
     },
     "execution_count": 7,
     "metadata": {},
     "output_type": "execute_result"
    }
   ],
   "source": [
    "na_vars = complete_set.isna().sum(axis=0)/complete_set.shape[0]\n",
    "na_vars[na_vars>0].sort_values(ascending=False)"
   ]
  },
  {
   "cell_type": "markdown",
   "id": "ffd0c73b-74e3-494c-841a-32ff2712d3bb",
   "metadata": {},
   "source": [
    "616 variables contiennent des données manquantes, dont certaintes sont manquantes à plus de 85%. Il peut être intéressant de décider d'une stratégie d'imputation pour celles-ci."
   ]
  },
  {
   "cell_type": "code",
   "execution_count": 8,
   "id": "ace21f95-77cf-4268-8727-021eef992d20",
   "metadata": {},
   "outputs": [
    {
     "name": "stdout",
     "output_type": "stream",
     "text": [
      "La valeur minimale dans les données d'entraînement est -6,981,558.\n"
     ]
    }
   ],
   "source": [
    "print(f\"La valeur minimale dans les données d'entraînement est {complete_set.min().min():,.0f}.\")"
   ]
  },
  {
   "cell_type": "markdown",
   "id": "0ed765be-34ee-4f60-b16b-e790e4e1a895",
   "metadata": {},
   "source": [
    "Afin de limiter les étapes de prétraitement, notamment en termes de normalisation et de log-transformation, nous nous concentrerons sur des algorithmes de classification à base d'arbres.\n",
    "Nous proposons, dans ce contexte, d'imputer les valeurs manquantes par -99 999 999, valeur très éloignée des valeurs observées dans la base de données."
   ]
  },
  {
   "cell_type": "code",
   "execution_count": 9,
   "id": "e155b404-5bfd-4ba5-8009-7c7765965f7d",
   "metadata": {},
   "outputs": [],
   "source": [
    "na_imputer = SimpleImputer(strategy='constant', fill_value=-99999999)"
   ]
  },
  {
   "cell_type": "markdown",
   "id": "3906b88b-3aec-4fba-97b8-618f88c24231",
   "metadata": {},
   "source": [
    "## 1.3. Conception d'une fonction coût métier"
   ]
  },
  {
   "cell_type": "markdown",
   "id": "d5e72659-e9fd-48a5-8d6a-0ba78c99979a",
   "metadata": {},
   "source": [
    "Dans le contexte particulier de notre client, nous allons étudier l'utilité d'une fonction de coût métier spécifique. Le principe étant que toutes les erreurs de prédiction n'ont pas nécessairement le même impact, notamment financier. Pour cela, nous allons, de manière simpliste, analyser les pertes potentielles liées à un faux positif et à un faux négatif."
   ]
  },
  {
   "cell_type": "code",
   "execution_count": 10,
   "id": "c1c84dd3-36a4-42c4-8ade-74622e315fdb",
   "metadata": {},
   "outputs": [
    {
     "data": {
      "text/html": [
       "<div>\n",
       "<style scoped>\n",
       "    .dataframe tbody tr th:only-of-type {\n",
       "        vertical-align: middle;\n",
       "    }\n",
       "\n",
       "    .dataframe tbody tr th {\n",
       "        vertical-align: top;\n",
       "    }\n",
       "\n",
       "    .dataframe thead th {\n",
       "        text-align: right;\n",
       "    }\n",
       "</style>\n",
       "<table border=\"1\" class=\"dataframe\">\n",
       "  <thead>\n",
       "    <tr style=\"text-align: right;\">\n",
       "      <th></th>\n",
       "      <th>AMT_CREDIT</th>\n",
       "      <th>AMT_GOODS_PRICE</th>\n",
       "      <th>TOTAL_RATE</th>\n",
       "    </tr>\n",
       "    <tr>\n",
       "      <th>TARGET</th>\n",
       "      <th></th>\n",
       "      <th></th>\n",
       "      <th></th>\n",
       "    </tr>\n",
       "  </thead>\n",
       "  <tbody>\n",
       "    <tr>\n",
       "      <th>0.0</th>\n",
       "      <td>632461.030097</td>\n",
       "      <td>565645.39481</td>\n",
       "      <td>0.118123</td>\n",
       "    </tr>\n",
       "    <tr>\n",
       "      <th>1.0</th>\n",
       "      <td>578598.766181</td>\n",
       "      <td>504756.54455</td>\n",
       "      <td>0.146293</td>\n",
       "    </tr>\n",
       "  </tbody>\n",
       "</table>\n",
       "</div>"
      ],
      "text/plain": [
       "           AMT_CREDIT  AMT_GOODS_PRICE  TOTAL_RATE\n",
       "TARGET                                            \n",
       "0.0     632461.030097     565645.39481    0.118123\n",
       "1.0     578598.766181     504756.54455    0.146293"
      ]
     },
     "execution_count": 10,
     "metadata": {},
     "output_type": "execute_result"
    }
   ],
   "source": [
    "cash_loans = complete_set.loc[complete_set['NAME_CONTRACT_TYPE_Cashloans'] == 1,\n",
    "                              ['TARGET', 'AMT_CREDIT', 'AMT_GOODS_PRICE']].groupby(['TARGET']).mean()\n",
    "cash_loans['TOTAL_RATE'] = cash_loans['AMT_CREDIT'] / cash_loans['AMT_GOODS_PRICE'] - 1\n",
    "cash_loans"
   ]
  },
  {
   "cell_type": "code",
   "execution_count": 11,
   "id": "0412afe0-448e-4ec7-9e62-f3ffc3ded331",
   "metadata": {},
   "outputs": [
    {
     "name": "stdout",
     "output_type": "stream",
     "text": [
      "Nous constatons qu'en moyenne, les crédits accordés sans défaut rapportent 11.8% à la société de financement.\n"
     ]
    }
   ],
   "source": [
    "print(f\"Nous constatons qu'en moyenne, les crédits accordés sans défaut rapportent {cash_loans.loc[0.0, 'TOTAL_RATE']:.1%} à la société de financement.\")"
   ]
  },
  {
   "cell_type": "markdown",
   "id": "aad8b0a3-2f8d-4bfa-83a1-e560e21db621",
   "metadata": {},
   "source": [
    "Par conséquent, un faux positif (refus d'un prêt qui aurait pu être remboursé) conduit en moyenne à un manque à gagner direct de 11.8% du crédit (en ignorant le coût du financement pour l'entreprise), auquel s'ajoutent l'éventuelle perte d'activité future avec le client. \n",
    "\n",
    "En comparaison, un faux négatif (accord d'un prêt qui ne peut pas être remboursé) peut faire porter au financeur une perte pouvant aller jusqu'à 100% du crédit, à laquelle s'ajoute le temps passé pour élaborer le crédit, ainsi que son coût de financement pour l'entreprise.\n",
    "\n",
    "Aussi, nous proposons de définir une fonction de coût métier de la manière suivante :\n",
    "\n",
    "$loss(FPos, FNeg) = FPos + \\beta*FNeg$\n",
    "\n",
    "en utilisant une valeur de $\\beta$ = 10, donnant donc un poids 10 fois supérieur aux faux négatifs par rapport aux faux positifs."
   ]
  },
  {
   "cell_type": "code",
   "execution_count": 12,
   "id": "ec5197d9-502b-42dc-b45f-8708ccb04e5d",
   "metadata": {},
   "outputs": [],
   "source": [
    "def custom_bin_loss(y_true:np.ndarray, y_pred:np.ndarray, fn_weight:float) -> int:\n",
    "    \n",
    "    \"\"\"\n",
    "    Fonction calculant le coût métier associé à une prédiction donnée.\n",
    "    Formule : \n",
    "        cout(FP, FN) = FP + fn_weight*FN\n",
    "    avec FP = faux positifs\n",
    "         FN = faux négatifs\n",
    "    \"\"\"\n",
    "    \n",
    "    true_p_map = y_true == 1\n",
    "    y_diff = y_true - y_pred\n",
    "    loss = (fn_weight)*(y_diff[true_p_map]).sum() - y_diff[~true_p_map].sum()\n",
    "    return int(loss)"
   ]
  },
  {
   "cell_type": "markdown",
   "id": "037b65fd-6b63-44f9-a85e-4724739365a1",
   "metadata": {},
   "source": [
    "## 1.4. Elaboration des sets d'entraînement et validation"
   ]
  },
  {
   "cell_type": "markdown",
   "id": "b129c78a-4e26-470b-936d-c1e0d432d7a7",
   "metadata": {},
   "source": [
    "Pour commencer, nous séparons notre donnée d'entraînement en une base contenant les variables client, et une contenant les cibles."
   ]
  },
  {
   "cell_type": "code",
   "execution_count": 13,
   "id": "6cb027bf-5451-4d11-a46a-d14e87e53a07",
   "metadata": {},
   "outputs": [
    {
     "data": {
      "text/plain": [
       "0"
      ]
     },
     "execution_count": 13,
     "metadata": {},
     "output_type": "execute_result"
    }
   ],
   "source": [
    "X = complete_set.drop(columns=['SK_ID_CURR', 'TARGET'])\n",
    "y = complete_set['TARGET'].astype(int)\n",
    "del complete_set\n",
    "gc.collect()"
   ]
  },
  {
   "cell_type": "markdown",
   "id": "cb6dcca4-c8ff-401b-8a86-b10600029639",
   "metadata": {},
   "source": [
    "Nous pouvons désormais étudier l'équilibre des classes cibles dans la base de données."
   ]
  },
  {
   "cell_type": "code",
   "execution_count": 14,
   "id": "b329ae06-bb95-4f3a-91c8-c3f79463a96c",
   "metadata": {},
   "outputs": [
    {
     "data": {
      "image/png": "[encoded data removed]",
      "text/plain": [
       "<Figure size 720x360 with 1 Axes>"
      ]
     },
     "metadata": {
      "needs_background": "light"
     },
     "output_type": "display_data"
    }
   ],
   "source": [
    "fig, ax = plt.subplots(figsize=(10, 5))\n",
    "\n",
    "sns.countplot(\n",
    "    y=y\n",
    ")\n",
    "\n",
    "ax.set_xlabel(\"Nombre d'occurrences\")\n",
    "ax.set_ylabel(\"Classe\")\n",
    "ax.set_title(\"Visualisation de la distribution des classes dans le set d'entraînement\",\n",
    "             pad=15)\n",
    "\n",
    "plt.show()"
   ]
  },
  {
   "cell_type": "markdown",
   "id": "51dec7ac-e1ab-4215-b49b-3068da19426b",
   "metadata": {},
   "source": [
    "Nous constatons que les classes sont fortement déséquilibrées, et qu'il convient donc d'inclure une méthode d'équilibrage des données."
   ]
  },
  {
   "cell_type": "markdown",
   "id": "6640b24e-f3c5-4bdb-ad4b-19ca07bceab8",
   "metadata": {},
   "source": [
    "Pour la suite du projet, nous créons un set d'entraînement et un set de validation, à partir du set contenant les données complètes. Compte tenu du nombre d'observations, en particulier rapporté au nombre de variables, nous retenons une approche entraînement / validation avec une optimisation bayésienne pour l'identification des hyperparamètres. Le set de validation contiendra 20% des données."
   ]
  },
  {
   "cell_type": "code",
   "execution_count": 15,
   "id": "8959ccf3-0c33-43c0-a571-e9caf7f8c403",
   "metadata": {},
   "outputs": [],
   "source": [
    "X_train, X_valid, y_train, y_valid =\\\n",
    "    train_test_split(X, y, test_size=.2, stratify=y, random_state=52)"
   ]
  },
  {
   "cell_type": "markdown",
   "id": "0f361eb7-f35f-4bc1-8c4a-a6a4cbfadba8",
   "metadata": {},
   "source": [
    "# 2. Choix du modèle"
   ]
  },
  {
   "cell_type": "markdown",
   "id": "9139e879-1c12-4c38-9227-872f5b513612",
   "metadata": {},
   "source": [
    "## 2.1. Définition des modèles à explorer"
   ]
  },
  {
   "cell_type": "markdown",
   "id": "fc96a3bf-2564-46cf-9450-346ed15f7697",
   "metadata": {},
   "source": [
    "Dans un premier temps, nous allons définir un ensemble de modèles dont nous souhaitons comparer les performances, et optimiser leurs hyperparamètres. Afin d'accélérer cette étape, nous utiliserons l'under-sampling comme méthode d'équilibrage des données."
   ]
  },
  {
   "cell_type": "code",
   "execution_count": 17,
   "id": "aa3af16d-4813-4c70-9839-c365596146fe",
   "metadata": {},
   "outputs": [],
   "source": [
    "rus = under_sampling.RandomUnderSampler(random_state=52)"
   ]
  },
  {
   "cell_type": "markdown",
   "id": "8763885d-75ab-4e7a-8235-aaeb166ea6ad",
   "metadata": {},
   "source": [
    "### 2.1.1. LGBoost"
   ]
  },
  {
   "cell_type": "markdown",
   "id": "ec2420d0-b2f0-4d08-bfbd-a165b49c54a9",
   "metadata": {},
   "source": [
    "Nous commençons par le modèle LGBoost, modèle de boosting à base d'arbres."
   ]
  },
  {
   "cell_type": "code",
   "execution_count": 23,
   "id": "cfcada39-a9a6-48da-9423-20b2f8a6a0cb",
   "metadata": {},
   "outputs": [],
   "source": [
    "def objective(num_leaves, n_estimators, reg_alpha, reg_lambda, min_child_samples ):\n",
    "    \n",
    "    \"\"\"\n",
    "    Fonction définissant un objectif à optimiser (maximiser), par optimisation bayésienne.\n",
    "    \"\"\"\n",
    "    \n",
    "    model = lgb.LGBMClassifier(\n",
    "        objective='binary',\n",
    "        # scale_pos_weight=10,\n",
    "        num_leaves=int(round(num_leaves,0)),\n",
    "        n_estimators=int(round(n_estimators,0)),\n",
    "        reg_alpha=reg_alpha,\n",
    "        reg_lambda=reg_lambda,\n",
    "        min_child_samples=int(round(min_child_samples,0)),\n",
    "        random_state=53)\n",
    "\n",
    "    select_model = pipeline.Pipeline([('imputer', na_imputer),\n",
    "                                      ('sampler', rus),\n",
    "                                      ('model', model)\n",
    "                                     ])\n",
    "    \n",
    "    select_model.fit(X_train, y_train)\n",
    "    \n",
    "    y_score = select_model.predict(X_valid)\n",
    "    loss = custom_bin_loss(y_valid, y_score, 10)\n",
    "    \n",
    "    return -loss # Maximisation de la neg loss"
   ]
  },
  {
   "cell_type": "code",
   "execution_count": 24,
   "id": "c2d94525-db7f-495a-8eee-f399bd2d4979",
   "metadata": {},
   "outputs": [],
   "source": [
    "search_space = {\n",
    "    'num_leaves': (20,50),\n",
    "    'n_estimators': (100,1000),\n",
    "    'reg_alpha': (0,1),\n",
    "    'reg_lambda': (0,1),\n",
    "    'min_child_samples': (10,50)\n",
    "}"
   ]
  },
  {
   "cell_type": "code",
   "execution_count": 25,
   "id": "eccf2f60-4e9a-433d-9508-68e339173f1a",
   "metadata": {},
   "outputs": [],
   "source": [
    "optimizer = bayes_opt.BayesianOptimization(\n",
    "    f=objective,\n",
    "    pbounds=search_space,\n",
    "    random_state=53\n",
    ")"
   ]
  },
  {
   "cell_type": "code",
   "execution_count": 26,
   "id": "dc982a4b-1007-40e4-aac2-a887434afc81",
   "metadata": {},
   "outputs": [
    {
     "name": "stdout",
     "output_type": "stream",
     "text": [
      "|   iter    |  target   | min_ch... | n_esti... | num_le... | reg_alpha | reg_la... |\n",
      "-------------------------------------------------------------------------------------\n",
      "| \u001b[0m 1       \u001b[0m | \u001b[0m-3.107e+0\u001b[0m | \u001b[0m 43.87   \u001b[0m | \u001b[0m 605.0   \u001b[0m | \u001b[0m 33.65   \u001b[0m | \u001b[0m 0.3522  \u001b[0m | \u001b[0m 0.5859  \u001b[0m |\n",
      "| \u001b[0m 2       \u001b[0m | \u001b[0m-3.128e+0\u001b[0m | \u001b[0m 31.43   \u001b[0m | \u001b[0m 844.7   \u001b[0m | \u001b[0m 27.94   \u001b[0m | \u001b[0m 0.4784  \u001b[0m | \u001b[0m 0.3478  \u001b[0m |\n",
      "| \u001b[95m 3       \u001b[0m | \u001b[95m-3.1e+04 \u001b[0m | \u001b[95m 15.38   \u001b[0m | \u001b[95m 334.0   \u001b[0m | \u001b[95m 21.43   \u001b[0m | \u001b[95m 0.3943  \u001b[0m | \u001b[95m 0.3716  \u001b[0m |\n",
      "| \u001b[95m 4       \u001b[0m | \u001b[95m-3.085e+0\u001b[0m | \u001b[95m 32.27   \u001b[0m | \u001b[95m 907.7   \u001b[0m | \u001b[95m 25.02   \u001b[0m | \u001b[95m 0.4072  \u001b[0m | \u001b[95m 0.6524  \u001b[0m |\n",
      "| \u001b[0m 5       \u001b[0m | \u001b[0m-3.122e+0\u001b[0m | \u001b[0m 32.71   \u001b[0m | \u001b[0m 609.9   \u001b[0m | \u001b[0m 35.73   \u001b[0m | \u001b[0m 0.6076  \u001b[0m | \u001b[0m 0.1282  \u001b[0m |\n",
      "| \u001b[0m 6       \u001b[0m | \u001b[0m-3.09e+04\u001b[0m | \u001b[0m 19.03   \u001b[0m | \u001b[0m 288.5   \u001b[0m | \u001b[0m 23.9    \u001b[0m | \u001b[0m 0.3875  \u001b[0m | \u001b[0m 0.4957  \u001b[0m |\n",
      "| \u001b[0m 7       \u001b[0m | \u001b[0m-3.117e+0\u001b[0m | \u001b[0m 33.05   \u001b[0m | \u001b[0m 910.3   \u001b[0m | \u001b[0m 22.87   \u001b[0m | \u001b[0m 0.7564  \u001b[0m | \u001b[0m 0.7542  \u001b[0m |\n",
      "| \u001b[0m 8       \u001b[0m | \u001b[0m-3.094e+0\u001b[0m | \u001b[0m 21.93   \u001b[0m | \u001b[0m 785.3   \u001b[0m | \u001b[0m 21.58   \u001b[0m | \u001b[0m 0.7116  \u001b[0m | \u001b[0m 0.8957  \u001b[0m |\n",
      "| \u001b[0m 9       \u001b[0m | \u001b[0m-3.13e+04\u001b[0m | \u001b[0m 16.36   \u001b[0m | \u001b[0m 751.7   \u001b[0m | \u001b[0m 25.83   \u001b[0m | \u001b[0m 0.3595  \u001b[0m | \u001b[0m 0.03908 \u001b[0m |\n",
      "| \u001b[0m 10      \u001b[0m | \u001b[0m-3.134e+0\u001b[0m | \u001b[0m 47.9    \u001b[0m | \u001b[0m 540.5   \u001b[0m | \u001b[0m 35.44   \u001b[0m | \u001b[0m 0.7126  \u001b[0m | \u001b[0m 0.01998 \u001b[0m |\n",
      "| \u001b[0m 11      \u001b[0m | \u001b[0m-3.131e+0\u001b[0m | \u001b[0m 15.0    \u001b[0m | \u001b[0m 748.3   \u001b[0m | \u001b[0m 34.27   \u001b[0m | \u001b[0m 0.2742  \u001b[0m | \u001b[0m 0.599   \u001b[0m |\n",
      "| \u001b[0m 12      \u001b[0m | \u001b[0m-3.107e+0\u001b[0m | \u001b[0m 41.83   \u001b[0m | \u001b[0m 684.6   \u001b[0m | \u001b[0m 41.48   \u001b[0m | \u001b[0m 0.3779  \u001b[0m | \u001b[0m 0.8684  \u001b[0m |\n",
      "| \u001b[0m 13      \u001b[0m | \u001b[0m-3.116e+0\u001b[0m | \u001b[0m 40.0    \u001b[0m | \u001b[0m 543.5   \u001b[0m | \u001b[0m 36.83   \u001b[0m | \u001b[0m 0.4215  \u001b[0m | \u001b[0m 0.6035  \u001b[0m |\n",
      "| \u001b[95m 14      \u001b[0m | \u001b[95m-3.078e+0\u001b[0m | \u001b[95m 23.32   \u001b[0m | \u001b[95m 785.0   \u001b[0m | \u001b[95m 22.66   \u001b[0m | \u001b[95m 0.9635  \u001b[0m | \u001b[95m 0.307   \u001b[0m |\n",
      "| \u001b[0m 15      \u001b[0m | \u001b[0m-3.133e+0\u001b[0m | \u001b[0m 17.99   \u001b[0m | \u001b[0m 287.8   \u001b[0m | \u001b[0m 21.96   \u001b[0m | \u001b[0m 0.6024  \u001b[0m | \u001b[0m 0.9872  \u001b[0m |\n",
      "| \u001b[0m 16      \u001b[0m | \u001b[0m-3.104e+0\u001b[0m | \u001b[0m 32.83   \u001b[0m | \u001b[0m 907.4   \u001b[0m | \u001b[0m 23.74   \u001b[0m | \u001b[0m 0.886   \u001b[0m | \u001b[0m 0.3168  \u001b[0m |\n",
      "| \u001b[0m 17      \u001b[0m | \u001b[0m-3.116e+0\u001b[0m | \u001b[0m 30.81   \u001b[0m | \u001b[0m 906.5   \u001b[0m | \u001b[0m 23.11   \u001b[0m | \u001b[0m 0.1425  \u001b[0m | \u001b[0m 0.8787  \u001b[0m |\n",
      "| \u001b[0m 18      \u001b[0m | \u001b[0m-3.096e+0\u001b[0m | \u001b[0m 24.24   \u001b[0m | \u001b[0m 783.8   \u001b[0m | \u001b[0m 23.47   \u001b[0m | \u001b[0m 0.9305  \u001b[0m | \u001b[0m 0.7017  \u001b[0m |\n",
      "| \u001b[0m 19      \u001b[0m | \u001b[0m-3.116e+0\u001b[0m | \u001b[0m 22.64   \u001b[0m | \u001b[0m 785.7   \u001b[0m | \u001b[0m 24.48   \u001b[0m | \u001b[0m 0.4983  \u001b[0m | \u001b[0m 0.3755  \u001b[0m |\n",
      "| \u001b[0m 20      \u001b[0m | \u001b[0m-3.104e+0\u001b[0m | \u001b[0m 20.86   \u001b[0m | \u001b[0m 783.7   \u001b[0m | \u001b[0m 20.98   \u001b[0m | \u001b[0m 0.03119 \u001b[0m | \u001b[0m 0.8221  \u001b[0m |\n",
      "| \u001b[0m 21      \u001b[0m | \u001b[0m-3.121e+0\u001b[0m | \u001b[0m 30.87   \u001b[0m | \u001b[0m 909.7   \u001b[0m | \u001b[0m 23.97   \u001b[0m | \u001b[0m 0.5039  \u001b[0m | \u001b[0m 0.8773  \u001b[0m |\n",
      "| \u001b[0m 22      \u001b[0m | \u001b[0m-3.092e+0\u001b[0m | \u001b[0m 19.34   \u001b[0m | \u001b[0m 287.9   \u001b[0m | \u001b[0m 23.83   \u001b[0m | \u001b[0m 0.7129  \u001b[0m | \u001b[0m 0.9506  \u001b[0m |\n",
      "| \u001b[0m 23      \u001b[0m | \u001b[0m-3.125e+0\u001b[0m | \u001b[0m 23.43   \u001b[0m | \u001b[0m 786.5   \u001b[0m | \u001b[0m 21.1    \u001b[0m | \u001b[0m 0.9177  \u001b[0m | \u001b[0m 0.323   \u001b[0m |\n",
      "| \u001b[0m 24      \u001b[0m | \u001b[0m-3.131e+0\u001b[0m | \u001b[0m 32.99   \u001b[0m | \u001b[0m 906.2   \u001b[0m | \u001b[0m 25.48   \u001b[0m | \u001b[0m 0.4033  \u001b[0m | \u001b[0m 0.9306  \u001b[0m |\n",
      "| \u001b[95m 25      \u001b[0m | \u001b[95m-3.074e+0\u001b[0m | \u001b[95m 14.41   \u001b[0m | \u001b[95m 334.5   \u001b[0m | \u001b[95m 22.99   \u001b[0m | \u001b[95m 0.8946  \u001b[0m | \u001b[95m 0.04592 \u001b[0m |\n",
      "| \u001b[95m 26      \u001b[0m | \u001b[95m-3.066e+0\u001b[0m | \u001b[95m 19.67   \u001b[0m | \u001b[95m 288.4   \u001b[0m | \u001b[95m 24.65   \u001b[0m | \u001b[95m 0.5207  \u001b[0m | \u001b[95m 0.6036  \u001b[0m |\n",
      "| \u001b[0m 27      \u001b[0m | \u001b[0m-3.12e+04\u001b[0m | \u001b[0m 23.71   \u001b[0m | \u001b[0m 783.2   \u001b[0m | \u001b[0m 21.84   \u001b[0m | \u001b[0m 0.3937  \u001b[0m | \u001b[0m 0.7041  \u001b[0m |\n",
      "| \u001b[0m 28      \u001b[0m | \u001b[0m-3.105e+0\u001b[0m | \u001b[0m 13.23   \u001b[0m | \u001b[0m 333.7   \u001b[0m | \u001b[0m 23.57   \u001b[0m | \u001b[0m 0.03169 \u001b[0m | \u001b[0m 0.7771  \u001b[0m |\n",
      "| \u001b[0m 29      \u001b[0m | \u001b[0m-3.121e+0\u001b[0m | \u001b[0m 24.06   \u001b[0m | \u001b[0m 785.2   \u001b[0m | \u001b[0m 22.41   \u001b[0m | \u001b[0m 0.1293  \u001b[0m | \u001b[0m 0.7629  \u001b[0m |\n",
      "| \u001b[0m 30      \u001b[0m | \u001b[0m-3.09e+04\u001b[0m | \u001b[0m 19.6    \u001b[0m | \u001b[0m 287.2   \u001b[0m | \u001b[0m 23.73   \u001b[0m | \u001b[0m 0.01254 \u001b[0m | \u001b[0m 0.9992  \u001b[0m |\n",
      "=====================================================================================\n"
     ]
    }
   ],
   "source": [
    "optimizer.maximize()"
   ]
  },
  {
   "cell_type": "code",
   "execution_count": 27,
   "id": "ca11a9a2-484f-41fb-9186-8f2e3ab679bc",
   "metadata": {},
   "outputs": [],
   "source": [
    "params = optimizer.max['params']\n",
    "params['num_leaves'] = int(round(params['num_leaves'],0))\n",
    "params['n_estimators'] = int(round(params['n_estimators'],0))\n",
    "params['min_child_samples'] = int(round(params['min_child_samples'],0))"
   ]
  },
  {
   "cell_type": "markdown",
   "id": "e96d1b9e-e48d-4478-980e-7f39de88ea06",
   "metadata": {},
   "source": [
    "Nous définissons désormais le modèle avec les hyperparamètres identifiés."
   ]
  },
  {
   "cell_type": "code",
   "execution_count": 28,
   "id": "ad4926ef-4de6-49b7-9599-98d84f5c89d0",
   "metadata": {},
   "outputs": [
    {
     "data": {
      "text/html": [
       "<style>#sk-container-id-1 {color: black;background-color: white;}#sk-container-id-1 pre{padding: 0;}#sk-container-id-1 div.sk-toggleable {background-color: white;}#sk-container-id-1 label.sk-toggleable__label {cursor: pointer;display: block;width: 100%;margin-bottom: 0;padding: 0.3em;box-sizing: border-box;text-align: center;}#sk-container-id-1 label.sk-toggleable__label-arrow:before {content: \"▸\";float: left;margin-right: 0.25em;color: #696969;}#sk-container-id-1 label.sk-toggleable__label-arrow:hover:before {color: black;}#sk-container-id-1 div.sk-estimator:hover label.sk-toggleable__label-arrow:before {color: black;}#sk-container-id-1 div.sk-toggleable__content {max-height: 0;max-width: 0;overflow: hidden;text-align: left;background-color: #f0f8ff;}#sk-container-id-1 div.sk-toggleable__content pre {margin: 0.2em;color: black;border-radius: 0.25em;background-color: #f0f8ff;}#sk-container-id-1 input.sk-toggleable__control:checked~div.sk-toggleable__content {max-height: 200px;max-width: 100%;overflow: auto;}#sk-container-id-1 input.sk-toggleable__control:checked~label.sk-toggleable__label-arrow:before {content: \"▾\";}#sk-container-id-1 div.sk-estimator input.sk-toggleable__control:checked~label.sk-toggleable__label {background-color: #d4ebff;}#sk-container-id-1 div.sk-label input.sk-toggleable__control:checked~label.sk-toggleable__label {background-color: #d4ebff;}#sk-container-id-1 input.sk-hidden--visually {border: 0;clip: rect(1px 1px 1px 1px);clip: rect(1px, 1px, 1px, 1px);height: 1px;margin: -1px;overflow: hidden;padding: 0;position: absolute;width: 1px;}#sk-container-id-1 div.sk-estimator {font-family: monospace;background-color: #f0f8ff;border: 1px dotted black;border-radius: 0.25em;box-sizing: border-box;margin-bottom: 0.5em;}#sk-container-id-1 div.sk-estimator:hover {background-color: #d4ebff;}#sk-container-id-1 div.sk-parallel-item::after {content: \"\";width: 100%;border-bottom: 1px solid gray;flex-grow: 1;}#sk-container-id-1 div.sk-label:hover label.sk-toggleable__label {background-color: #d4ebff;}#sk-container-id-1 div.sk-serial::before {content: \"\";position: absolute;border-left: 1px solid gray;box-sizing: border-box;top: 0;bottom: 0;left: 50%;z-index: 0;}#sk-container-id-1 div.sk-serial {display: flex;flex-direction: column;align-items: center;background-color: white;padding-right: 0.2em;padding-left: 0.2em;position: relative;}#sk-container-id-1 div.sk-item {position: relative;z-index: 1;}#sk-container-id-1 div.sk-parallel {display: flex;align-items: stretch;justify-content: center;background-color: white;position: relative;}#sk-container-id-1 div.sk-item::before, #sk-container-id-1 div.sk-parallel-item::before {content: \"\";position: absolute;border-left: 1px solid gray;box-sizing: border-box;top: 0;bottom: 0;left: 50%;z-index: -1;}#sk-container-id-1 div.sk-parallel-item {display: flex;flex-direction: column;z-index: 1;position: relative;background-color: white;}#sk-container-id-1 div.sk-parallel-item:first-child::after {align-self: flex-end;width: 50%;}#sk-container-id-1 div.sk-parallel-item:last-child::after {align-self: flex-start;width: 50%;}#sk-container-id-1 div.sk-parallel-item:only-child::after {width: 0;}#sk-container-id-1 div.sk-dashed-wrapped {border: 1px dashed gray;margin: 0 0.4em 0.5em 0.4em;box-sizing: border-box;padding-bottom: 0.4em;background-color: white;}#sk-container-id-1 div.sk-label label {font-family: monospace;font-weight: bold;display: inline-block;line-height: 1.2em;}#sk-container-id-1 div.sk-label-container {text-align: center;}#sk-container-id-1 div.sk-container {/* jupyter's `normalize.less` sets `[hidden] { display: none; }` but bootstrap.min.css set `[hidden] { display: none !important; }` so we also need the `!important` here to be able to override the default hidden behavior on the sphinx rendered scikit-learn.org. See: https://github.com/scikit-learn/scikit-learn/issues/21755 */display: inline-block !important;position: relative;}#sk-container-id-1 div.sk-text-repr-fallback {display: none;}</style><div id=\"sk-container-id-1\" class=\"sk-top-container\"><div class=\"sk-text-repr-fallback\"><pre>LGBMClassifier(metric=&#x27;accuracy&#x27;, n_estimators=288, num_leaves=25,\n",
       "               objective=&#x27;binary&#x27;, random_state=53,\n",
       "               reg_alpha=0.5207205272522514, reg_lambda=0.6036103389804524)</pre><b>In a Jupyter environment, please rerun this cell to show the HTML representation or trust the notebook. <br />On GitHub, the HTML representation is unable to render, please try loading this page with nbviewer.org.</b></div><div class=\"sk-container\" hidden><div class=\"sk-item\"><div class=\"sk-estimator sk-toggleable\"><input class=\"sk-toggleable__control sk-hidden--visually\" id=\"sk-estimator-id-1\" type=\"checkbox\" checked><label for=\"sk-estimator-id-1\" class=\"sk-toggleable__label sk-toggleable__label-arrow\">LGBMClassifier</label><div class=\"sk-toggleable__content\"><pre>LGBMClassifier(metric=&#x27;accuracy&#x27;, n_estimators=288, num_leaves=25,\n",
       "               objective=&#x27;binary&#x27;, random_state=53,\n",
       "               reg_alpha=0.5207205272522514, reg_lambda=0.6036103389804524)</pre></div></div></div></div></div>"
      ],
      "text/plain": [
       "LGBMClassifier(metric='accuracy', n_estimators=288, num_leaves=25,\n",
       "               objective='binary', random_state=53,\n",
       "               reg_alpha=0.5207205272522514, reg_lambda=0.6036103389804524)"
      ]
     },
     "execution_count": 28,
     "metadata": {},
     "output_type": "execute_result"
    }
   ],
   "source": [
    "lgb_model = lgb.LGBMClassifier(\n",
    "    objective='binary',\n",
    "    metric='accuracy',\n",
    "    # scale_pos_weight=10,\n",
    "    random_state=53\n",
    ")\n",
    "\n",
    "lgb_model.set_params(**params)"
   ]
  },
  {
   "cell_type": "markdown",
   "id": "b3bb9d38-9c67-4809-92f0-2e4707f09e91",
   "metadata": {},
   "source": [
    "### 2.1.2. CatBoost"
   ]
  },
  {
   "cell_type": "markdown",
   "id": "eb93fb73-8f30-4640-adc8-806980eb7be9",
   "metadata": {},
   "source": [
    "Nous incluons un modèle CatBoost, autre implémentation d'une approche de boosting à base d'arbres."
   ]
  },
  {
   "cell_type": "code",
   "execution_count": 29,
   "id": "e4a5fb25-d103-4048-8217-1ae849b42270",
   "metadata": {},
   "outputs": [],
   "source": [
    "def objective(rsm, l2_leaf_reg, iterations):\n",
    "    \n",
    "    \"\"\"\n",
    "    Fonction définissant un objectif à optimiser (maximiser), par optimisation bayésienne.\n",
    "    \"\"\"\n",
    "    \n",
    "    model = cb.CatBoostClassifier(\n",
    "        iterations=int(round(iterations,0)),\n",
    "        rsm=rsm,\n",
    "        l2_leaf_reg=l2_leaf_reg,\n",
    "        # scale_pos_weight=10,\n",
    "        silent=True,\n",
    "        random_seed=53)\n",
    "\n",
    "    select_model = pipeline.Pipeline([('imputer', na_imputer),\n",
    "                                      ('sampler', rus),\n",
    "                                      ('model', model)\n",
    "                                     ])\n",
    "    \n",
    "    select_model.fit(X_train, y_train)\n",
    "    \n",
    "    y_score = select_model.predict(X_valid)\n",
    "    loss = custom_bin_loss(y_valid, y_score, 10)\n",
    "    \n",
    "    return -loss # Maximisation de la neg loss"
   ]
  },
  {
   "cell_type": "code",
   "execution_count": 30,
   "id": "20a63512-5fc1-4881-b170-b13d074c5c40",
   "metadata": {},
   "outputs": [],
   "source": [
    "search_space = {\n",
    "    'rsm': (0.1,0.9),\n",
    "    'l2_leaf_reg': (0,1),\n",
    "    'iterations': (100,1000)\n",
    "}"
   ]
  },
  {
   "cell_type": "code",
   "execution_count": 31,
   "id": "e82e2b3b-ddb5-4089-a59d-b47638bc5975",
   "metadata": {},
   "outputs": [],
   "source": [
    "optimizer = bayes_opt.BayesianOptimization(\n",
    "    f=objective,\n",
    "    pbounds=search_space,\n",
    "    random_state=53\n",
    ")"
   ]
  },
  {
   "cell_type": "code",
   "execution_count": 32,
   "id": "2820c629-5af9-46e6-8c8d-8643dd6713e9",
   "metadata": {},
   "outputs": [
    {
     "name": "stdout",
     "output_type": "stream",
     "text": [
      "|   iter    |  target   | iterat... | l2_lea... |    rsm    |\n",
      "-------------------------------------------------------------\n",
      "| \u001b[0m 1       \u001b[0m | \u001b[0m-3.067e+0\u001b[0m | \u001b[0m 862.0   \u001b[0m | \u001b[0m 0.5612  \u001b[0m | \u001b[0m 0.4639  \u001b[0m |\n",
      "| \u001b[0m 2       \u001b[0m | \u001b[0m-3.124e+0\u001b[0m | \u001b[0m 417.0   \u001b[0m | \u001b[0m 0.5859  \u001b[0m | \u001b[0m 0.5286  \u001b[0m |\n",
      "| \u001b[95m 3       \u001b[0m | \u001b[95m-3.053e+0\u001b[0m | \u001b[95m 844.7   \u001b[0m | \u001b[95m 0.2645  \u001b[0m | \u001b[95m 0.4827  \u001b[0m |\n",
      "| \u001b[0m 4       \u001b[0m | \u001b[0m-3.146e+0\u001b[0m | \u001b[0m 413.0   \u001b[0m | \u001b[0m 0.1345  \u001b[0m | \u001b[0m 0.308   \u001b[0m |\n",
      "| \u001b[0m 5       \u001b[0m | \u001b[0m-3.249e+0\u001b[0m | \u001b[0m 142.9   \u001b[0m | \u001b[0m 0.3943  \u001b[0m | \u001b[0m 0.3973  \u001b[0m |\n",
      "| \u001b[0m 6       \u001b[0m | \u001b[0m-3.069e+0\u001b[0m | \u001b[0m 815.3   \u001b[0m | \u001b[0m 1.0     \u001b[0m | \u001b[0m 0.9     \u001b[0m |\n",
      "| \u001b[0m 7       \u001b[0m | \u001b[0m-3.1e+04 \u001b[0m | \u001b[0m 455.3   \u001b[0m | \u001b[0m 0.9839  \u001b[0m | \u001b[0m 0.6611  \u001b[0m |\n",
      "| \u001b[0m 8       \u001b[0m | \u001b[0m-3.082e+0\u001b[0m | \u001b[0m 776.7   \u001b[0m | \u001b[0m 0.0     \u001b[0m | \u001b[0m 0.1     \u001b[0m |\n",
      "| \u001b[0m 9       \u001b[0m | \u001b[0m-3.083e+0\u001b[0m | \u001b[0m 903.4   \u001b[0m | \u001b[0m 0.0     \u001b[0m | \u001b[0m 0.9     \u001b[0m |\n",
      "| \u001b[0m 10      \u001b[0m | \u001b[0m-3.062e+0\u001b[0m | \u001b[0m 736.9   \u001b[0m | \u001b[0m 1.0     \u001b[0m | \u001b[0m 0.9     \u001b[0m |\n",
      "| \u001b[0m 11      \u001b[0m | \u001b[0m-3.078e+0\u001b[0m | \u001b[0m 706.3   \u001b[0m | \u001b[0m 0.01623 \u001b[0m | \u001b[0m 0.1884  \u001b[0m |\n",
      "| \u001b[0m 12      \u001b[0m | \u001b[0m-3.055e+0\u001b[0m | \u001b[0m 945.2   \u001b[0m | \u001b[0m 0.3948  \u001b[0m | \u001b[0m 0.3696  \u001b[0m |\n",
      "| \u001b[95m 13      \u001b[0m | \u001b[95m-3.04e+04\u001b[0m | \u001b[95m 972.9   \u001b[0m | \u001b[95m 1.0     \u001b[0m | \u001b[95m 0.9     \u001b[0m |\n",
      "| \u001b[0m 14      \u001b[0m | \u001b[0m-3.069e+0\u001b[0m | \u001b[0m 1e+03   \u001b[0m | \u001b[0m 0.0     \u001b[0m | \u001b[0m 0.1     \u001b[0m |\n",
      "| \u001b[0m 15      \u001b[0m | \u001b[0m-3.072e+0\u001b[0m | \u001b[0m 649.2   \u001b[0m | \u001b[0m 1.0     \u001b[0m | \u001b[0m 0.9     \u001b[0m |\n",
      "| \u001b[0m 16      \u001b[0m | \u001b[0m-3.071e+0\u001b[0m | \u001b[0m 609.5   \u001b[0m | \u001b[0m 0.5622  \u001b[0m | \u001b[0m 0.2421  \u001b[0m |\n",
      "| \u001b[0m 17      \u001b[0m | \u001b[0m-3.073e+0\u001b[0m | \u001b[0m 571.1   \u001b[0m | \u001b[0m 0.2622  \u001b[0m | \u001b[0m 0.731   \u001b[0m |\n",
      "| \u001b[0m 18      \u001b[0m | \u001b[0m-3.091e+0\u001b[0m | \u001b[0m 532.6   \u001b[0m | \u001b[0m 0.8296  \u001b[0m | \u001b[0m 0.1004  \u001b[0m |\n",
      "| \u001b[0m 19      \u001b[0m | \u001b[0m-3.167e+0\u001b[0m | \u001b[0m 278.5   \u001b[0m | \u001b[0m 1.0     \u001b[0m | \u001b[0m 0.9     \u001b[0m |\n",
      "| \u001b[0m 20      \u001b[0m | \u001b[0m-3.21e+04\u001b[0m | \u001b[0m 215.2   \u001b[0m | \u001b[0m 0.0     \u001b[0m | \u001b[0m 0.1     \u001b[0m |\n",
      "| \u001b[0m 21      \u001b[0m | \u001b[0m-3.164e+0\u001b[0m | \u001b[0m 334.0   \u001b[0m | \u001b[0m 1.0     \u001b[0m | \u001b[0m 0.1     \u001b[0m |\n",
      "| \u001b[0m 22      \u001b[0m | \u001b[0m-3.066e+0\u001b[0m | \u001b[0m 676.0   \u001b[0m | \u001b[0m 1.0     \u001b[0m | \u001b[0m 0.9     \u001b[0m |\n",
      "| \u001b[0m 23      \u001b[0m | \u001b[0m-3.121e+0\u001b[0m | \u001b[0m 497.9   \u001b[0m | \u001b[0m 0.0     \u001b[0m | \u001b[0m 0.9     \u001b[0m |\n",
      "| \u001b[0m 24      \u001b[0m | \u001b[0m-3.065e+0\u001b[0m | \u001b[0m 961.3   \u001b[0m | \u001b[0m 0.009186\u001b[0m | \u001b[0m 0.3891  \u001b[0m |\n",
      "| \u001b[0m 25      \u001b[0m | \u001b[0m-3.044e+0\u001b[0m | \u001b[0m 926.5   \u001b[0m | \u001b[0m 1.0     \u001b[0m | \u001b[0m 0.9     \u001b[0m |\n",
      "| \u001b[0m 26      \u001b[0m | \u001b[0m-3.059e+0\u001b[0m | \u001b[0m 983.9   \u001b[0m | \u001b[0m 0.04028 \u001b[0m | \u001b[0m 0.1436  \u001b[0m |\n",
      "| \u001b[0m 27      \u001b[0m | \u001b[0m-3.076e+0\u001b[0m | \u001b[0m 755.3   \u001b[0m | \u001b[0m 0.8149  \u001b[0m | \u001b[0m 0.195   \u001b[0m |\n",
      "| \u001b[0m 28      \u001b[0m | \u001b[0m-3.304e+0\u001b[0m | \u001b[0m 100.0   \u001b[0m | \u001b[0m 1.0     \u001b[0m | \u001b[0m 0.9     \u001b[0m |\n",
      "| \u001b[0m 29      \u001b[0m | \u001b[0m-3.084e+0\u001b[0m | \u001b[0m 590.0   \u001b[0m | \u001b[0m 0.9971  \u001b[0m | \u001b[0m 0.2807  \u001b[0m |\n",
      "| \u001b[0m 30      \u001b[0m | \u001b[0m-3.084e+0\u001b[0m | \u001b[0m 629.3   \u001b[0m | \u001b[0m 0.07032 \u001b[0m | \u001b[0m 0.1164  \u001b[0m |\n",
      "=============================================================\n"
     ]
    }
   ],
   "source": [
    "optimizer.maximize()"
   ]
  },
  {
   "cell_type": "code",
   "execution_count": 33,
   "id": "4220c73a-fe9a-413c-98cf-809e738d25dc",
   "metadata": {},
   "outputs": [],
   "source": [
    "params = optimizer.max['params']\n",
    "params['iterations'] = int(round(params['iterations'],0))"
   ]
  },
  {
   "cell_type": "code",
   "execution_count": 34,
   "id": "386b284e-b51a-4bf1-a62d-d4b3ee17c82a",
   "metadata": {},
   "outputs": [
    {
     "data": {
      "text/plain": [
       "<catboost.core.CatBoostClassifier at 0x11bc6710910>"
      ]
     },
     "execution_count": 34,
     "metadata": {},
     "output_type": "execute_result"
    }
   ],
   "source": [
    "cb_model = cb.CatBoostClassifier(\n",
    "    # scale_pos_weight=10,\n",
    "    silent=True,\n",
    "    random_seed=53\n",
    ")\n",
    "cb_model.set_params(**params)"
   ]
  },
  {
   "cell_type": "markdown",
   "id": "3910db97-1162-451c-8b7f-1c582584569b",
   "metadata": {},
   "source": [
    "### 2.1.3. XGBoost"
   ]
  },
  {
   "cell_type": "markdown",
   "id": "b47e3e8e-2966-4cc8-91c0-d42f692fc86b",
   "metadata": {},
   "source": [
    "Nous incluons une dernière approche de boosting, celle du XGBoost."
   ]
  },
  {
   "cell_type": "code",
   "execution_count": 35,
   "id": "482da0f4-f4db-47f7-b4f6-99069d19ac51",
   "metadata": {},
   "outputs": [],
   "source": [
    "def objective(n_estimators, max_depth, reg_alpha, reg_lambda, colsample_bytree):\n",
    "    \n",
    "    \"\"\"\n",
    "    Fonction définissant un objectif à optimiser (maximiser), par optimisation bayésienne.\n",
    "    \"\"\"\n",
    "    \n",
    "    model = xgb.XGBClassifier(\n",
    "        n_estimators=int(round(n_estimators,0)),\n",
    "        max_depth=int(round(max_depth,0)),\n",
    "        reg_alpha=reg_alpha,\n",
    "        reg_lambda=reg_lambda,\n",
    "        colsample_bytree=colsample_bytree,\n",
    "        # scale_pos_weight=10,\n",
    "        booster='gbtree',\n",
    "        n_jobs=-1,\n",
    "        random_state=53)\n",
    "\n",
    "    select_model = pipeline.Pipeline([('imputer', na_imputer),\n",
    "                                      ('sampler', rus),\n",
    "                                      ('model', model)\n",
    "                                     ])\n",
    "    \n",
    "    select_model.fit(X_train, y_train)\n",
    "    \n",
    "    y_score = select_model.predict(X_valid)\n",
    "    loss = custom_bin_loss(y_valid, y_score, 10)\n",
    "    \n",
    "    return -loss # Maximisation de la neg loss"
   ]
  },
  {
   "cell_type": "code",
   "execution_count": 36,
   "id": "f95f7af3-b7e2-4fd4-aac2-1a79f7e73343",
   "metadata": {},
   "outputs": [],
   "source": [
    "search_space = {\n",
    "    'n_estimators': (100,1000),\n",
    "    'max_depth': (5,10),\n",
    "    'reg_alpha': (0,1),\n",
    "    'reg_lambda': (0,1),\n",
    "    'colsample_bytree': (0.1,0.9)\n",
    "}"
   ]
  },
  {
   "cell_type": "code",
   "execution_count": 37,
   "id": "40b88aec-9f66-4d4d-a85b-a19bbb445970",
   "metadata": {},
   "outputs": [],
   "source": [
    "optimizer = bayes_opt.BayesianOptimization(\n",
    "    f=objective,\n",
    "    pbounds=search_space,\n",
    "    random_state=53\n",
    ")"
   ]
  },
  {
   "cell_type": "code",
   "execution_count": 38,
   "id": "b479d100-bb42-47c9-8f5c-1cd172d5810f",
   "metadata": {},
   "outputs": [
    {
     "name": "stdout",
     "output_type": "stream",
     "text": [
      "|   iter    |  target   | colsam... | max_depth | n_esti... | reg_alpha | reg_la... |\n",
      "-------------------------------------------------------------------------------------\n",
      "| \u001b[0m 1       \u001b[0m | \u001b[0m-3.198e+0\u001b[0m | \u001b[0m 0.7773  \u001b[0m | \u001b[0m 7.806   \u001b[0m | \u001b[0m 509.4   \u001b[0m | \u001b[0m 0.3522  \u001b[0m | \u001b[0m 0.5859  \u001b[0m |\n",
      "| \u001b[95m 2       \u001b[0m | \u001b[95m-3.186e+0\u001b[0m | \u001b[95m 0.5286  \u001b[0m | \u001b[95m 9.137   \u001b[0m | \u001b[95m 338.1   \u001b[0m | \u001b[95m 0.4784  \u001b[0m | \u001b[95m 0.3478  \u001b[0m |\n",
      "| \u001b[0m 3       \u001b[0m | \u001b[0m-3.252e+0\u001b[0m | \u001b[0m 0.2076  \u001b[0m | \u001b[0m 6.3     \u001b[0m | \u001b[0m 142.9   \u001b[0m | \u001b[0m 0.3943  \u001b[0m | \u001b[0m 0.3716  \u001b[0m |\n",
      "| \u001b[0m 4       \u001b[0m | \u001b[0m-3.206e+0\u001b[0m | \u001b[0m 0.5454  \u001b[0m | \u001b[0m 9.487   \u001b[0m | \u001b[0m 250.6   \u001b[0m | \u001b[0m 0.4072  \u001b[0m | \u001b[0m 0.6524  \u001b[0m |\n",
      "| \u001b[0m 5       \u001b[0m | \u001b[0m-3.204e+0\u001b[0m | \u001b[0m 0.5542  \u001b[0m | \u001b[0m 7.833   \u001b[0m | \u001b[0m 571.9   \u001b[0m | \u001b[0m 0.6076  \u001b[0m | \u001b[0m 0.1282  \u001b[0m |\n",
      "| \u001b[0m 6       \u001b[0m | \u001b[0m-3.246e+0\u001b[0m | \u001b[0m 0.6409  \u001b[0m | \u001b[0m 9.213   \u001b[0m | \u001b[0m 328.8   \u001b[0m | \u001b[0m 0.1444  \u001b[0m | \u001b[0m 0.3696  \u001b[0m |\n",
      "| \u001b[0m 7       \u001b[0m | \u001b[0m-3.204e+0\u001b[0m | \u001b[0m 0.1924  \u001b[0m | \u001b[0m 5.346   \u001b[0m | \u001b[0m 130.5   \u001b[0m | \u001b[0m 0.3913  \u001b[0m | \u001b[0m 0.1542  \u001b[0m |\n",
      "| \u001b[0m 8       \u001b[0m | \u001b[0m-3.251e+0\u001b[0m | \u001b[0m 0.3385  \u001b[0m | \u001b[0m 8.807   \u001b[0m | \u001b[0m 147.5   \u001b[0m | \u001b[0m 0.7116  \u001b[0m | \u001b[0m 0.8957  \u001b[0m |\n",
      "| \u001b[0m 9       \u001b[0m | \u001b[0m-3.216e+0\u001b[0m | \u001b[0m 0.4693  \u001b[0m | \u001b[0m 9.096   \u001b[0m | \u001b[0m 343.1   \u001b[0m | \u001b[0m 0.6573  \u001b[0m | \u001b[0m 0.3339  \u001b[0m |\n",
      "| \u001b[0m 10      \u001b[0m | \u001b[0m-3.203e+0\u001b[0m | \u001b[0m 0.1711  \u001b[0m | \u001b[0m 5.353   \u001b[0m | \u001b[0m 338.0   \u001b[0m | \u001b[0m 0.2961  \u001b[0m | \u001b[0m 0.8809  \u001b[0m |\n",
      "| \u001b[0m 11      \u001b[0m | \u001b[0m-3.198e+0\u001b[0m | \u001b[0m 0.5483  \u001b[0m | \u001b[0m 8.055   \u001b[0m | \u001b[0m 515.6   \u001b[0m | \u001b[0m 0.3239  \u001b[0m | \u001b[0m 0.5744  \u001b[0m |\n",
      "| \u001b[0m 12      \u001b[0m | \u001b[0m-3.254e+0\u001b[0m | \u001b[0m 0.9     \u001b[0m | \u001b[0m 5.0     \u001b[0m | \u001b[0m 522.4   \u001b[0m | \u001b[0m 1.0     \u001b[0m | \u001b[0m 0.0     \u001b[0m |\n",
      "| \u001b[0m 13      \u001b[0m | \u001b[0m-3.227e+0\u001b[0m | \u001b[0m 0.254   \u001b[0m | \u001b[0m 5.54    \u001b[0m | \u001b[0m 503.4   \u001b[0m | \u001b[0m 0.356   \u001b[0m | \u001b[0m 0.9012  \u001b[0m |\n",
      "| \u001b[0m 14      \u001b[0m | \u001b[0m-3.257e+0\u001b[0m | \u001b[0m 0.2388  \u001b[0m | \u001b[0m 5.412   \u001b[0m | \u001b[0m 512.2   \u001b[0m | \u001b[0m 0.8137  \u001b[0m | \u001b[0m 0.5831  \u001b[0m |\n",
      "| \u001b[95m 15      \u001b[0m | \u001b[95m-3.162e+0\u001b[0m | \u001b[95m 0.7718  \u001b[0m | \u001b[95m 9.119   \u001b[0m | \u001b[95m 790.3   \u001b[0m | \u001b[95m 0.1972  \u001b[0m | \u001b[95m 0.2498  \u001b[0m |\n",
      "| \u001b[0m 16      \u001b[0m | \u001b[0m-3.254e+0\u001b[0m | \u001b[0m 0.1723  \u001b[0m | \u001b[0m 8.093   \u001b[0m | \u001b[0m 232.2   \u001b[0m | \u001b[0m 0.8393  \u001b[0m | \u001b[0m 0.6363  \u001b[0m |\n",
      "| \u001b[0m 17      \u001b[0m | \u001b[0m-3.339e+0\u001b[0m | \u001b[0m 0.8763  \u001b[0m | \u001b[0m 8.881   \u001b[0m | \u001b[0m 117.4   \u001b[0m | \u001b[0m 0.04288 \u001b[0m | \u001b[0m 0.8698  \u001b[0m |\n",
      "| \u001b[0m 18      \u001b[0m | \u001b[0m-3.294e+0\u001b[0m | \u001b[0m 0.3947  \u001b[0m | \u001b[0m 5.596   \u001b[0m | \u001b[0m 668.9   \u001b[0m | \u001b[0m 0.3346  \u001b[0m | \u001b[0m 0.3855  \u001b[0m |\n",
      "| \u001b[0m 19      \u001b[0m | \u001b[0m-3.183e+0\u001b[0m | \u001b[0m 0.8844  \u001b[0m | \u001b[0m 7.814   \u001b[0m | \u001b[0m 791.8   \u001b[0m | \u001b[0m 0.2722  \u001b[0m | \u001b[0m 0.6367  \u001b[0m |\n",
      "| \u001b[0m 20      \u001b[0m | \u001b[0m-3.205e+0\u001b[0m | \u001b[0m 0.6064  \u001b[0m | \u001b[0m 7.883   \u001b[0m | \u001b[0m 787.2   \u001b[0m | \u001b[0m 0.7799  \u001b[0m | \u001b[0m 0.7614  \u001b[0m |\n",
      "| \u001b[0m 21      \u001b[0m | \u001b[0m-3.188e+0\u001b[0m | \u001b[0m 0.2093  \u001b[0m | \u001b[0m 9.935   \u001b[0m | \u001b[0m 792.5   \u001b[0m | \u001b[0m 0.4442  \u001b[0m | \u001b[0m 0.5813  \u001b[0m |\n",
      "| \u001b[0m 22      \u001b[0m | \u001b[0m-3.207e+0\u001b[0m | \u001b[0m 0.1313  \u001b[0m | \u001b[0m 8.97    \u001b[0m | \u001b[0m 577.7   \u001b[0m | \u001b[0m 0.9618  \u001b[0m | \u001b[0m 0.183   \u001b[0m |\n",
      "| \u001b[0m 23      \u001b[0m | \u001b[0m-3.174e+0\u001b[0m | \u001b[0m 0.8093  \u001b[0m | \u001b[0m 9.542   \u001b[0m | \u001b[0m 566.1   \u001b[0m | \u001b[0m 0.6032  \u001b[0m | \u001b[0m 0.3254  \u001b[0m |\n",
      "| \u001b[0m 24      \u001b[0m | \u001b[0m-3.288e+0\u001b[0m | \u001b[0m 0.1     \u001b[0m | \u001b[0m 5.541   \u001b[0m | \u001b[0m 565.5   \u001b[0m | \u001b[0m 0.6914  \u001b[0m | \u001b[0m 1.0     \u001b[0m |\n",
      "| \u001b[0m 25      \u001b[0m | \u001b[0m-3.217e+0\u001b[0m | \u001b[0m 0.5625  \u001b[0m | \u001b[0m 9.977   \u001b[0m | \u001b[0m 569.2   \u001b[0m | \u001b[0m 0.1733  \u001b[0m | \u001b[0m 0.1778  \u001b[0m |\n",
      "| \u001b[0m 26      \u001b[0m | \u001b[0m-3.26e+04\u001b[0m | \u001b[0m 0.9     \u001b[0m | \u001b[0m 10.0    \u001b[0m | \u001b[0m 563.8   \u001b[0m | \u001b[0m 0.0     \u001b[0m | \u001b[0m 0.0     \u001b[0m |\n",
      "| \u001b[0m 27      \u001b[0m | \u001b[0m-3.244e+0\u001b[0m | \u001b[0m 0.1502  \u001b[0m | \u001b[0m 8.351   \u001b[0m | \u001b[0m 790.7   \u001b[0m | \u001b[0m 0.9041  \u001b[0m | \u001b[0m 0.9983  \u001b[0m |\n",
      "| \u001b[0m 28      \u001b[0m | \u001b[0m-3.167e+0\u001b[0m | \u001b[0m 0.378   \u001b[0m | \u001b[0m 5.093   \u001b[0m | \u001b[0m 130.7   \u001b[0m | \u001b[0m 0.3777  \u001b[0m | \u001b[0m 0.1708  \u001b[0m |\n",
      "| \u001b[0m 29      \u001b[0m | \u001b[0m-3.218e+0\u001b[0m | \u001b[0m 0.8648  \u001b[0m | \u001b[0m 9.399   \u001b[0m | \u001b[0m 790.3   \u001b[0m | \u001b[0m 0.1685  \u001b[0m | \u001b[0m 0.2075  \u001b[0m |\n",
      "| \u001b[0m 30      \u001b[0m | \u001b[0m-3.178e+0\u001b[0m | \u001b[0m 0.6716  \u001b[0m | \u001b[0m 8.937   \u001b[0m | \u001b[0m 790.5   \u001b[0m | \u001b[0m 0.4415  \u001b[0m | \u001b[0m 0.3228  \u001b[0m |\n",
      "=====================================================================================\n"
     ]
    }
   ],
   "source": [
    "optimizer.maximize()"
   ]
  },
  {
   "cell_type": "code",
   "execution_count": 39,
   "id": "002da601-c4ff-4c73-973e-a94da3cd114c",
   "metadata": {},
   "outputs": [],
   "source": [
    "params = optimizer.max['params']\n",
    "params['n_estimators'] = int(round(params['n_estimators'],0))\n",
    "params['max_depth'] = int(round(params['max_depth'],0))"
   ]
  },
  {
   "cell_type": "code",
   "execution_count": 40,
   "id": "a8d2f378-2259-46b0-ba5c-84e2d6b642f0",
   "metadata": {},
   "outputs": [
    {
     "data": {
      "text/html": [
       "<style>#sk-container-id-2 {color: black;background-color: white;}#sk-container-id-2 pre{padding: 0;}#sk-container-id-2 div.sk-toggleable {background-color: white;}#sk-container-id-2 label.sk-toggleable__label {cursor: pointer;display: block;width: 100%;margin-bottom: 0;padding: 0.3em;box-sizing: border-box;text-align: center;}#sk-container-id-2 label.sk-toggleable__label-arrow:before {content: \"▸\";float: left;margin-right: 0.25em;color: #696969;}#sk-container-id-2 label.sk-toggleable__label-arrow:hover:before {color: black;}#sk-container-id-2 div.sk-estimator:hover label.sk-toggleable__label-arrow:before {color: black;}#sk-container-id-2 div.sk-toggleable__content {max-height: 0;max-width: 0;overflow: hidden;text-align: left;background-color: #f0f8ff;}#sk-container-id-2 div.sk-toggleable__content pre {margin: 0.2em;color: black;border-radius: 0.25em;background-color: #f0f8ff;}#sk-container-id-2 input.sk-toggleable__control:checked~div.sk-toggleable__content {max-height: 200px;max-width: 100%;overflow: auto;}#sk-container-id-2 input.sk-toggleable__control:checked~label.sk-toggleable__label-arrow:before {content: \"▾\";}#sk-container-id-2 div.sk-estimator input.sk-toggleable__control:checked~label.sk-toggleable__label {background-color: #d4ebff;}#sk-container-id-2 div.sk-label input.sk-toggleable__control:checked~label.sk-toggleable__label {background-color: #d4ebff;}#sk-container-id-2 input.sk-hidden--visually {border: 0;clip: rect(1px 1px 1px 1px);clip: rect(1px, 1px, 1px, 1px);height: 1px;margin: -1px;overflow: hidden;padding: 0;position: absolute;width: 1px;}#sk-container-id-2 div.sk-estimator {font-family: monospace;background-color: #f0f8ff;border: 1px dotted black;border-radius: 0.25em;box-sizing: border-box;margin-bottom: 0.5em;}#sk-container-id-2 div.sk-estimator:hover {background-color: #d4ebff;}#sk-container-id-2 div.sk-parallel-item::after {content: \"\";width: 100%;border-bottom: 1px solid gray;flex-grow: 1;}#sk-container-id-2 div.sk-label:hover label.sk-toggleable__label {background-color: #d4ebff;}#sk-container-id-2 div.sk-serial::before {content: \"\";position: absolute;border-left: 1px solid gray;box-sizing: border-box;top: 0;bottom: 0;left: 50%;z-index: 0;}#sk-container-id-2 div.sk-serial {display: flex;flex-direction: column;align-items: center;background-color: white;padding-right: 0.2em;padding-left: 0.2em;position: relative;}#sk-container-id-2 div.sk-item {position: relative;z-index: 1;}#sk-container-id-2 div.sk-parallel {display: flex;align-items: stretch;justify-content: center;background-color: white;position: relative;}#sk-container-id-2 div.sk-item::before, #sk-container-id-2 div.sk-parallel-item::before {content: \"\";position: absolute;border-left: 1px solid gray;box-sizing: border-box;top: 0;bottom: 0;left: 50%;z-index: -1;}#sk-container-id-2 div.sk-parallel-item {display: flex;flex-direction: column;z-index: 1;position: relative;background-color: white;}#sk-container-id-2 div.sk-parallel-item:first-child::after {align-self: flex-end;width: 50%;}#sk-container-id-2 div.sk-parallel-item:last-child::after {align-self: flex-start;width: 50%;}#sk-container-id-2 div.sk-parallel-item:only-child::after {width: 0;}#sk-container-id-2 div.sk-dashed-wrapped {border: 1px dashed gray;margin: 0 0.4em 0.5em 0.4em;box-sizing: border-box;padding-bottom: 0.4em;background-color: white;}#sk-container-id-2 div.sk-label label {font-family: monospace;font-weight: bold;display: inline-block;line-height: 1.2em;}#sk-container-id-2 div.sk-label-container {text-align: center;}#sk-container-id-2 div.sk-container {/* jupyter's `normalize.less` sets `[hidden] { display: none; }` but bootstrap.min.css set `[hidden] { display: none !important; }` so we also need the `!important` here to be able to override the default hidden behavior on the sphinx rendered scikit-learn.org. See: https://github.com/scikit-learn/scikit-learn/issues/21755 */display: inline-block !important;position: relative;}#sk-container-id-2 div.sk-text-repr-fallback {display: none;}</style><div id=\"sk-container-id-2\" class=\"sk-top-container\"><div class=\"sk-text-repr-fallback\"><pre>XGBClassifier(base_score=None, booster=&#x27;gbtree&#x27;, callbacks=None,\n",
       "              colsample_bylevel=None, colsample_bynode=None,\n",
       "              colsample_bytree=0.7718464790274386, early_stopping_rounds=None,\n",
       "              enable_categorical=False, eval_metric=None, gamma=None,\n",
       "              gpu_id=None, grow_policy=None, importance_type=None,\n",
       "              interaction_constraints=None, learning_rate=None, max_bin=None,\n",
       "              max_cat_to_onehot=None, max_delta_step=None, max_depth=9,\n",
       "              max_leaves=None, min_child_weight=None, missing=nan,\n",
       "              monotone_constraints=None, n_estimators=790, n_jobs=-1,\n",
       "              num_parallel_tree=None, predictor=None, random_state=53,\n",
       "              reg_alpha=0.19717266306739634, reg_lambda=0.24977899848494378, ...)</pre><b>In a Jupyter environment, please rerun this cell to show the HTML representation or trust the notebook. <br />On GitHub, the HTML representation is unable to render, please try loading this page with nbviewer.org.</b></div><div class=\"sk-container\" hidden><div class=\"sk-item\"><div class=\"sk-estimator sk-toggleable\"><input class=\"sk-toggleable__control sk-hidden--visually\" id=\"sk-estimator-id-2\" type=\"checkbox\" checked><label for=\"sk-estimator-id-2\" class=\"sk-toggleable__label sk-toggleable__label-arrow\">XGBClassifier</label><div class=\"sk-toggleable__content\"><pre>XGBClassifier(base_score=None, booster=&#x27;gbtree&#x27;, callbacks=None,\n",
       "              colsample_bylevel=None, colsample_bynode=None,\n",
       "              colsample_bytree=0.7718464790274386, early_stopping_rounds=None,\n",
       "              enable_categorical=False, eval_metric=None, gamma=None,\n",
       "              gpu_id=None, grow_policy=None, importance_type=None,\n",
       "              interaction_constraints=None, learning_rate=None, max_bin=None,\n",
       "              max_cat_to_onehot=None, max_delta_step=None, max_depth=9,\n",
       "              max_leaves=None, min_child_weight=None, missing=nan,\n",
       "              monotone_constraints=None, n_estimators=790, n_jobs=-1,\n",
       "              num_parallel_tree=None, predictor=None, random_state=53,\n",
       "              reg_alpha=0.19717266306739634, reg_lambda=0.24977899848494378, ...)</pre></div></div></div></div></div>"
      ],
      "text/plain": [
       "XGBClassifier(base_score=None, booster='gbtree', callbacks=None,\n",
       "              colsample_bylevel=None, colsample_bynode=None,\n",
       "              colsample_bytree=0.7718464790274386, early_stopping_rounds=None,\n",
       "              enable_categorical=False, eval_metric=None, gamma=None,\n",
       "              gpu_id=None, grow_policy=None, importance_type=None,\n",
       "              interaction_constraints=None, learning_rate=None, max_bin=None,\n",
       "              max_cat_to_onehot=None, max_delta_step=None, max_depth=9,\n",
       "              max_leaves=None, min_child_weight=None, missing=nan,\n",
       "              monotone_constraints=None, n_estimators=790, n_jobs=-1,\n",
       "              num_parallel_tree=None, predictor=None, random_state=53,\n",
       "              reg_alpha=0.19717266306739634, reg_lambda=0.24977899848494378, ...)"
      ]
     },
     "execution_count": 40,
     "metadata": {},
     "output_type": "execute_result"
    }
   ],
   "source": [
    "xgb_model = xgb.XGBClassifier(\n",
    "    booster='gbtree',\n",
    "    # scale_pos_weight=10,\n",
    "    n_jobs=-1,\n",
    "    random_state=53\n",
    ")\n",
    "xgb_model.set_params(**params)"
   ]
  },
  {
   "cell_type": "markdown",
   "id": "97be0e9d-4605-40cc-8525-76ceb07a4321",
   "metadata": {},
   "source": [
    "### 2.1.4. Random Forest"
   ]
  },
  {
   "cell_type": "markdown",
   "id": "b7b769b9-3424-4355-9fc5-93d216766781",
   "metadata": {},
   "source": [
    "Nous incluons également un modèle de bagging, un classificateur à base de Random Forest."
   ]
  },
  {
   "cell_type": "code",
   "execution_count": 41,
   "id": "79b9bb8c-dd4f-4bc3-a72a-b6fb752b99d3",
   "metadata": {},
   "outputs": [],
   "source": [
    "def objective(n_estimators, max_depth, max_features):\n",
    "    \n",
    "    \"\"\"\n",
    "    Fonction définissant un objectif à optimiser (maximiser), par optimisation bayésienne.\n",
    "    \"\"\"\n",
    "    \n",
    "    model = RandomForestClassifier(\n",
    "        n_estimators=int(round(n_estimators,0)),\n",
    "        max_depth=int(round(max_depth,0)),\n",
    "        max_features=max_features,\n",
    "        n_jobs=8,\n",
    "        random_state=53)\n",
    "\n",
    "    select_model = pipeline.Pipeline([('imputer', na_imputer),\n",
    "                                      ('sampler', rus),\n",
    "                                      ('model', model)\n",
    "                                     ])\n",
    "    \n",
    "    select_model.fit(X_train, y_train)\n",
    "    \n",
    "    y_score = select_model.predict(X_valid)\n",
    "    loss = custom_bin_loss(y_valid, y_score, 10)\n",
    "    \n",
    "    return -loss # Maximisation de la neg loss"
   ]
  },
  {
   "cell_type": "code",
   "execution_count": 42,
   "id": "36ff0c2e-e259-47f2-9965-0d246e16e01f",
   "metadata": {},
   "outputs": [],
   "source": [
    "search_space = {\n",
    "    'n_estimators': (100,500),\n",
    "    'max_depth': (5,10),\n",
    "    'max_features': (0.1,0.5)\n",
    "}"
   ]
  },
  {
   "cell_type": "code",
   "execution_count": 43,
   "id": "1b164cbe-8e52-4b97-906f-2b1a4342a943",
   "metadata": {},
   "outputs": [],
   "source": [
    "optimizer = bayes_opt.BayesianOptimization(\n",
    "    f=objective,\n",
    "    pbounds=search_space,\n",
    "    random_state=53\n",
    ")"
   ]
  },
  {
   "cell_type": "code",
   "execution_count": 44,
   "id": "484800d7-3507-41ce-a0c7-b5a849e45c9d",
   "metadata": {},
   "outputs": [
    {
     "name": "stdout",
     "output_type": "stream",
     "text": [
      "|   iter    |  target   | max_depth | max_fe... | n_esti... |\n",
      "-------------------------------------------------------------\n",
      "| \u001b[0m 1       \u001b[0m | \u001b[0m-3.34e+04\u001b[0m | \u001b[0m 9.233   \u001b[0m | \u001b[0m 0.3245  \u001b[0m | \u001b[0m 282.0   \u001b[0m |\n",
      "| \u001b[0m 2       \u001b[0m | \u001b[0m-3.444e+0\u001b[0m | \u001b[0m 6.761   \u001b[0m | \u001b[0m 0.3343  \u001b[0m | \u001b[0m 314.3   \u001b[0m |\n",
      "| \u001b[95m 3       \u001b[0m | \u001b[95m-3.333e+0\u001b[0m | \u001b[95m 9.137   \u001b[0m | \u001b[95m 0.2058  \u001b[0m | \u001b[95m 291.4   \u001b[0m |\n",
      "| \u001b[0m 4       \u001b[0m | \u001b[0m-3.375e+0\u001b[0m | \u001b[0m 6.739   \u001b[0m | \u001b[0m 0.1538  \u001b[0m | \u001b[0m 204.0   \u001b[0m |\n",
      "| \u001b[0m 5       \u001b[0m | \u001b[0m-3.505e+0\u001b[0m | \u001b[0m 5.238   \u001b[0m | \u001b[0m 0.2577  \u001b[0m | \u001b[0m 248.6   \u001b[0m |\n",
      "| \u001b[0m 6       \u001b[0m | \u001b[0m-3.399e+0\u001b[0m | \u001b[0m 8.005   \u001b[0m | \u001b[0m 0.4167  \u001b[0m | \u001b[0m 177.5   \u001b[0m |\n",
      "| \u001b[0m 7       \u001b[0m | \u001b[0m-3.402e+0\u001b[0m | \u001b[0m 8.226   \u001b[0m | \u001b[0m 0.3681  \u001b[0m | \u001b[0m 292.1   \u001b[0m |\n",
      "| \u001b[0m 8       \u001b[0m | \u001b[0m-3.494e+0\u001b[0m | \u001b[0m 5.416   \u001b[0m | \u001b[0m 0.2604  \u001b[0m | \u001b[0m 147.5   \u001b[0m |\n",
      "| \u001b[0m 9       \u001b[0m | \u001b[0m-3.373e+0\u001b[0m | \u001b[0m 8.665   \u001b[0m | \u001b[0m 0.363   \u001b[0m | \u001b[0m 290.5   \u001b[0m |\n",
      "| \u001b[95m 10      \u001b[0m | \u001b[95m-3.31e+04\u001b[0m | \u001b[95m 9.97    \u001b[0m | \u001b[95m 0.1612  \u001b[0m | \u001b[95m 292.2   \u001b[0m |\n",
      "| \u001b[95m 11      \u001b[0m | \u001b[95m-3.304e+0\u001b[0m | \u001b[95m 9.612   \u001b[0m | \u001b[95m 0.1603  \u001b[0m | \u001b[95m 279.3   \u001b[0m |\n",
      "| \u001b[0m 12      \u001b[0m | \u001b[0m-3.347e+0\u001b[0m | \u001b[0m 7.165   \u001b[0m | \u001b[0m 0.1015  \u001b[0m | \u001b[0m 279.3   \u001b[0m |\n",
      "| \u001b[0m 13      \u001b[0m | \u001b[0m-3.344e+0\u001b[0m | \u001b[0m 10.0    \u001b[0m | \u001b[0m 0.5     \u001b[0m | \u001b[0m 276.8   \u001b[0m |\n",
      "| \u001b[0m 14      \u001b[0m | \u001b[0m-3.369e+0\u001b[0m | \u001b[0m 6.24    \u001b[0m | \u001b[0m 0.1     \u001b[0m | \u001b[0m 274.8   \u001b[0m |\n",
      "| \u001b[0m 15      \u001b[0m | \u001b[0m-3.517e+0\u001b[0m | \u001b[0m 5.346   \u001b[0m | \u001b[0m 0.3752  \u001b[0m | \u001b[0m 283.6   \u001b[0m |\n",
      "| \u001b[95m 16      \u001b[0m | \u001b[95m-3.267e+0\u001b[0m | \u001b[95m 10.0    \u001b[0m | \u001b[95m 0.1     \u001b[0m | \u001b[95m 271.6   \u001b[0m |\n",
      "| \u001b[0m 17      \u001b[0m | \u001b[0m-3.306e+0\u001b[0m | \u001b[0m 9.51    \u001b[0m | \u001b[0m 0.2058  \u001b[0m | \u001b[0m 269.2   \u001b[0m |\n",
      "| \u001b[0m 18      \u001b[0m | \u001b[0m-3.407e+0\u001b[0m | \u001b[0m 7.488   \u001b[0m | \u001b[0m 0.254   \u001b[0m | \u001b[0m 271.0   \u001b[0m |\n",
      "| \u001b[0m 19      \u001b[0m | \u001b[0m-3.354e+0\u001b[0m | \u001b[0m 9.746   \u001b[0m | \u001b[0m 0.4889  \u001b[0m | \u001b[0m 273.6   \u001b[0m |\n",
      "| \u001b[0m 20      \u001b[0m | \u001b[0m-3.303e+0\u001b[0m | \u001b[0m 9.735   \u001b[0m | \u001b[0m 0.1767  \u001b[0m | \u001b[0m 266.3   \u001b[0m |\n",
      "| \u001b[0m 21      \u001b[0m | \u001b[0m-3.408e+0\u001b[0m | \u001b[0m 7.608   \u001b[0m | \u001b[0m 0.5     \u001b[0m | \u001b[0m 264.4   \u001b[0m |\n",
      "| \u001b[0m 22      \u001b[0m | \u001b[0m-3.268e+0\u001b[0m | \u001b[0m 9.994   \u001b[0m | \u001b[0m 0.1153  \u001b[0m | \u001b[0m 298.5   \u001b[0m |\n",
      "| \u001b[0m 23      \u001b[0m | \u001b[0m-3.271e+0\u001b[0m | \u001b[0m 10.0    \u001b[0m | \u001b[0m 0.1     \u001b[0m | \u001b[0m 300.6   \u001b[0m |\n",
      "| \u001b[0m 24      \u001b[0m | \u001b[0m-3.346e+0\u001b[0m | \u001b[0m 7.902   \u001b[0m | \u001b[0m 0.1484  \u001b[0m | \u001b[0m 299.6   \u001b[0m |\n",
      "| \u001b[0m 25      \u001b[0m | \u001b[0m-3.337e+0\u001b[0m | \u001b[0m 9.871   \u001b[0m | \u001b[0m 0.3842  \u001b[0m | \u001b[0m 303.5   \u001b[0m |\n",
      "| \u001b[0m 26      \u001b[0m | \u001b[0m-3.295e+0\u001b[0m | \u001b[0m 9.879   \u001b[0m | \u001b[0m 0.1367  \u001b[0m | \u001b[0m 296.2   \u001b[0m |\n",
      "| \u001b[0m 27      \u001b[0m | \u001b[0m-3.329e+0\u001b[0m | \u001b[0m 10.0    \u001b[0m | \u001b[0m 0.5     \u001b[0m | \u001b[0m 100.0   \u001b[0m |\n",
      "| \u001b[0m 28      \u001b[0m | \u001b[0m-3.364e+0\u001b[0m | \u001b[0m 8.557   \u001b[0m | \u001b[0m 0.2582  \u001b[0m | \u001b[0m 103.8   \u001b[0m |\n",
      "| \u001b[0m 29      \u001b[0m | \u001b[0m-3.437e+0\u001b[0m | \u001b[0m 6.082   \u001b[0m | \u001b[0m 0.1954  \u001b[0m | \u001b[0m 100.1   \u001b[0m |\n",
      "| \u001b[0m 30      \u001b[0m | \u001b[0m-3.346e+0\u001b[0m | \u001b[0m 9.715   \u001b[0m | \u001b[0m 0.3123  \u001b[0m | \u001b[0m 112.0   \u001b[0m |\n",
      "=============================================================\n"
     ]
    }
   ],
   "source": [
    "optimizer.maximize()"
   ]
  },
  {
   "cell_type": "code",
   "execution_count": 45,
   "id": "5a885512-cfd8-4141-80b0-394f37950bf4",
   "metadata": {},
   "outputs": [],
   "source": [
    "params = optimizer.max['params']\n",
    "params['n_estimators'] = int(round(params['n_estimators'],0))\n",
    "params['max_depth'] = int(round(params['max_depth'],0))"
   ]
  },
  {
   "cell_type": "code",
   "execution_count": 46,
   "id": "9008352c-a970-4839-be02-f59831f79767",
   "metadata": {},
   "outputs": [
    {
     "data": {
      "text/html": [
       "<style>#sk-container-id-3 {color: black;background-color: white;}#sk-container-id-3 pre{padding: 0;}#sk-container-id-3 div.sk-toggleable {background-color: white;}#sk-container-id-3 label.sk-toggleable__label {cursor: pointer;display: block;width: 100%;margin-bottom: 0;padding: 0.3em;box-sizing: border-box;text-align: center;}#sk-container-id-3 label.sk-toggleable__label-arrow:before {content: \"▸\";float: left;margin-right: 0.25em;color: #696969;}#sk-container-id-3 label.sk-toggleable__label-arrow:hover:before {color: black;}#sk-container-id-3 div.sk-estimator:hover label.sk-toggleable__label-arrow:before {color: black;}#sk-container-id-3 div.sk-toggleable__content {max-height: 0;max-width: 0;overflow: hidden;text-align: left;background-color: #f0f8ff;}#sk-container-id-3 div.sk-toggleable__content pre {margin: 0.2em;color: black;border-radius: 0.25em;background-color: #f0f8ff;}#sk-container-id-3 input.sk-toggleable__control:checked~div.sk-toggleable__content {max-height: 200px;max-width: 100%;overflow: auto;}#sk-container-id-3 input.sk-toggleable__control:checked~label.sk-toggleable__label-arrow:before {content: \"▾\";}#sk-container-id-3 div.sk-estimator input.sk-toggleable__control:checked~label.sk-toggleable__label {background-color: #d4ebff;}#sk-container-id-3 div.sk-label input.sk-toggleable__control:checked~label.sk-toggleable__label {background-color: #d4ebff;}#sk-container-id-3 input.sk-hidden--visually {border: 0;clip: rect(1px 1px 1px 1px);clip: rect(1px, 1px, 1px, 1px);height: 1px;margin: -1px;overflow: hidden;padding: 0;position: absolute;width: 1px;}#sk-container-id-3 div.sk-estimator {font-family: monospace;background-color: #f0f8ff;border: 1px dotted black;border-radius: 0.25em;box-sizing: border-box;margin-bottom: 0.5em;}#sk-container-id-3 div.sk-estimator:hover {background-color: #d4ebff;}#sk-container-id-3 div.sk-parallel-item::after {content: \"\";width: 100%;border-bottom: 1px solid gray;flex-grow: 1;}#sk-container-id-3 div.sk-label:hover label.sk-toggleable__label {background-color: #d4ebff;}#sk-container-id-3 div.sk-serial::before {content: \"\";position: absolute;border-left: 1px solid gray;box-sizing: border-box;top: 0;bottom: 0;left: 50%;z-index: 0;}#sk-container-id-3 div.sk-serial {display: flex;flex-direction: column;align-items: center;background-color: white;padding-right: 0.2em;padding-left: 0.2em;position: relative;}#sk-container-id-3 div.sk-item {position: relative;z-index: 1;}#sk-container-id-3 div.sk-parallel {display: flex;align-items: stretch;justify-content: center;background-color: white;position: relative;}#sk-container-id-3 div.sk-item::before, #sk-container-id-3 div.sk-parallel-item::before {content: \"\";position: absolute;border-left: 1px solid gray;box-sizing: border-box;top: 0;bottom: 0;left: 50%;z-index: -1;}#sk-container-id-3 div.sk-parallel-item {display: flex;flex-direction: column;z-index: 1;position: relative;background-color: white;}#sk-container-id-3 div.sk-parallel-item:first-child::after {align-self: flex-end;width: 50%;}#sk-container-id-3 div.sk-parallel-item:last-child::after {align-self: flex-start;width: 50%;}#sk-container-id-3 div.sk-parallel-item:only-child::after {width: 0;}#sk-container-id-3 div.sk-dashed-wrapped {border: 1px dashed gray;margin: 0 0.4em 0.5em 0.4em;box-sizing: border-box;padding-bottom: 0.4em;background-color: white;}#sk-container-id-3 div.sk-label label {font-family: monospace;font-weight: bold;display: inline-block;line-height: 1.2em;}#sk-container-id-3 div.sk-label-container {text-align: center;}#sk-container-id-3 div.sk-container {/* jupyter's `normalize.less` sets `[hidden] { display: none; }` but bootstrap.min.css set `[hidden] { display: none !important; }` so we also need the `!important` here to be able to override the default hidden behavior on the sphinx rendered scikit-learn.org. See: https://github.com/scikit-learn/scikit-learn/issues/21755 */display: inline-block !important;position: relative;}#sk-container-id-3 div.sk-text-repr-fallback {display: none;}</style><div id=\"sk-container-id-3\" class=\"sk-top-container\"><div class=\"sk-text-repr-fallback\"><pre>RandomForestClassifier(max_depth=10, max_features=0.1, n_estimators=272,\n",
       "                       n_jobs=8, random_state=53)</pre><b>In a Jupyter environment, please rerun this cell to show the HTML representation or trust the notebook. <br />On GitHub, the HTML representation is unable to render, please try loading this page with nbviewer.org.</b></div><div class=\"sk-container\" hidden><div class=\"sk-item\"><div class=\"sk-estimator sk-toggleable\"><input class=\"sk-toggleable__control sk-hidden--visually\" id=\"sk-estimator-id-3\" type=\"checkbox\" checked><label for=\"sk-estimator-id-3\" class=\"sk-toggleable__label sk-toggleable__label-arrow\">RandomForestClassifier</label><div class=\"sk-toggleable__content\"><pre>RandomForestClassifier(max_depth=10, max_features=0.1, n_estimators=272,\n",
       "                       n_jobs=8, random_state=53)</pre></div></div></div></div></div>"
      ],
      "text/plain": [
       "RandomForestClassifier(max_depth=10, max_features=0.1, n_estimators=272,\n",
       "                       n_jobs=8, random_state=53)"
      ]
     },
     "execution_count": 46,
     "metadata": {},
     "output_type": "execute_result"
    }
   ],
   "source": [
    "rf_model = RandomForestClassifier(\n",
    "    n_jobs=8,\n",
    "    random_state=53\n",
    ")\n",
    "rf_model.set_params(**params)"
   ]
  },
  {
   "cell_type": "markdown",
   "id": "f434352e-a5a0-4d9d-a234-2bac42fb0517",
   "metadata": {},
   "source": [
    "## 2.2. Choix du modèle"
   ]
  },
  {
   "cell_type": "markdown",
   "id": "09d86875-4323-4628-adce-bbae8c3e263e",
   "metadata": {},
   "source": [
    "Nous comparons désormais les modèles entre eux. Pour ce faire, nous nous concentrerons sur la fonction de coût métier, mais pourrons tenir compte d'autres mesures, comme notamment le temps d'entraînement et le score AUC."
   ]
  },
  {
   "cell_type": "code",
   "execution_count": 47,
   "id": "22eab7ca-1420-4d43-b905-ba9e1a121185",
   "metadata": {},
   "outputs": [],
   "source": [
    "models = [lgb_model, cb_model, xgb_model, rf_model]\n",
    "model_names = ['LGB', 'ClassBoost', 'XGB', 'RF']\n",
    "roc_list = []\n",
    "scores_list = []\n",
    "\n",
    "for model, name in zip(models, model_names):\n",
    "    score_dict = {}\n",
    "    score_dict['model'] = name\n",
    "    roc_dict = {}\n",
    "    roc_dict['model'] = name\n",
    "    select_model = pipeline.Pipeline([('imputer', na_imputer),\n",
    "                                      ('sampler', rus),\n",
    "                                      ('model', model)\n",
    "                                     ])\n",
    "    t0 = time.time()\n",
    "    select_model.fit(X_train, y_train)\n",
    "    score_dict['train_time'] = time.time()-t0\n",
    "    \n",
    "    t0 = time.time()\n",
    "    probs = select_model.predict_proba(X_valid)\n",
    "    score_dict['pred_time'] = time.time()-t0\n",
    "    \n",
    "    y_pred = select_model.predict(X_valid)\n",
    "    \n",
    "    fpr, tpr, thresh = roc_curve(y_valid, probs[:,1], pos_label=1)\n",
    "    roc_dict['fpr'] = fpr\n",
    "    roc_dict['tpr'] = tpr\n",
    "    roc_list.append(roc_dict)\n",
    "    \n",
    "    score_dict['Neg_Loss'] = -custom_bin_loss(y_valid, y_pred, 10)\n",
    "    score_dict['AUC'] = roc_auc_score(y_valid, probs[:,1])\n",
    "    score_dict['Bal_Accuracy'] = balanced_accuracy_score(y_valid, y_pred)\n",
    "    score_dict['Fbeta'] = fbeta_score(y_valid, y_pred, beta=10)\n",
    "    scores_list.append(score_dict)\n",
    "    \n",
    "    del t0, probs, y_pred, fpr, tpr, thresh, roc_dict, score_dict, select_model\n",
    "    gc.collect()"
   ]
  },
  {
   "cell_type": "code",
   "execution_count": 48,
   "id": "67ef88af-17d0-4bc2-9c64-ba3f1e7be392",
   "metadata": {},
   "outputs": [],
   "source": [
    "# ROC pour modèle aléatoitre(fpr = tpr), pour visualisation\n",
    "random_probs = [0 for i in range(len(y_valid))]\n",
    "p_fpr, p_tpr, _ = roc_curve(y_valid, random_probs, pos_label=1)"
   ]
  },
  {
   "cell_type": "code",
   "execution_count": 49,
   "id": "7738242c-55a9-4a64-aa93-8db470de4cf9",
   "metadata": {},
   "outputs": [
    {
     "data": {
      "image/png": "[encoded data removed]",
      "text/plain": [
       "<Figure size 720x720 with 1 Axes>"
      ]
     },
     "metadata": {
      "needs_background": "light"
     },
     "output_type": "display_data"
    }
   ],
   "source": [
    "plt.figure(figsize=(10,10))\n",
    "for roc in roc_list:\n",
    "    plt.plot(roc['fpr'], roc['tpr'], linestyle='--', label=roc['model'])\n",
    "plt.plot(p_fpr, p_tpr, linestyle='-', label='Modèle aléatoire')\n",
    "plt.legend()\n",
    "plt.xlabel('Taux de faux positifs')\n",
    "plt.ylabel('Taux de vrais positifs')\n",
    "plt.title('Courbe ROC', pad=20)\n",
    "plt.show()"
   ]
  },
  {
   "cell_type": "code",
   "execution_count": 50,
   "id": "aa54428c-c641-44a9-a288-8a0dc1229369",
   "metadata": {},
   "outputs": [
    {
     "data": {
      "text/html": [
       "<div>\n",
       "<style scoped>\n",
       "    .dataframe tbody tr th:only-of-type {\n",
       "        vertical-align: middle;\n",
       "    }\n",
       "\n",
       "    .dataframe tbody tr th {\n",
       "        vertical-align: top;\n",
       "    }\n",
       "\n",
       "    .dataframe thead th {\n",
       "        text-align: right;\n",
       "    }\n",
       "</style>\n",
       "<table border=\"1\" class=\"dataframe\">\n",
       "  <thead>\n",
       "    <tr style=\"text-align: right;\">\n",
       "      <th></th>\n",
       "      <th>train_time</th>\n",
       "      <th>pred_time</th>\n",
       "      <th>Neg_Loss</th>\n",
       "      <th>AUC</th>\n",
       "      <th>Bal_Accuracy</th>\n",
       "      <th>Fbeta</th>\n",
       "    </tr>\n",
       "    <tr>\n",
       "      <th>model</th>\n",
       "      <th></th>\n",
       "      <th></th>\n",
       "      <th></th>\n",
       "      <th></th>\n",
       "      <th></th>\n",
       "      <th></th>\n",
       "    </tr>\n",
       "  </thead>\n",
       "  <tbody>\n",
       "    <tr>\n",
       "      <th>LGB</th>\n",
       "      <td>6.410937</td>\n",
       "      <td>0.706575</td>\n",
       "      <td>-30658</td>\n",
       "      <td>0.780605</td>\n",
       "      <td>0.711647</td>\n",
       "      <td>0.696101</td>\n",
       "    </tr>\n",
       "    <tr>\n",
       "      <th>ClassBoost</th>\n",
       "      <td>93.963049</td>\n",
       "      <td>0.528234</td>\n",
       "      <td>-30397</td>\n",
       "      <td>0.785643</td>\n",
       "      <td>0.714029</td>\n",
       "      <td>0.697538</td>\n",
       "    </tr>\n",
       "    <tr>\n",
       "      <th>XGB</th>\n",
       "      <td>69.026115</td>\n",
       "      <td>0.810480</td>\n",
       "      <td>-31622</td>\n",
       "      <td>0.771934</td>\n",
       "      <td>0.702435</td>\n",
       "      <td>0.684693</td>\n",
       "    </tr>\n",
       "    <tr>\n",
       "      <th>RF</th>\n",
       "      <td>16.008961</td>\n",
       "      <td>0.777058</td>\n",
       "      <td>-32667</td>\n",
       "      <td>0.760097</td>\n",
       "      <td>0.692801</td>\n",
       "      <td>0.677534</td>\n",
       "    </tr>\n",
       "  </tbody>\n",
       "</table>\n",
       "</div>"
      ],
      "text/plain": [
       "            train_time  pred_time  Neg_Loss       AUC  Bal_Accuracy     Fbeta\n",
       "model                                                                        \n",
       "LGB           6.410937   0.706575    -30658  0.780605      0.711647  0.696101\n",
       "ClassBoost   93.963049   0.528234    -30397  0.785643      0.714029  0.697538\n",
       "XGB          69.026115   0.810480    -31622  0.771934      0.702435  0.684693\n",
       "RF           16.008961   0.777058    -32667  0.760097      0.692801  0.677534"
      ]
     },
     "execution_count": 50,
     "metadata": {},
     "output_type": "execute_result"
    }
   ],
   "source": [
    "scores_list = pd.DataFrame.from_dict(scores_list)\n",
    "scores_list.set_index('model', inplace=True)\n",
    "scores_list"
   ]
  },
  {
   "cell_type": "code",
   "execution_count": 51,
   "id": "6adca3b9-3db0-4355-9ad9-5e1906db0662",
   "metadata": {},
   "outputs": [],
   "source": [
    "nrow, ncols = get_n_rowcol(scores_list.columns)"
   ]
  },
  {
   "cell_type": "code",
   "execution_count": 52,
   "id": "95185a54-b172-442c-b4f1-82c88bcd4515",
   "metadata": {},
   "outputs": [
    {
     "data": {
      "image/png": "[encoded data removed]",
      "text/plain": [
       "<Figure size 720x1080 with 6 Axes>"
      ]
     },
     "metadata": {
      "needs_background": "light"
     },
     "output_type": "display_data"
    }
   ],
   "source": [
    "fig, axes = plt.subplots(nrow, ncols, figsize=(ncols*5, nrow*5))\n",
    "\n",
    "for ax, metric in zip(fig.axes, scores_list.columns):\n",
    "    sns.barplot(\n",
    "        x=scores_list.index,\n",
    "        y=scores_list[metric],\n",
    "        ax=ax\n",
    "    )\n",
    "    if metric == 'train_time':\n",
    "        ax.set_title(f\"{metric} sur set d'entraînement\", pad=15)\n",
    "    else:\n",
    "        ax.set_title(f\"{metric} sur set de validation\", pad=15)\n",
    "    ax.set_xlabel(\"Modèle\")\n",
    "fig.suptitle(\"Aperçu des scores par modèle\", y=1.01, fontsize=15)\n",
    "fig.set_tight_layout(True)\n",
    "plt.show()"
   ]
  },
  {
   "cell_type": "code",
   "execution_count": 53,
   "id": "6e5edbef-6bb9-454b-9c26-3dd09d8c4a74",
   "metadata": {},
   "outputs": [
    {
     "name": "stdout",
     "output_type": "stream",
     "text": [
      "Le meilleur score est obtenu avec le modèle ClassBoost, avec un coût métier de 30397.000 sur set de validation.\n"
     ]
    }
   ],
   "source": [
    "best_name = scores_list['Neg_Loss'].idxmax()\n",
    "print(f\"Le meilleur score est obtenu avec le modèle {best_name}, avec un coût métier de {-scores_list['Neg_Loss'].max():.3f} sur set de validation.\")"
   ]
  },
  {
   "cell_type": "markdown",
   "id": "4fa9e201-36f9-4172-8a05-b425c42567d4",
   "metadata": {},
   "source": [
    "Néanmoins, les scores obtenus avec le modèle LGBoost étant proches, et le temps d'entraînement étant pratiquement un ordre de grandeur inférieur, nous proposons de retenir ce dernier."
   ]
  },
  {
   "cell_type": "code",
   "execution_count": 54,
   "id": "53b67512-f84d-4200-9007-8ade9529c7ef",
   "metadata": {},
   "outputs": [
    {
     "data": {
      "text/html": [
       "<style>#sk-container-id-4 {color: black;background-color: white;}#sk-container-id-4 pre{padding: 0;}#sk-container-id-4 div.sk-toggleable {background-color: white;}#sk-container-id-4 label.sk-toggleable__label {cursor: pointer;display: block;width: 100%;margin-bottom: 0;padding: 0.3em;box-sizing: border-box;text-align: center;}#sk-container-id-4 label.sk-toggleable__label-arrow:before {content: \"▸\";float: left;margin-right: 0.25em;color: #696969;}#sk-container-id-4 label.sk-toggleable__label-arrow:hover:before {color: black;}#sk-container-id-4 div.sk-estimator:hover label.sk-toggleable__label-arrow:before {color: black;}#sk-container-id-4 div.sk-toggleable__content {max-height: 0;max-width: 0;overflow: hidden;text-align: left;background-color: #f0f8ff;}#sk-container-id-4 div.sk-toggleable__content pre {margin: 0.2em;color: black;border-radius: 0.25em;background-color: #f0f8ff;}#sk-container-id-4 input.sk-toggleable__control:checked~div.sk-toggleable__content {max-height: 200px;max-width: 100%;overflow: auto;}#sk-container-id-4 input.sk-toggleable__control:checked~label.sk-toggleable__label-arrow:before {content: \"▾\";}#sk-container-id-4 div.sk-estimator input.sk-toggleable__control:checked~label.sk-toggleable__label {background-color: #d4ebff;}#sk-container-id-4 div.sk-label input.sk-toggleable__control:checked~label.sk-toggleable__label {background-color: #d4ebff;}#sk-container-id-4 input.sk-hidden--visually {border: 0;clip: rect(1px 1px 1px 1px);clip: rect(1px, 1px, 1px, 1px);height: 1px;margin: -1px;overflow: hidden;padding: 0;position: absolute;width: 1px;}#sk-container-id-4 div.sk-estimator {font-family: monospace;background-color: #f0f8ff;border: 1px dotted black;border-radius: 0.25em;box-sizing: border-box;margin-bottom: 0.5em;}#sk-container-id-4 div.sk-estimator:hover {background-color: #d4ebff;}#sk-container-id-4 div.sk-parallel-item::after {content: \"\";width: 100%;border-bottom: 1px solid gray;flex-grow: 1;}#sk-container-id-4 div.sk-label:hover label.sk-toggleable__label {background-color: #d4ebff;}#sk-container-id-4 div.sk-serial::before {content: \"\";position: absolute;border-left: 1px solid gray;box-sizing: border-box;top: 0;bottom: 0;left: 50%;z-index: 0;}#sk-container-id-4 div.sk-serial {display: flex;flex-direction: column;align-items: center;background-color: white;padding-right: 0.2em;padding-left: 0.2em;position: relative;}#sk-container-id-4 div.sk-item {position: relative;z-index: 1;}#sk-container-id-4 div.sk-parallel {display: flex;align-items: stretch;justify-content: center;background-color: white;position: relative;}#sk-container-id-4 div.sk-item::before, #sk-container-id-4 div.sk-parallel-item::before {content: \"\";position: absolute;border-left: 1px solid gray;box-sizing: border-box;top: 0;bottom: 0;left: 50%;z-index: -1;}#sk-container-id-4 div.sk-parallel-item {display: flex;flex-direction: column;z-index: 1;position: relative;background-color: white;}#sk-container-id-4 div.sk-parallel-item:first-child::after {align-self: flex-end;width: 50%;}#sk-container-id-4 div.sk-parallel-item:last-child::after {align-self: flex-start;width: 50%;}#sk-container-id-4 div.sk-parallel-item:only-child::after {width: 0;}#sk-container-id-4 div.sk-dashed-wrapped {border: 1px dashed gray;margin: 0 0.4em 0.5em 0.4em;box-sizing: border-box;padding-bottom: 0.4em;background-color: white;}#sk-container-id-4 div.sk-label label {font-family: monospace;font-weight: bold;display: inline-block;line-height: 1.2em;}#sk-container-id-4 div.sk-label-container {text-align: center;}#sk-container-id-4 div.sk-container {/* jupyter's `normalize.less` sets `[hidden] { display: none; }` but bootstrap.min.css set `[hidden] { display: none !important; }` so we also need the `!important` here to be able to override the default hidden behavior on the sphinx rendered scikit-learn.org. See: https://github.com/scikit-learn/scikit-learn/issues/21755 */display: inline-block !important;position: relative;}#sk-container-id-4 div.sk-text-repr-fallback {display: none;}</style><div id=\"sk-container-id-4\" class=\"sk-top-container\"><div class=\"sk-text-repr-fallback\"><pre>LGBMClassifier(metric=&#x27;accuracy&#x27;, n_estimators=288, num_leaves=25,\n",
       "               objective=&#x27;binary&#x27;, random_state=53,\n",
       "               reg_alpha=0.5207205272522514, reg_lambda=0.6036103389804524)</pre><b>In a Jupyter environment, please rerun this cell to show the HTML representation or trust the notebook. <br />On GitHub, the HTML representation is unable to render, please try loading this page with nbviewer.org.</b></div><div class=\"sk-container\" hidden><div class=\"sk-item\"><div class=\"sk-estimator sk-toggleable\"><input class=\"sk-toggleable__control sk-hidden--visually\" id=\"sk-estimator-id-4\" type=\"checkbox\" checked><label for=\"sk-estimator-id-4\" class=\"sk-toggleable__label sk-toggleable__label-arrow\">LGBMClassifier</label><div class=\"sk-toggleable__content\"><pre>LGBMClassifier(metric=&#x27;accuracy&#x27;, n_estimators=288, num_leaves=25,\n",
       "               objective=&#x27;binary&#x27;, random_state=53,\n",
       "               reg_alpha=0.5207205272522514, reg_lambda=0.6036103389804524)</pre></div></div></div></div></div>"
      ],
      "text/plain": [
       "LGBMClassifier(metric='accuracy', n_estimators=288, num_leaves=25,\n",
       "               objective='binary', random_state=53,\n",
       "               reg_alpha=0.5207205272522514, reg_lambda=0.6036103389804524)"
      ]
     },
     "execution_count": 54,
     "metadata": {},
     "output_type": "execute_result"
    }
   ],
   "source": [
    "model = lgb_model\n",
    "model"
   ]
  },
  {
   "cell_type": "markdown",
   "id": "9f360464-836c-4aa3-b458-71dafb5bf6d9",
   "metadata": {},
   "source": [
    "## 2.3. Choix de la méthode de sampling"
   ]
  },
  {
   "cell_type": "markdown",
   "id": "1d82b899-fa8a-4340-af81-aebd56466fa3",
   "metadata": {},
   "source": [
    "Nous nous intéressons désormais à la méthode de sampling. Pour le moment, nous avons retenu un under-sampling, pour des raisons de rapidité d'entraînement. Néanmoins, cette méthode ne nous permet pas d'utiliser la base complète. Nous allons donc comparer la performance obtenue en utilisant l'under-sampling, l'over-sampling, et une méthode SMOTE (plus risquée, compte tenu de la quantité de valeurs imputées)."
   ]
  },
  {
   "cell_type": "code",
   "execution_count": 55,
   "id": "83ee0da7-5d02-4b96-82f7-4115b32074ac",
   "metadata": {},
   "outputs": [],
   "source": [
    "rus = under_sampling.RandomUnderSampler(random_state=52)\n",
    "ros = over_sampling.RandomOverSampler(random_state=52)\n",
    "smote = over_sampling.SMOTE(random_state=52)"
   ]
  },
  {
   "cell_type": "code",
   "execution_count": 56,
   "id": "853ba2af-ed98-48f7-961b-5a9b23cd0b9e",
   "metadata": {},
   "outputs": [],
   "source": [
    "samplers = [rus, ros, smote]\n",
    "sampler_names = ['Under Sampling', 'Over Sampling', 'SMOTE']"
   ]
  },
  {
   "cell_type": "code",
   "execution_count": 57,
   "id": "59ab27fb-f599-4d3c-86ca-eb7bde2bc593",
   "metadata": {},
   "outputs": [],
   "source": [
    "roc_list = []\n",
    "scores_list = []\n",
    "\n",
    "for sampler, name in zip(samplers, sampler_names):\n",
    "    score_dict = {}\n",
    "    score_dict['sampler'] = name\n",
    "    roc_dict = {}\n",
    "    roc_dict['sampler'] = name\n",
    "    sampler_model = pipeline.Pipeline([('imputer', na_imputer),\n",
    "                                       ('sampler', sampler),\n",
    "                                       ('model', model)\n",
    "                                      ])\n",
    "    \n",
    "    t0 = time.time()\n",
    "    sampler_model.fit(X_train, y_train)\n",
    "    score_dict['train_time'] = time.time()-t0\n",
    "    \n",
    "    t0 = time.time()\n",
    "    probs = sampler_model.predict_proba(X_valid)\n",
    "    score_dict['pred_time'] = time.time()-t0\n",
    "    \n",
    "    y_pred = sampler_model.predict(X_valid)\n",
    "       \n",
    "    fpr, tpr, thresh = roc_curve(y_valid, probs[:,1], pos_label=1)\n",
    "    roc_dict['fpr'] = fpr\n",
    "    roc_dict['tpr'] = tpr\n",
    "    roc_list.append(roc_dict)\n",
    "    \n",
    "    score_dict['Neg_Loss'] = -custom_bin_loss(y_valid, y_pred, 10)\n",
    "    score_dict['AUC'] = roc_auc_score(y_valid, probs[:,1])\n",
    "    score_dict['Bal_Accuracy'] = balanced_accuracy_score(y_valid, y_pred)\n",
    "    score_dict['Fbeta'] = fbeta_score(y_valid, y_pred, beta=10)\n",
    "    scores_list.append(score_dict)\n",
    "    \n",
    "    del t0, probs, y_pred, fpr, tpr, thresh, roc_dict, score_dict, sampler_model\n",
    "    gc.collect()"
   ]
  },
  {
   "cell_type": "code",
   "execution_count": 58,
   "id": "7e28b92c-be72-404d-9da9-e6f61904bf62",
   "metadata": {},
   "outputs": [
    {
     "data": {
      "text/html": [
       "<div>\n",
       "<style scoped>\n",
       "    .dataframe tbody tr th:only-of-type {\n",
       "        vertical-align: middle;\n",
       "    }\n",
       "\n",
       "    .dataframe tbody tr th {\n",
       "        vertical-align: top;\n",
       "    }\n",
       "\n",
       "    .dataframe thead th {\n",
       "        text-align: right;\n",
       "    }\n",
       "</style>\n",
       "<table border=\"1\" class=\"dataframe\">\n",
       "  <thead>\n",
       "    <tr style=\"text-align: right;\">\n",
       "      <th></th>\n",
       "      <th>train_time</th>\n",
       "      <th>pred_time</th>\n",
       "      <th>Neg_Loss</th>\n",
       "      <th>AUC</th>\n",
       "      <th>Bal_Accuracy</th>\n",
       "      <th>Fbeta</th>\n",
       "    </tr>\n",
       "    <tr>\n",
       "      <th>sampler</th>\n",
       "      <th></th>\n",
       "      <th></th>\n",
       "      <th></th>\n",
       "      <th></th>\n",
       "      <th></th>\n",
       "      <th></th>\n",
       "    </tr>\n",
       "  </thead>\n",
       "  <tbody>\n",
       "    <tr>\n",
       "      <th>Under Sampling</th>\n",
       "      <td>6.311818</td>\n",
       "      <td>0.679714</td>\n",
       "      <td>-30658</td>\n",
       "      <td>0.780605</td>\n",
       "      <td>0.711647</td>\n",
       "      <td>0.696101</td>\n",
       "    </tr>\n",
       "    <tr>\n",
       "      <th>Over Sampling</th>\n",
       "      <td>29.953108</td>\n",
       "      <td>0.771994</td>\n",
       "      <td>-30087</td>\n",
       "      <td>0.787658</td>\n",
       "      <td>0.713666</td>\n",
       "      <td>0.651967</td>\n",
       "    </tr>\n",
       "    <tr>\n",
       "      <th>SMOTE</th>\n",
       "      <td>44.401688</td>\n",
       "      <td>0.768236</td>\n",
       "      <td>-47498</td>\n",
       "      <td>0.787447</td>\n",
       "      <td>0.521878</td>\n",
       "      <td>0.047156</td>\n",
       "    </tr>\n",
       "  </tbody>\n",
       "</table>\n",
       "</div>"
      ],
      "text/plain": [
       "                train_time  pred_time  Neg_Loss       AUC  Bal_Accuracy  \\\n",
       "sampler                                                                   \n",
       "Under Sampling    6.311818   0.679714    -30658  0.780605      0.711647   \n",
       "Over Sampling    29.953108   0.771994    -30087  0.787658      0.713666   \n",
       "SMOTE            44.401688   0.768236    -47498  0.787447      0.521878   \n",
       "\n",
       "                   Fbeta  \n",
       "sampler                   \n",
       "Under Sampling  0.696101  \n",
       "Over Sampling   0.651967  \n",
       "SMOTE           0.047156  "
      ]
     },
     "execution_count": 58,
     "metadata": {},
     "output_type": "execute_result"
    }
   ],
   "source": [
    "scores_list = pd.DataFrame.from_dict(scores_list)\n",
    "scores_list.set_index('sampler', inplace=True)\n",
    "scores_list"
   ]
  },
  {
   "cell_type": "code",
   "execution_count": 59,
   "id": "8fcf7f78-2a18-4efd-a145-835468af838a",
   "metadata": {},
   "outputs": [
    {
     "name": "stdout",
     "output_type": "stream",
     "text": [
      "Le meilleur modèle est obtenu avec la méthode Over Sampling, avec un coût métier de 30087.000.\n"
     ]
    }
   ],
   "source": [
    "best_name = scores_list['Neg_Loss'].idxmax()\n",
    "print(f\"Le meilleur modèle est obtenu avec la méthode {best_name}, avec un coût métier de {-scores_list['Neg_Loss'].max():.3f}.\")"
   ]
  },
  {
   "cell_type": "code",
   "execution_count": 60,
   "id": "5c0d7b19-bdfb-433a-a669-c4529e3060dc",
   "metadata": {},
   "outputs": [
    {
     "data": {
      "text/html": [
       "<style>#sk-container-id-5 {color: black;background-color: white;}#sk-container-id-5 pre{padding: 0;}#sk-container-id-5 div.sk-toggleable {background-color: white;}#sk-container-id-5 label.sk-toggleable__label {cursor: pointer;display: block;width: 100%;margin-bottom: 0;padding: 0.3em;box-sizing: border-box;text-align: center;}#sk-container-id-5 label.sk-toggleable__label-arrow:before {content: \"▸\";float: left;margin-right: 0.25em;color: #696969;}#sk-container-id-5 label.sk-toggleable__label-arrow:hover:before {color: black;}#sk-container-id-5 div.sk-estimator:hover label.sk-toggleable__label-arrow:before {color: black;}#sk-container-id-5 div.sk-toggleable__content {max-height: 0;max-width: 0;overflow: hidden;text-align: left;background-color: #f0f8ff;}#sk-container-id-5 div.sk-toggleable__content pre {margin: 0.2em;color: black;border-radius: 0.25em;background-color: #f0f8ff;}#sk-container-id-5 input.sk-toggleable__control:checked~div.sk-toggleable__content {max-height: 200px;max-width: 100%;overflow: auto;}#sk-container-id-5 input.sk-toggleable__control:checked~label.sk-toggleable__label-arrow:before {content: \"▾\";}#sk-container-id-5 div.sk-estimator input.sk-toggleable__control:checked~label.sk-toggleable__label {background-color: #d4ebff;}#sk-container-id-5 div.sk-label input.sk-toggleable__control:checked~label.sk-toggleable__label {background-color: #d4ebff;}#sk-container-id-5 input.sk-hidden--visually {border: 0;clip: rect(1px 1px 1px 1px);clip: rect(1px, 1px, 1px, 1px);height: 1px;margin: -1px;overflow: hidden;padding: 0;position: absolute;width: 1px;}#sk-container-id-5 div.sk-estimator {font-family: monospace;background-color: #f0f8ff;border: 1px dotted black;border-radius: 0.25em;box-sizing: border-box;margin-bottom: 0.5em;}#sk-container-id-5 div.sk-estimator:hover {background-color: #d4ebff;}#sk-container-id-5 div.sk-parallel-item::after {content: \"\";width: 100%;border-bottom: 1px solid gray;flex-grow: 1;}#sk-container-id-5 div.sk-label:hover label.sk-toggleable__label {background-color: #d4ebff;}#sk-container-id-5 div.sk-serial::before {content: \"\";position: absolute;border-left: 1px solid gray;box-sizing: border-box;top: 0;bottom: 0;left: 50%;z-index: 0;}#sk-container-id-5 div.sk-serial {display: flex;flex-direction: column;align-items: center;background-color: white;padding-right: 0.2em;padding-left: 0.2em;position: relative;}#sk-container-id-5 div.sk-item {position: relative;z-index: 1;}#sk-container-id-5 div.sk-parallel {display: flex;align-items: stretch;justify-content: center;background-color: white;position: relative;}#sk-container-id-5 div.sk-item::before, #sk-container-id-5 div.sk-parallel-item::before {content: \"\";position: absolute;border-left: 1px solid gray;box-sizing: border-box;top: 0;bottom: 0;left: 50%;z-index: -1;}#sk-container-id-5 div.sk-parallel-item {display: flex;flex-direction: column;z-index: 1;position: relative;background-color: white;}#sk-container-id-5 div.sk-parallel-item:first-child::after {align-self: flex-end;width: 50%;}#sk-container-id-5 div.sk-parallel-item:last-child::after {align-self: flex-start;width: 50%;}#sk-container-id-5 div.sk-parallel-item:only-child::after {width: 0;}#sk-container-id-5 div.sk-dashed-wrapped {border: 1px dashed gray;margin: 0 0.4em 0.5em 0.4em;box-sizing: border-box;padding-bottom: 0.4em;background-color: white;}#sk-container-id-5 div.sk-label label {font-family: monospace;font-weight: bold;display: inline-block;line-height: 1.2em;}#sk-container-id-5 div.sk-label-container {text-align: center;}#sk-container-id-5 div.sk-container {/* jupyter's `normalize.less` sets `[hidden] { display: none; }` but bootstrap.min.css set `[hidden] { display: none !important; }` so we also need the `!important` here to be able to override the default hidden behavior on the sphinx rendered scikit-learn.org. See: https://github.com/scikit-learn/scikit-learn/issues/21755 */display: inline-block !important;position: relative;}#sk-container-id-5 div.sk-text-repr-fallback {display: none;}</style><div id=\"sk-container-id-5\" class=\"sk-top-container\"><div class=\"sk-text-repr-fallback\"><pre>RandomOverSampler(random_state=52)</pre><b>In a Jupyter environment, please rerun this cell to show the HTML representation or trust the notebook. <br />On GitHub, the HTML representation is unable to render, please try loading this page with nbviewer.org.</b></div><div class=\"sk-container\" hidden><div class=\"sk-item\"><div class=\"sk-estimator sk-toggleable\"><input class=\"sk-toggleable__control sk-hidden--visually\" id=\"sk-estimator-id-5\" type=\"checkbox\" checked><label for=\"sk-estimator-id-5\" class=\"sk-toggleable__label sk-toggleable__label-arrow\">RandomOverSampler</label><div class=\"sk-toggleable__content\"><pre>RandomOverSampler(random_state=52)</pre></div></div></div></div></div>"
      ],
      "text/plain": [
       "RandomOverSampler(random_state=52)"
      ]
     },
     "execution_count": 60,
     "metadata": {},
     "output_type": "execute_result"
    }
   ],
   "source": [
    "sampler = samplers[sampler_names.index(best_name)]\n",
    "sampler"
   ]
  },
  {
   "cell_type": "code",
   "execution_count": 61,
   "id": "d12b7a80-664f-4b5b-9fb8-7aea52640a89",
   "metadata": {},
   "outputs": [],
   "source": [
    "model = pipeline.Pipeline([('imputer', na_imputer),\n",
    "                           ('sampler', sampler),\n",
    "                           ('model', model)\n",
    "                          ])"
   ]
  },
  {
   "cell_type": "code",
   "execution_count": 62,
   "id": "ca95a754-27bd-4d7b-a3a8-ce151573440b",
   "metadata": {},
   "outputs": [
    {
     "data": {
      "text/html": [
       "<style>#sk-container-id-6 {color: black;background-color: white;}#sk-container-id-6 pre{padding: 0;}#sk-container-id-6 div.sk-toggleable {background-color: white;}#sk-container-id-6 label.sk-toggleable__label {cursor: pointer;display: block;width: 100%;margin-bottom: 0;padding: 0.3em;box-sizing: border-box;text-align: center;}#sk-container-id-6 label.sk-toggleable__label-arrow:before {content: \"▸\";float: left;margin-right: 0.25em;color: #696969;}#sk-container-id-6 label.sk-toggleable__label-arrow:hover:before {color: black;}#sk-container-id-6 div.sk-estimator:hover label.sk-toggleable__label-arrow:before {color: black;}#sk-container-id-6 div.sk-toggleable__content {max-height: 0;max-width: 0;overflow: hidden;text-align: left;background-color: #f0f8ff;}#sk-container-id-6 div.sk-toggleable__content pre {margin: 0.2em;color: black;border-radius: 0.25em;background-color: #f0f8ff;}#sk-container-id-6 input.sk-toggleable__control:checked~div.sk-toggleable__content {max-height: 200px;max-width: 100%;overflow: auto;}#sk-container-id-6 input.sk-toggleable__control:checked~label.sk-toggleable__label-arrow:before {content: \"▾\";}#sk-container-id-6 div.sk-estimator input.sk-toggleable__control:checked~label.sk-toggleable__label {background-color: #d4ebff;}#sk-container-id-6 div.sk-label input.sk-toggleable__control:checked~label.sk-toggleable__label {background-color: #d4ebff;}#sk-container-id-6 input.sk-hidden--visually {border: 0;clip: rect(1px 1px 1px 1px);clip: rect(1px, 1px, 1px, 1px);height: 1px;margin: -1px;overflow: hidden;padding: 0;position: absolute;width: 1px;}#sk-container-id-6 div.sk-estimator {font-family: monospace;background-color: #f0f8ff;border: 1px dotted black;border-radius: 0.25em;box-sizing: border-box;margin-bottom: 0.5em;}#sk-container-id-6 div.sk-estimator:hover {background-color: #d4ebff;}#sk-container-id-6 div.sk-parallel-item::after {content: \"\";width: 100%;border-bottom: 1px solid gray;flex-grow: 1;}#sk-container-id-6 div.sk-label:hover label.sk-toggleable__label {background-color: #d4ebff;}#sk-container-id-6 div.sk-serial::before {content: \"\";position: absolute;border-left: 1px solid gray;box-sizing: border-box;top: 0;bottom: 0;left: 50%;z-index: 0;}#sk-container-id-6 div.sk-serial {display: flex;flex-direction: column;align-items: center;background-color: white;padding-right: 0.2em;padding-left: 0.2em;position: relative;}#sk-container-id-6 div.sk-item {position: relative;z-index: 1;}#sk-container-id-6 div.sk-parallel {display: flex;align-items: stretch;justify-content: center;background-color: white;position: relative;}#sk-container-id-6 div.sk-item::before, #sk-container-id-6 div.sk-parallel-item::before {content: \"\";position: absolute;border-left: 1px solid gray;box-sizing: border-box;top: 0;bottom: 0;left: 50%;z-index: -1;}#sk-container-id-6 div.sk-parallel-item {display: flex;flex-direction: column;z-index: 1;position: relative;background-color: white;}#sk-container-id-6 div.sk-parallel-item:first-child::after {align-self: flex-end;width: 50%;}#sk-container-id-6 div.sk-parallel-item:last-child::after {align-self: flex-start;width: 50%;}#sk-container-id-6 div.sk-parallel-item:only-child::after {width: 0;}#sk-container-id-6 div.sk-dashed-wrapped {border: 1px dashed gray;margin: 0 0.4em 0.5em 0.4em;box-sizing: border-box;padding-bottom: 0.4em;background-color: white;}#sk-container-id-6 div.sk-label label {font-family: monospace;font-weight: bold;display: inline-block;line-height: 1.2em;}#sk-container-id-6 div.sk-label-container {text-align: center;}#sk-container-id-6 div.sk-container {/* jupyter's `normalize.less` sets `[hidden] { display: none; }` but bootstrap.min.css set `[hidden] { display: none !important; }` so we also need the `!important` here to be able to override the default hidden behavior on the sphinx rendered scikit-learn.org. See: https://github.com/scikit-learn/scikit-learn/issues/21755 */display: inline-block !important;position: relative;}#sk-container-id-6 div.sk-text-repr-fallback {display: none;}</style><div id=\"sk-container-id-6\" class=\"sk-top-container\"><div class=\"sk-text-repr-fallback\"><pre>Pipeline(steps=[(&#x27;imputer&#x27;,\n",
       "                 SimpleImputer(fill_value=-99999999, strategy=&#x27;constant&#x27;)),\n",
       "                (&#x27;sampler&#x27;, RandomOverSampler(random_state=52)),\n",
       "                (&#x27;model&#x27;,\n",
       "                 LGBMClassifier(metric=&#x27;accuracy&#x27;, n_estimators=288,\n",
       "                                num_leaves=25, objective=&#x27;binary&#x27;,\n",
       "                                random_state=53, reg_alpha=0.5207205272522514,\n",
       "                                reg_lambda=0.6036103389804524))])</pre><b>In a Jupyter environment, please rerun this cell to show the HTML representation or trust the notebook. <br />On GitHub, the HTML representation is unable to render, please try loading this page with nbviewer.org.</b></div><div class=\"sk-container\" hidden><div class=\"sk-item sk-dashed-wrapped\"><div class=\"sk-label-container\"><div class=\"sk-label sk-toggleable\"><input class=\"sk-toggleable__control sk-hidden--visually\" id=\"sk-estimator-id-6\" type=\"checkbox\" ><label for=\"sk-estimator-id-6\" class=\"sk-toggleable__label sk-toggleable__label-arrow\">Pipeline</label><div class=\"sk-toggleable__content\"><pre>Pipeline(steps=[(&#x27;imputer&#x27;,\n",
       "                 SimpleImputer(fill_value=-99999999, strategy=&#x27;constant&#x27;)),\n",
       "                (&#x27;sampler&#x27;, RandomOverSampler(random_state=52)),\n",
       "                (&#x27;model&#x27;,\n",
       "                 LGBMClassifier(metric=&#x27;accuracy&#x27;, n_estimators=288,\n",
       "                                num_leaves=25, objective=&#x27;binary&#x27;,\n",
       "                                random_state=53, reg_alpha=0.5207205272522514,\n",
       "                                reg_lambda=0.6036103389804524))])</pre></div></div></div><div class=\"sk-serial\"><div class=\"sk-item\"><div class=\"sk-estimator sk-toggleable\"><input class=\"sk-toggleable__control sk-hidden--visually\" id=\"sk-estimator-id-7\" type=\"checkbox\" ><label for=\"sk-estimator-id-7\" class=\"sk-toggleable__label sk-toggleable__label-arrow\">SimpleImputer</label><div class=\"sk-toggleable__content\"><pre>SimpleImputer(fill_value=-99999999, strategy=&#x27;constant&#x27;)</pre></div></div></div><div class=\"sk-item\"><div class=\"sk-estimator sk-toggleable\"><input class=\"sk-toggleable__control sk-hidden--visually\" id=\"sk-estimator-id-8\" type=\"checkbox\" ><label for=\"sk-estimator-id-8\" class=\"sk-toggleable__label sk-toggleable__label-arrow\">RandomOverSampler</label><div class=\"sk-toggleable__content\"><pre>RandomOverSampler(random_state=52)</pre></div></div></div><div class=\"sk-item\"><div class=\"sk-estimator sk-toggleable\"><input class=\"sk-toggleable__control sk-hidden--visually\" id=\"sk-estimator-id-9\" type=\"checkbox\" ><label for=\"sk-estimator-id-9\" class=\"sk-toggleable__label sk-toggleable__label-arrow\">LGBMClassifier</label><div class=\"sk-toggleable__content\"><pre>LGBMClassifier(metric=&#x27;accuracy&#x27;, n_estimators=288, num_leaves=25,\n",
       "               objective=&#x27;binary&#x27;, random_state=53,\n",
       "               reg_alpha=0.5207205272522514, reg_lambda=0.6036103389804524)</pre></div></div></div></div></div></div></div>"
      ],
      "text/plain": [
       "Pipeline(steps=[('imputer',\n",
       "                 SimpleImputer(fill_value=-99999999, strategy='constant')),\n",
       "                ('sampler', RandomOverSampler(random_state=52)),\n",
       "                ('model',\n",
       "                 LGBMClassifier(metric='accuracy', n_estimators=288,\n",
       "                                num_leaves=25, objective='binary',\n",
       "                                random_state=53, reg_alpha=0.5207205272522514,\n",
       "                                reg_lambda=0.6036103389804524))])"
      ]
     },
     "execution_count": 62,
     "metadata": {},
     "output_type": "execute_result"
    }
   ],
   "source": [
    "model.fit(X_train, y_train)"
   ]
  },
  {
   "cell_type": "code",
   "execution_count": 64,
   "id": "7f749d73-3557-49a2-83fb-e8b65c2ad386",
   "metadata": {},
   "outputs": [
    {
     "data": {
      "text/plain": [
       "['models/model.joblib']"
      ]
     },
     "execution_count": 64,
     "metadata": {},
     "output_type": "execute_result"
    }
   ],
   "source": [
    "joblib.dump(model, 'models/model.joblib')"
   ]
  },
  {
   "cell_type": "code",
   "execution_count": null,
   "id": "79bde887-5f87-4e02-8c7e-f61b4b815a38",
   "metadata": {},
   "outputs": [],
   "source": []
  },
  {
   "cell_type": "markdown",
   "id": "9bc75b33-5307-42bc-9487-664c4a2d8dfb",
   "metadata": {},
   "source": [
    "## 2.4. Réduction du nombre de features du modèle"
   ]
  },
  {
   "cell_type": "markdown",
   "id": "3ff401a6-c10e-4e0d-813e-9e525dcf9b99",
   "metadata": {},
   "source": [
    "Afin d'optimiser encore les temps d'entraînement du modèle, mais également pour en faciliter l'exploitation et l'explication, nous allons réduire le nombre de variables utilisées. En effet, si nous utilisons pour le moment presque 800 variables, cela n'est pas utilisable pour expliquer leur impact individuel au client potentiel.\n",
    "\n",
    "Nous essaierons de retenir environ 20 variables au total. Pour ce faire, nous mettons en place 3 méthodes en parallèle :\n",
    "- une méthode sur base d'ANOVA entre variables et cible (efficace pour les variables corrélées linéairement)\n",
    "- une méthode sur base de permutation, permettant d'identifier les variables ayant le plus fort impact sur les prédictions\n",
    "- une méthode basée sur l'importance des variables dans le modèle lui-même"
   ]
  },
  {
   "cell_type": "code",
   "execution_count": 31,
   "id": "32642e1c-b7d6-4eea-b2f3-55e821794cc8",
   "metadata": {},
   "outputs": [],
   "source": [
    "features = model.feature_names_in_"
   ]
  },
  {
   "cell_type": "code",
   "execution_count": 32,
   "id": "69b9721f-c403-4bd3-b870-0b6d7dc93e02",
   "metadata": {},
   "outputs": [],
   "source": [
    "n_top = 10"
   ]
  },
  {
   "cell_type": "markdown",
   "id": "fc4da5cf-22b3-4ee6-850c-505c0518091a",
   "metadata": {},
   "source": [
    "### 2.4.1. ANOVA"
   ]
  },
  {
   "cell_type": "markdown",
   "id": "4c35a0f5-c7ce-4f9f-984a-5b770d070e37",
   "metadata": {},
   "source": [
    "Cette approche est mise en oeuvre dans la fonction SelectKBest() de scikit-learn. Nous l'utilisons donc, et retenons les 10 plus fortes corrélations."
   ]
  },
  {
   "cell_type": "code",
   "execution_count": 33,
   "id": "34af7d94-0ab9-45d9-ae88-db037acf4cd2",
   "metadata": {},
   "outputs": [
    {
     "data": {
      "text/html": [
       "<style>#sk-container-id-4 {color: black;background-color: white;}#sk-container-id-4 pre{padding: 0;}#sk-container-id-4 div.sk-toggleable {background-color: white;}#sk-container-id-4 label.sk-toggleable__label {cursor: pointer;display: block;width: 100%;margin-bottom: 0;padding: 0.3em;box-sizing: border-box;text-align: center;}#sk-container-id-4 label.sk-toggleable__label-arrow:before {content: \"▸\";float: left;margin-right: 0.25em;color: #696969;}#sk-container-id-4 label.sk-toggleable__label-arrow:hover:before {color: black;}#sk-container-id-4 div.sk-estimator:hover label.sk-toggleable__label-arrow:before {color: black;}#sk-container-id-4 div.sk-toggleable__content {max-height: 0;max-width: 0;overflow: hidden;text-align: left;background-color: #f0f8ff;}#sk-container-id-4 div.sk-toggleable__content pre {margin: 0.2em;color: black;border-radius: 0.25em;background-color: #f0f8ff;}#sk-container-id-4 input.sk-toggleable__control:checked~div.sk-toggleable__content {max-height: 200px;max-width: 100%;overflow: auto;}#sk-container-id-4 input.sk-toggleable__control:checked~label.sk-toggleable__label-arrow:before {content: \"▾\";}#sk-container-id-4 div.sk-estimator input.sk-toggleable__control:checked~label.sk-toggleable__label {background-color: #d4ebff;}#sk-container-id-4 div.sk-label input.sk-toggleable__control:checked~label.sk-toggleable__label {background-color: #d4ebff;}#sk-container-id-4 input.sk-hidden--visually {border: 0;clip: rect(1px 1px 1px 1px);clip: rect(1px, 1px, 1px, 1px);height: 1px;margin: -1px;overflow: hidden;padding: 0;position: absolute;width: 1px;}#sk-container-id-4 div.sk-estimator {font-family: monospace;background-color: #f0f8ff;border: 1px dotted black;border-radius: 0.25em;box-sizing: border-box;margin-bottom: 0.5em;}#sk-container-id-4 div.sk-estimator:hover {background-color: #d4ebff;}#sk-container-id-4 div.sk-parallel-item::after {content: \"\";width: 100%;border-bottom: 1px solid gray;flex-grow: 1;}#sk-container-id-4 div.sk-label:hover label.sk-toggleable__label {background-color: #d4ebff;}#sk-container-id-4 div.sk-serial::before {content: \"\";position: absolute;border-left: 1px solid gray;box-sizing: border-box;top: 0;bottom: 0;left: 50%;z-index: 0;}#sk-container-id-4 div.sk-serial {display: flex;flex-direction: column;align-items: center;background-color: white;padding-right: 0.2em;padding-left: 0.2em;position: relative;}#sk-container-id-4 div.sk-item {position: relative;z-index: 1;}#sk-container-id-4 div.sk-parallel {display: flex;align-items: stretch;justify-content: center;background-color: white;position: relative;}#sk-container-id-4 div.sk-item::before, #sk-container-id-4 div.sk-parallel-item::before {content: \"\";position: absolute;border-left: 1px solid gray;box-sizing: border-box;top: 0;bottom: 0;left: 50%;z-index: -1;}#sk-container-id-4 div.sk-parallel-item {display: flex;flex-direction: column;z-index: 1;position: relative;background-color: white;}#sk-container-id-4 div.sk-parallel-item:first-child::after {align-self: flex-end;width: 50%;}#sk-container-id-4 div.sk-parallel-item:last-child::after {align-self: flex-start;width: 50%;}#sk-container-id-4 div.sk-parallel-item:only-child::after {width: 0;}#sk-container-id-4 div.sk-dashed-wrapped {border: 1px dashed gray;margin: 0 0.4em 0.5em 0.4em;box-sizing: border-box;padding-bottom: 0.4em;background-color: white;}#sk-container-id-4 div.sk-label label {font-family: monospace;font-weight: bold;display: inline-block;line-height: 1.2em;}#sk-container-id-4 div.sk-label-container {text-align: center;}#sk-container-id-4 div.sk-container {/* jupyter's `normalize.less` sets `[hidden] { display: none; }` but bootstrap.min.css set `[hidden] { display: none !important; }` so we also need the `!important` here to be able to override the default hidden behavior on the sphinx rendered scikit-learn.org. See: https://github.com/scikit-learn/scikit-learn/issues/21755 */display: inline-block !important;position: relative;}#sk-container-id-4 div.sk-text-repr-fallback {display: none;}</style><div id=\"sk-container-id-4\" class=\"sk-top-container\"><div class=\"sk-text-repr-fallback\"><pre>SelectKBest()</pre><b>In a Jupyter environment, please rerun this cell to show the HTML representation or trust the notebook. <br />On GitHub, the HTML representation is unable to render, please try loading this page with nbviewer.org.</b></div><div class=\"sk-container\" hidden><div class=\"sk-item\"><div class=\"sk-estimator sk-toggleable\"><input class=\"sk-toggleable__control sk-hidden--visually\" id=\"sk-estimator-id-7\" type=\"checkbox\" checked><label for=\"sk-estimator-id-7\" class=\"sk-toggleable__label sk-toggleable__label-arrow\">SelectKBest</label><div class=\"sk-toggleable__content\"><pre>SelectKBest()</pre></div></div></div></div></div>"
      ],
      "text/plain": [
       "SelectKBest()"
      ]
     },
     "execution_count": 33,
     "metadata": {},
     "output_type": "execute_result"
    }
   ],
   "source": [
    "kbest = SelectKBest(score_func=f_classif, k=n_top)\n",
    "kbest.fit(na_imputer.fit_transform(X_train), y_train)"
   ]
  },
  {
   "cell_type": "code",
   "execution_count": 34,
   "id": "384edc06-6c29-4936-8183-f3eef61248c2",
   "metadata": {},
   "outputs": [],
   "source": [
    "kbest_feats = features[kbest.get_support()].tolist()"
   ]
  },
  {
   "cell_type": "markdown",
   "id": "bcdfbff6-74cf-4f3d-b727-ff81ad0999e2",
   "metadata": {},
   "source": [
    "### 2.4.2. Permutations"
   ]
  },
  {
   "cell_type": "markdown",
   "id": "6dddeed9-f434-47c4-9a59-81574e2749cf",
   "metadata": {},
   "source": [
    "Cette approche est mise en oeuvre dans la fonction permutation_importance() de scikit-learn. Nous l'utilisons donc, et retenons les 10 plus fortes corrélations."
   ]
  },
  {
   "cell_type": "code",
   "execution_count": 35,
   "id": "768fd2f3-107d-47ee-bc60-76ac9fd09f44",
   "metadata": {},
   "outputs": [],
   "source": [
    "def neg_loss(model, X_valid, y_true):\n",
    "    return -custom_bin_loss(y_true, model.predict(X_valid), 10)"
   ]
  },
  {
   "cell_type": "code",
   "execution_count": 36,
   "id": "80fca75e-8876-4d60-90b4-93e17f053549",
   "metadata": {},
   "outputs": [],
   "source": [
    "result = permutation_importance(\n",
    "    model, X_valid, y_valid,\n",
    "    scoring=neg_loss,\n",
    "    n_repeats=20,\n",
    "    max_samples=.2,\n",
    "    random_state=52,\n",
    "    n_jobs=8\n",
    ")"
   ]
  },
  {
   "cell_type": "code",
   "execution_count": 37,
   "id": "af194320-9e04-48df-b1bf-42a3f065be7e",
   "metadata": {},
   "outputs": [],
   "source": [
    "feat_imp = pd.Series(result.importances_mean, index=features)"
   ]
  },
  {
   "cell_type": "code",
   "execution_count": 38,
   "id": "4ccab54f-9d34-45ad-9f3a-35da14278582",
   "metadata": {},
   "outputs": [],
   "source": [
    "perm_feats = feat_imp.nlargest(n_top).index.tolist()"
   ]
  },
  {
   "cell_type": "markdown",
   "id": "d454e59b-1bed-4465-858c-8c31c7687bde",
   "metadata": {},
   "source": [
    "### 2.4.3. Feature importance"
   ]
  },
  {
   "cell_type": "markdown",
   "id": "d63c3d84-0439-4a73-8986-f65f3f28b1b8",
   "metadata": {},
   "source": [
    "Cette approche se base sur la définition des feature importance dans le modèle."
   ]
  },
  {
   "cell_type": "code",
   "execution_count": 39,
   "id": "e8f6d9e6-eadc-417c-a240-8522a8015f0f",
   "metadata": {},
   "outputs": [],
   "source": [
    "feat_imp = model.named_steps['model'].feature_importances_\n",
    "top_feats_idx = np.argsort(feat_imp)[-n_top:]\n",
    "f_imp_feats = features[top_feats_idx].tolist()"
   ]
  },
  {
   "cell_type": "markdown",
   "id": "516f41d8-8df6-4b3b-9800-9ea495186a17",
   "metadata": {},
   "source": [
    "### 2.4.4. Combinaison et entraînement du modèle réduit"
   ]
  },
  {
   "cell_type": "markdown",
   "id": "390f8824-de46-4be7-ac75-0aa6d4217679",
   "metadata": {},
   "source": [
    "Nous pouvons désormais combiner les variables identifiées par ces trois approches."
   ]
  },
  {
   "cell_type": "code",
   "execution_count": 40,
   "id": "44add6f3-cf34-4a7a-89a6-574af4505768",
   "metadata": {},
   "outputs": [
    {
     "data": {
      "text/plain": [
       "['REFUSED_DAYS_DECISION_MAX',\n",
       " 'YEARLY_PAYMENT_RATE',\n",
       " 'PREV_NAME_CONTRACT_STATUS_Refused_MEAN',\n",
       " 'EXT_SOURCE_3',\n",
       " 'EXT_SOURCE_2',\n",
       " 'NAME_EDUCATION_TYPE_Highereducation',\n",
       " 'REFUSED_DAYS_DECISION_MEAN',\n",
       " 'REGION_RATING_CLIENT',\n",
       " 'REFUSED_AMT_CREDIT_MAX',\n",
       " 'REFUSED_APP_CREDIT_PERC_VAR',\n",
       " 'DAYS_EMPLOYED',\n",
       " 'AMT_GOODS_PRICE',\n",
       " 'PREV_AMT_APPLICATION_MEAN',\n",
       " 'EXT_SOURCE_1',\n",
       " 'DAYS_EMPLOYED_PERC',\n",
       " 'AMT_ANNUITY',\n",
       " 'NAME_INCOME_TYPE_Working',\n",
       " 'REGION_RATING_CLIENT_W_CITY',\n",
       " 'REFUSED_AMT_APPLICATION_MAX',\n",
       " 'DAYS_BIRTH',\n",
       " 'INSTAL_DPD_MEAN',\n",
       " 'DAYS_ID_PUBLISH']"
      ]
     },
     "execution_count": 40,
     "metadata": {},
     "output_type": "execute_result"
    }
   ],
   "source": [
    "top_features = list(set(kbest_feats).union(set(perm_feats)).union(set(f_imp_feats)))\n",
    "top_features"
   ]
  },
  {
   "cell_type": "code",
   "execution_count": 41,
   "id": "f88b1692-2c3d-45bf-a2c3-172148df7a7b",
   "metadata": {},
   "outputs": [
    {
     "data": {
      "text/plain": [
       "22"
      ]
     },
     "execution_count": 41,
     "metadata": {},
     "output_type": "execute_result"
    }
   ],
   "source": [
    "print(f\"Nous retenons ces {len(top_features)} variables pour notre modèles final.\")"
   ]
  },
  {
   "cell_type": "markdown",
   "id": "3a86aa28-6ca8-43f0-bba6-eb72cff84ff9",
   "metadata": {},
   "source": [
    "Nous pouvons désormais entraîner le modèle avec ce nombre réduit de variables. Nous optimisons de nouveau les hyperparamètres de celui-ci."
   ]
  },
  {
   "cell_type": "code",
   "execution_count": 42,
   "id": "7951ef73-924b-4280-b7f9-37a7018c2eab",
   "metadata": {},
   "outputs": [],
   "source": [
    "reduced_model = clone(model)"
   ]
  },
  {
   "cell_type": "code",
   "execution_count": 43,
   "id": "31b09cce-f74f-4d39-b62e-c428068a0c68",
   "metadata": {},
   "outputs": [],
   "source": [
    "import bayes_opt"
   ]
  },
  {
   "cell_type": "code",
   "execution_count": 44,
   "id": "7f491200-a1ff-4d08-ab52-d48be7322b17",
   "metadata": {},
   "outputs": [],
   "source": [
    "def objective(model__num_leaves, model__n_estimators, model__reg_alpha, model__reg_lambda, model__min_child_samples):\n",
    "    reduced_model.set_params(**{\n",
    "        'model__num_leaves':int(round(model__num_leaves,0)),\n",
    "        'model__n_estimators':int(round(model__n_estimators,0)),\n",
    "        'model__reg_alpha':model__reg_alpha,\n",
    "        'model__reg_lambda':model__reg_lambda,\n",
    "        'model__min_child_samples':int(round(model__min_child_samples,0)),\n",
    "        'model__random_state':53})\n",
    "\n",
    "    reduced_model.fit(X_train.loc[:,top_features], y_train)\n",
    "    \n",
    "    y_score = reduced_model.predict(X_valid.loc[:,top_features])\n",
    "    loss = custom_bin_loss(y_valid, y_score, 10)\n",
    "    \n",
    "    return -loss"
   ]
  },
  {
   "cell_type": "code",
   "execution_count": 45,
   "id": "580a6484-8c8b-4ecf-8135-4c6bd4bae7e3",
   "metadata": {},
   "outputs": [],
   "source": [
    "search_space = {\n",
    "    'model__num_leaves': (20,50),\n",
    "    'model__n_estimators': (100,1000),\n",
    "    'model__reg_alpha': (0,1),\n",
    "    'model__reg_lambda': (0,1),\n",
    "    'model__min_child_samples': (10,50)\n",
    "}"
   ]
  },
  {
   "cell_type": "code",
   "execution_count": 46,
   "id": "d6f03c94-c58d-4375-88ce-6d70f7a63670",
   "metadata": {},
   "outputs": [],
   "source": [
    "optimizer = bayes_opt.BayesianOptimization(\n",
    "    f=objective,\n",
    "    pbounds=search_space,\n",
    "    random_state=53\n",
    ")"
   ]
  },
  {
   "cell_type": "code",
   "execution_count": 47,
   "id": "1a792d86-7ac5-4bb4-a3c1-b937ba0f2f41",
   "metadata": {},
   "outputs": [
    {
     "name": "stdout",
     "output_type": "stream",
     "text": [
      "|   iter    |  target   | model_... | model_... | model_... | model_... | model_... |\n",
      "-------------------------------------------------------------------------------------\n",
      "| \u001b[0m 1       \u001b[0m | \u001b[0m-3.249e+0\u001b[0m | \u001b[0m 43.87   \u001b[0m | \u001b[0m 605.0   \u001b[0m | \u001b[0m 33.65   \u001b[0m | \u001b[0m 0.3522  \u001b[0m | \u001b[0m 0.5859  \u001b[0m |\n",
      "| \u001b[0m 2       \u001b[0m | \u001b[0m-3.261e+0\u001b[0m | \u001b[0m 31.43   \u001b[0m | \u001b[0m 844.7   \u001b[0m | \u001b[0m 27.94   \u001b[0m | \u001b[0m 0.4784  \u001b[0m | \u001b[0m 0.3478  \u001b[0m |\n",
      "| \u001b[95m 3       \u001b[0m | \u001b[95m-3.203e+0\u001b[0m | \u001b[95m 15.38   \u001b[0m | \u001b[95m 334.0   \u001b[0m | \u001b[95m 21.43   \u001b[0m | \u001b[95m 0.3943  \u001b[0m | \u001b[95m 0.3716  \u001b[0m |\n",
      "| \u001b[0m 4       \u001b[0m | \u001b[0m-3.251e+0\u001b[0m | \u001b[0m 32.27   \u001b[0m | \u001b[0m 907.7   \u001b[0m | \u001b[0m 25.02   \u001b[0m | \u001b[0m 0.4072  \u001b[0m | \u001b[0m 0.6524  \u001b[0m |\n",
      "| \u001b[0m 5       \u001b[0m | \u001b[0m-3.284e+0\u001b[0m | \u001b[0m 32.71   \u001b[0m | \u001b[0m 609.9   \u001b[0m | \u001b[0m 35.73   \u001b[0m | \u001b[0m 0.6076  \u001b[0m | \u001b[0m 0.1282  \u001b[0m |\n",
      "| \u001b[95m 6       \u001b[0m | \u001b[95m-3.185e+0\u001b[0m | \u001b[95m 19.03   \u001b[0m | \u001b[95m 288.5   \u001b[0m | \u001b[95m 23.9    \u001b[0m | \u001b[95m 0.3875  \u001b[0m | \u001b[95m 0.4957  \u001b[0m |\n",
      "| \u001b[0m 7       \u001b[0m | \u001b[0m-3.188e+0\u001b[0m | \u001b[0m 14.77   \u001b[0m | \u001b[0m 336.8   \u001b[0m | \u001b[0m 21.78   \u001b[0m | \u001b[0m 0.00922 \u001b[0m | \u001b[0m 0.3674  \u001b[0m |\n",
      "| \u001b[0m 8       \u001b[0m | \u001b[0m-3.2e+04 \u001b[0m | \u001b[0m 19.79   \u001b[0m | \u001b[0m 347.6   \u001b[0m | \u001b[0m 25.29   \u001b[0m | \u001b[0m 0.3511  \u001b[0m | \u001b[0m 0.8625  \u001b[0m |\n",
      "| \u001b[0m 9       \u001b[0m | \u001b[0m-3.204e+0\u001b[0m | \u001b[0m 10.0    \u001b[0m | \u001b[0m 347.4   \u001b[0m | \u001b[0m 20.0    \u001b[0m | \u001b[0m 0.0     \u001b[0m | \u001b[0m 0.0     \u001b[0m |\n",
      "| \u001b[0m 10      \u001b[0m | \u001b[0m-3.23e+04\u001b[0m | \u001b[0m 10.0    \u001b[0m | \u001b[0m 339.7   \u001b[0m | \u001b[0m 33.95   \u001b[0m | \u001b[0m 0.0     \u001b[0m | \u001b[0m 0.5269  \u001b[0m |\n",
      "| \u001b[0m 11      \u001b[0m | \u001b[0m-3.219e+0\u001b[0m | \u001b[0m 14.67   \u001b[0m | \u001b[0m 277.7   \u001b[0m | \u001b[0m 26.69   \u001b[0m | \u001b[0m 0.17    \u001b[0m | \u001b[0m 0.9674  \u001b[0m |\n",
      "| \u001b[0m 12      \u001b[0m | \u001b[0m-3.193e+0\u001b[0m | \u001b[0m 29.93   \u001b[0m | \u001b[0m 292.4   \u001b[0m | \u001b[0m 25.03   \u001b[0m | \u001b[0m 0.8595  \u001b[0m | \u001b[0m 0.4744  \u001b[0m |\n",
      "| \u001b[0m 13      \u001b[0m | \u001b[0m-3.2e+04 \u001b[0m | \u001b[0m 18.12   \u001b[0m | \u001b[0m 300.5   \u001b[0m | \u001b[0m 29.6    \u001b[0m | \u001b[0m 0.3737  \u001b[0m | \u001b[0m 0.3651  \u001b[0m |\n",
      "| \u001b[0m 14      \u001b[0m | \u001b[0m-3.212e+0\u001b[0m | \u001b[0m 22.03   \u001b[0m | \u001b[0m 289.5   \u001b[0m | \u001b[0m 35.86   \u001b[0m | \u001b[0m 0.7742  \u001b[0m | \u001b[0m 0.8172  \u001b[0m |\n",
      "| \u001b[0m 15      \u001b[0m | \u001b[0m-3.218e+0\u001b[0m | \u001b[0m 35.71   \u001b[0m | \u001b[0m 280.1   \u001b[0m | \u001b[0m 21.13   \u001b[0m | \u001b[0m 0.7892  \u001b[0m | \u001b[0m 0.2269  \u001b[0m |\n",
      "| \u001b[0m 16      \u001b[0m | \u001b[0m-3.194e+0\u001b[0m | \u001b[0m 10.0    \u001b[0m | \u001b[0m 295.2   \u001b[0m | \u001b[0m 20.0    \u001b[0m | \u001b[0m 0.0     \u001b[0m | \u001b[0m 0.0     \u001b[0m |\n",
      "| \u001b[0m 17      \u001b[0m | \u001b[0m-3.196e+0\u001b[0m | \u001b[0m 22.58   \u001b[0m | \u001b[0m 298.4   \u001b[0m | \u001b[0m 20.0    \u001b[0m | \u001b[0m 0.0     \u001b[0m | \u001b[0m 0.0     \u001b[0m |\n",
      "| \u001b[95m 18      \u001b[0m | \u001b[95m-3.175e+0\u001b[0m | \u001b[95m 34.06   \u001b[0m | \u001b[95m 341.5   \u001b[0m | \u001b[95m 20.0    \u001b[0m | \u001b[95m 0.0     \u001b[0m | \u001b[95m 0.0     \u001b[0m |\n",
      "| \u001b[0m 19      \u001b[0m | \u001b[0m-3.216e+0\u001b[0m | \u001b[0m 43.72   \u001b[0m | \u001b[0m 349.9   \u001b[0m | \u001b[0m 20.0    \u001b[0m | \u001b[0m 0.0     \u001b[0m | \u001b[0m 0.0     \u001b[0m |\n",
      "| \u001b[0m 20      \u001b[0m | \u001b[0m-3.22e+04\u001b[0m | \u001b[0m 39.77   \u001b[0m | \u001b[0m 331.8   \u001b[0m | \u001b[0m 22.49   \u001b[0m | \u001b[0m 0.8623  \u001b[0m | \u001b[0m 0.4172  \u001b[0m |\n",
      "| \u001b[0m 21      \u001b[0m | \u001b[0m-3.194e+0\u001b[0m | \u001b[0m 25.4    \u001b[0m | \u001b[0m 340.6   \u001b[0m | \u001b[0m 20.0    \u001b[0m | \u001b[0m 0.0     \u001b[0m | \u001b[0m 0.0     \u001b[0m |\n",
      "| \u001b[0m 22      \u001b[0m | \u001b[0m-3.202e+0\u001b[0m | \u001b[0m 34.72   \u001b[0m | \u001b[0m 345.7   \u001b[0m | \u001b[0m 31.76   \u001b[0m | \u001b[0m 0.9527  \u001b[0m | \u001b[0m 0.9697  \u001b[0m |\n",
      "| \u001b[0m 23      \u001b[0m | \u001b[0m-3.205e+0\u001b[0m | \u001b[0m 31.32   \u001b[0m | \u001b[0m 349.2   \u001b[0m | \u001b[0m 21.34   \u001b[0m | \u001b[0m 0.4972  \u001b[0m | \u001b[0m 0.3168  \u001b[0m |\n",
      "| \u001b[0m 24      \u001b[0m | \u001b[0m-3.214e+0\u001b[0m | \u001b[0m 40.4    \u001b[0m | \u001b[0m 302.6   \u001b[0m | \u001b[0m 30.89   \u001b[0m | \u001b[0m 0.0     \u001b[0m | \u001b[0m 0.0     \u001b[0m |\n",
      "| \u001b[0m 25      \u001b[0m | \u001b[0m-3.224e+0\u001b[0m | \u001b[0m 36.45   \u001b[0m | \u001b[0m 114.5   \u001b[0m | \u001b[0m 45.91   \u001b[0m | \u001b[0m 0.3227  \u001b[0m | \u001b[0m 0.8186  \u001b[0m |\n",
      "| \u001b[0m 26      \u001b[0m | \u001b[0m-3.254e+0\u001b[0m | \u001b[0m 41.41   \u001b[0m | \u001b[0m 357.6   \u001b[0m | \u001b[0m 49.98   \u001b[0m | \u001b[0m 0.4238  \u001b[0m | \u001b[0m 0.01606 \u001b[0m |\n",
      "| \u001b[0m 27      \u001b[0m | \u001b[0m-3.225e+0\u001b[0m | \u001b[0m 12.21   \u001b[0m | \u001b[0m 481.0   \u001b[0m | \u001b[0m 20.95   \u001b[0m | \u001b[0m 0.1689  \u001b[0m | \u001b[0m 0.385   \u001b[0m |\n",
      "| \u001b[0m 28      \u001b[0m | \u001b[0m-3.372e+0\u001b[0m | \u001b[0m 13.32   \u001b[0m | \u001b[0m 727.4   \u001b[0m | \u001b[0m 46.38   \u001b[0m | \u001b[0m 0.3817  \u001b[0m | \u001b[0m 0.521   \u001b[0m |\n",
      "| \u001b[0m 29      \u001b[0m | \u001b[0m-3.402e+0\u001b[0m | \u001b[0m 20.42   \u001b[0m | \u001b[0m 999.8   \u001b[0m | \u001b[0m 44.41   \u001b[0m | \u001b[0m 0.3092  \u001b[0m | \u001b[0m 0.4796  \u001b[0m |\n",
      "| \u001b[0m 30      \u001b[0m | \u001b[0m-3.212e+0\u001b[0m | \u001b[0m 11.3    \u001b[0m | \u001b[0m 157.5   \u001b[0m | \u001b[0m 21.72   \u001b[0m | \u001b[0m 0.7893  \u001b[0m | \u001b[0m 0.2624  \u001b[0m |\n",
      "=====================================================================================\n"
     ]
    }
   ],
   "source": [
    "optimizer.maximize()"
   ]
  },
  {
   "cell_type": "code",
   "execution_count": 48,
   "id": "3e007887-465d-4898-aec0-6b3e68edaed8",
   "metadata": {},
   "outputs": [],
   "source": [
    "params = optimizer.max['params']\n",
    "params['model__num_leaves'] = int(round(params['model__num_leaves'],0))\n",
    "params['model__n_estimators'] = int(round(params['model__n_estimators'],0))\n",
    "params['model__min_child_samples'] = int(round(params['model__min_child_samples'],0))"
   ]
  },
  {
   "cell_type": "code",
   "execution_count": 49,
   "id": "4e98fd6f-7e7b-427d-b461-5c84ec352aa2",
   "metadata": {},
   "outputs": [
    {
     "data": {
      "text/html": [
       "<style>#sk-container-id-5 {color: black;background-color: white;}#sk-container-id-5 pre{padding: 0;}#sk-container-id-5 div.sk-toggleable {background-color: white;}#sk-container-id-5 label.sk-toggleable__label {cursor: pointer;display: block;width: 100%;margin-bottom: 0;padding: 0.3em;box-sizing: border-box;text-align: center;}#sk-container-id-5 label.sk-toggleable__label-arrow:before {content: \"▸\";float: left;margin-right: 0.25em;color: #696969;}#sk-container-id-5 label.sk-toggleable__label-arrow:hover:before {color: black;}#sk-container-id-5 div.sk-estimator:hover label.sk-toggleable__label-arrow:before {color: black;}#sk-container-id-5 div.sk-toggleable__content {max-height: 0;max-width: 0;overflow: hidden;text-align: left;background-color: #f0f8ff;}#sk-container-id-5 div.sk-toggleable__content pre {margin: 0.2em;color: black;border-radius: 0.25em;background-color: #f0f8ff;}#sk-container-id-5 input.sk-toggleable__control:checked~div.sk-toggleable__content {max-height: 200px;max-width: 100%;overflow: auto;}#sk-container-id-5 input.sk-toggleable__control:checked~label.sk-toggleable__label-arrow:before {content: \"▾\";}#sk-container-id-5 div.sk-estimator input.sk-toggleable__control:checked~label.sk-toggleable__label {background-color: #d4ebff;}#sk-container-id-5 div.sk-label input.sk-toggleable__control:checked~label.sk-toggleable__label {background-color: #d4ebff;}#sk-container-id-5 input.sk-hidden--visually {border: 0;clip: rect(1px 1px 1px 1px);clip: rect(1px, 1px, 1px, 1px);height: 1px;margin: -1px;overflow: hidden;padding: 0;position: absolute;width: 1px;}#sk-container-id-5 div.sk-estimator {font-family: monospace;background-color: #f0f8ff;border: 1px dotted black;border-radius: 0.25em;box-sizing: border-box;margin-bottom: 0.5em;}#sk-container-id-5 div.sk-estimator:hover {background-color: #d4ebff;}#sk-container-id-5 div.sk-parallel-item::after {content: \"\";width: 100%;border-bottom: 1px solid gray;flex-grow: 1;}#sk-container-id-5 div.sk-label:hover label.sk-toggleable__label {background-color: #d4ebff;}#sk-container-id-5 div.sk-serial::before {content: \"\";position: absolute;border-left: 1px solid gray;box-sizing: border-box;top: 0;bottom: 0;left: 50%;z-index: 0;}#sk-container-id-5 div.sk-serial {display: flex;flex-direction: column;align-items: center;background-color: white;padding-right: 0.2em;padding-left: 0.2em;position: relative;}#sk-container-id-5 div.sk-item {position: relative;z-index: 1;}#sk-container-id-5 div.sk-parallel {display: flex;align-items: stretch;justify-content: center;background-color: white;position: relative;}#sk-container-id-5 div.sk-item::before, #sk-container-id-5 div.sk-parallel-item::before {content: \"\";position: absolute;border-left: 1px solid gray;box-sizing: border-box;top: 0;bottom: 0;left: 50%;z-index: -1;}#sk-container-id-5 div.sk-parallel-item {display: flex;flex-direction: column;z-index: 1;position: relative;background-color: white;}#sk-container-id-5 div.sk-parallel-item:first-child::after {align-self: flex-end;width: 50%;}#sk-container-id-5 div.sk-parallel-item:last-child::after {align-self: flex-start;width: 50%;}#sk-container-id-5 div.sk-parallel-item:only-child::after {width: 0;}#sk-container-id-5 div.sk-dashed-wrapped {border: 1px dashed gray;margin: 0 0.4em 0.5em 0.4em;box-sizing: border-box;padding-bottom: 0.4em;background-color: white;}#sk-container-id-5 div.sk-label label {font-family: monospace;font-weight: bold;display: inline-block;line-height: 1.2em;}#sk-container-id-5 div.sk-label-container {text-align: center;}#sk-container-id-5 div.sk-container {/* jupyter's `normalize.less` sets `[hidden] { display: none; }` but bootstrap.min.css set `[hidden] { display: none !important; }` so we also need the `!important` here to be able to override the default hidden behavior on the sphinx rendered scikit-learn.org. See: https://github.com/scikit-learn/scikit-learn/issues/21755 */display: inline-block !important;position: relative;}#sk-container-id-5 div.sk-text-repr-fallback {display: none;}</style><div id=\"sk-container-id-5\" class=\"sk-top-container\"><div class=\"sk-text-repr-fallback\"><pre>Pipeline(steps=[(&#x27;imputer&#x27;,\n",
       "                 SimpleImputer(fill_value=-99999999, strategy=&#x27;constant&#x27;)),\n",
       "                (&#x27;sampler&#x27;, RandomOverSampler(random_state=52)),\n",
       "                (&#x27;model&#x27;,\n",
       "                 LGBMClassifier(metric=&#x27;accuracy&#x27;, min_child_samples=34,\n",
       "                                n_estimators=341, num_leaves=20,\n",
       "                                objective=&#x27;binary&#x27;, random_state=53))])</pre><b>In a Jupyter environment, please rerun this cell to show the HTML representation or trust the notebook. <br />On GitHub, the HTML representation is unable to render, please try loading this page with nbviewer.org.</b></div><div class=\"sk-container\" hidden><div class=\"sk-item sk-dashed-wrapped\"><div class=\"sk-label-container\"><div class=\"sk-label sk-toggleable\"><input class=\"sk-toggleable__control sk-hidden--visually\" id=\"sk-estimator-id-8\" type=\"checkbox\" ><label for=\"sk-estimator-id-8\" class=\"sk-toggleable__label sk-toggleable__label-arrow\">Pipeline</label><div class=\"sk-toggleable__content\"><pre>Pipeline(steps=[(&#x27;imputer&#x27;,\n",
       "                 SimpleImputer(fill_value=-99999999, strategy=&#x27;constant&#x27;)),\n",
       "                (&#x27;sampler&#x27;, RandomOverSampler(random_state=52)),\n",
       "                (&#x27;model&#x27;,\n",
       "                 LGBMClassifier(metric=&#x27;accuracy&#x27;, min_child_samples=34,\n",
       "                                n_estimators=341, num_leaves=20,\n",
       "                                objective=&#x27;binary&#x27;, random_state=53))])</pre></div></div></div><div class=\"sk-serial\"><div class=\"sk-item\"><div class=\"sk-estimator sk-toggleable\"><input class=\"sk-toggleable__control sk-hidden--visually\" id=\"sk-estimator-id-9\" type=\"checkbox\" ><label for=\"sk-estimator-id-9\" class=\"sk-toggleable__label sk-toggleable__label-arrow\">SimpleImputer</label><div class=\"sk-toggleable__content\"><pre>SimpleImputer(fill_value=-99999999, strategy=&#x27;constant&#x27;)</pre></div></div></div><div class=\"sk-item\"><div class=\"sk-estimator sk-toggleable\"><input class=\"sk-toggleable__control sk-hidden--visually\" id=\"sk-estimator-id-10\" type=\"checkbox\" ><label for=\"sk-estimator-id-10\" class=\"sk-toggleable__label sk-toggleable__label-arrow\">RandomOverSampler</label><div class=\"sk-toggleable__content\"><pre>RandomOverSampler(random_state=52)</pre></div></div></div><div class=\"sk-item\"><div class=\"sk-estimator sk-toggleable\"><input class=\"sk-toggleable__control sk-hidden--visually\" id=\"sk-estimator-id-11\" type=\"checkbox\" ><label for=\"sk-estimator-id-11\" class=\"sk-toggleable__label sk-toggleable__label-arrow\">LGBMClassifier</label><div class=\"sk-toggleable__content\"><pre>LGBMClassifier(metric=&#x27;accuracy&#x27;, min_child_samples=34, n_estimators=341,\n",
       "               num_leaves=20, objective=&#x27;binary&#x27;, random_state=53)</pre></div></div></div></div></div></div></div>"
      ],
      "text/plain": [
       "Pipeline(steps=[('imputer',\n",
       "                 SimpleImputer(fill_value=-99999999, strategy='constant')),\n",
       "                ('sampler', RandomOverSampler(random_state=52)),\n",
       "                ('model',\n",
       "                 LGBMClassifier(metric='accuracy', min_child_samples=34,\n",
       "                                n_estimators=341, num_leaves=20,\n",
       "                                objective='binary', random_state=53))])"
      ]
     },
     "execution_count": 49,
     "metadata": {},
     "output_type": "execute_result"
    }
   ],
   "source": [
    "reduced_model.set_params(**params)"
   ]
  },
  {
   "cell_type": "code",
   "execution_count": 50,
   "id": "78455696-0dc9-42ec-98f1-71f760f8562d",
   "metadata": {},
   "outputs": [
    {
     "data": {
      "text/html": [
       "<style>#sk-container-id-6 {color: black;background-color: white;}#sk-container-id-6 pre{padding: 0;}#sk-container-id-6 div.sk-toggleable {background-color: white;}#sk-container-id-6 label.sk-toggleable__label {cursor: pointer;display: block;width: 100%;margin-bottom: 0;padding: 0.3em;box-sizing: border-box;text-align: center;}#sk-container-id-6 label.sk-toggleable__label-arrow:before {content: \"▸\";float: left;margin-right: 0.25em;color: #696969;}#sk-container-id-6 label.sk-toggleable__label-arrow:hover:before {color: black;}#sk-container-id-6 div.sk-estimator:hover label.sk-toggleable__label-arrow:before {color: black;}#sk-container-id-6 div.sk-toggleable__content {max-height: 0;max-width: 0;overflow: hidden;text-align: left;background-color: #f0f8ff;}#sk-container-id-6 div.sk-toggleable__content pre {margin: 0.2em;color: black;border-radius: 0.25em;background-color: #f0f8ff;}#sk-container-id-6 input.sk-toggleable__control:checked~div.sk-toggleable__content {max-height: 200px;max-width: 100%;overflow: auto;}#sk-container-id-6 input.sk-toggleable__control:checked~label.sk-toggleable__label-arrow:before {content: \"▾\";}#sk-container-id-6 div.sk-estimator input.sk-toggleable__control:checked~label.sk-toggleable__label {background-color: #d4ebff;}#sk-container-id-6 div.sk-label input.sk-toggleable__control:checked~label.sk-toggleable__label {background-color: #d4ebff;}#sk-container-id-6 input.sk-hidden--visually {border: 0;clip: rect(1px 1px 1px 1px);clip: rect(1px, 1px, 1px, 1px);height: 1px;margin: -1px;overflow: hidden;padding: 0;position: absolute;width: 1px;}#sk-container-id-6 div.sk-estimator {font-family: monospace;background-color: #f0f8ff;border: 1px dotted black;border-radius: 0.25em;box-sizing: border-box;margin-bottom: 0.5em;}#sk-container-id-6 div.sk-estimator:hover {background-color: #d4ebff;}#sk-container-id-6 div.sk-parallel-item::after {content: \"\";width: 100%;border-bottom: 1px solid gray;flex-grow: 1;}#sk-container-id-6 div.sk-label:hover label.sk-toggleable__label {background-color: #d4ebff;}#sk-container-id-6 div.sk-serial::before {content: \"\";position: absolute;border-left: 1px solid gray;box-sizing: border-box;top: 0;bottom: 0;left: 50%;z-index: 0;}#sk-container-id-6 div.sk-serial {display: flex;flex-direction: column;align-items: center;background-color: white;padding-right: 0.2em;padding-left: 0.2em;position: relative;}#sk-container-id-6 div.sk-item {position: relative;z-index: 1;}#sk-container-id-6 div.sk-parallel {display: flex;align-items: stretch;justify-content: center;background-color: white;position: relative;}#sk-container-id-6 div.sk-item::before, #sk-container-id-6 div.sk-parallel-item::before {content: \"\";position: absolute;border-left: 1px solid gray;box-sizing: border-box;top: 0;bottom: 0;left: 50%;z-index: -1;}#sk-container-id-6 div.sk-parallel-item {display: flex;flex-direction: column;z-index: 1;position: relative;background-color: white;}#sk-container-id-6 div.sk-parallel-item:first-child::after {align-self: flex-end;width: 50%;}#sk-container-id-6 div.sk-parallel-item:last-child::after {align-self: flex-start;width: 50%;}#sk-container-id-6 div.sk-parallel-item:only-child::after {width: 0;}#sk-container-id-6 div.sk-dashed-wrapped {border: 1px dashed gray;margin: 0 0.4em 0.5em 0.4em;box-sizing: border-box;padding-bottom: 0.4em;background-color: white;}#sk-container-id-6 div.sk-label label {font-family: monospace;font-weight: bold;display: inline-block;line-height: 1.2em;}#sk-container-id-6 div.sk-label-container {text-align: center;}#sk-container-id-6 div.sk-container {/* jupyter's `normalize.less` sets `[hidden] { display: none; }` but bootstrap.min.css set `[hidden] { display: none !important; }` so we also need the `!important` here to be able to override the default hidden behavior on the sphinx rendered scikit-learn.org. See: https://github.com/scikit-learn/scikit-learn/issues/21755 */display: inline-block !important;position: relative;}#sk-container-id-6 div.sk-text-repr-fallback {display: none;}</style><div id=\"sk-container-id-6\" class=\"sk-top-container\"><div class=\"sk-text-repr-fallback\"><pre>Pipeline(steps=[(&#x27;imputer&#x27;,\n",
       "                 SimpleImputer(fill_value=-99999999, strategy=&#x27;constant&#x27;)),\n",
       "                (&#x27;sampler&#x27;, RandomOverSampler(random_state=52)),\n",
       "                (&#x27;model&#x27;,\n",
       "                 LGBMClassifier(metric=&#x27;accuracy&#x27;, min_child_samples=34,\n",
       "                                n_estimators=341, num_leaves=20,\n",
       "                                objective=&#x27;binary&#x27;, random_state=53))])</pre><b>In a Jupyter environment, please rerun this cell to show the HTML representation or trust the notebook. <br />On GitHub, the HTML representation is unable to render, please try loading this page with nbviewer.org.</b></div><div class=\"sk-container\" hidden><div class=\"sk-item sk-dashed-wrapped\"><div class=\"sk-label-container\"><div class=\"sk-label sk-toggleable\"><input class=\"sk-toggleable__control sk-hidden--visually\" id=\"sk-estimator-id-12\" type=\"checkbox\" ><label for=\"sk-estimator-id-12\" class=\"sk-toggleable__label sk-toggleable__label-arrow\">Pipeline</label><div class=\"sk-toggleable__content\"><pre>Pipeline(steps=[(&#x27;imputer&#x27;,\n",
       "                 SimpleImputer(fill_value=-99999999, strategy=&#x27;constant&#x27;)),\n",
       "                (&#x27;sampler&#x27;, RandomOverSampler(random_state=52)),\n",
       "                (&#x27;model&#x27;,\n",
       "                 LGBMClassifier(metric=&#x27;accuracy&#x27;, min_child_samples=34,\n",
       "                                n_estimators=341, num_leaves=20,\n",
       "                                objective=&#x27;binary&#x27;, random_state=53))])</pre></div></div></div><div class=\"sk-serial\"><div class=\"sk-item\"><div class=\"sk-estimator sk-toggleable\"><input class=\"sk-toggleable__control sk-hidden--visually\" id=\"sk-estimator-id-13\" type=\"checkbox\" ><label for=\"sk-estimator-id-13\" class=\"sk-toggleable__label sk-toggleable__label-arrow\">SimpleImputer</label><div class=\"sk-toggleable__content\"><pre>SimpleImputer(fill_value=-99999999, strategy=&#x27;constant&#x27;)</pre></div></div></div><div class=\"sk-item\"><div class=\"sk-estimator sk-toggleable\"><input class=\"sk-toggleable__control sk-hidden--visually\" id=\"sk-estimator-id-14\" type=\"checkbox\" ><label for=\"sk-estimator-id-14\" class=\"sk-toggleable__label sk-toggleable__label-arrow\">RandomOverSampler</label><div class=\"sk-toggleable__content\"><pre>RandomOverSampler(random_state=52)</pre></div></div></div><div class=\"sk-item\"><div class=\"sk-estimator sk-toggleable\"><input class=\"sk-toggleable__control sk-hidden--visually\" id=\"sk-estimator-id-15\" type=\"checkbox\" ><label for=\"sk-estimator-id-15\" class=\"sk-toggleable__label sk-toggleable__label-arrow\">LGBMClassifier</label><div class=\"sk-toggleable__content\"><pre>LGBMClassifier(metric=&#x27;accuracy&#x27;, min_child_samples=34, n_estimators=341,\n",
       "               num_leaves=20, objective=&#x27;binary&#x27;, random_state=53)</pre></div></div></div></div></div></div></div>"
      ],
      "text/plain": [
       "Pipeline(steps=[('imputer',\n",
       "                 SimpleImputer(fill_value=-99999999, strategy='constant')),\n",
       "                ('sampler', RandomOverSampler(random_state=52)),\n",
       "                ('model',\n",
       "                 LGBMClassifier(metric='accuracy', min_child_samples=34,\n",
       "                                n_estimators=341, num_leaves=20,\n",
       "                                objective='binary', random_state=53))])"
      ]
     },
     "execution_count": 50,
     "metadata": {},
     "output_type": "execute_result"
    }
   ],
   "source": [
    "reduced_model.fit(X_train.loc[:,top_features], y_train)"
   ]
  },
  {
   "cell_type": "code",
   "execution_count": 51,
   "id": "d0a8512c-ffe4-4b55-ac55-5e0141e64d8a",
   "metadata": {},
   "outputs": [],
   "source": [
    "y_pred = reduced_model.predict(X_valid.loc[:,top_features])"
   ]
  },
  {
   "cell_type": "code",
   "execution_count": 52,
   "id": "5aed7c77-7196-4120-9e8b-568fd661cbd3",
   "metadata": {},
   "outputs": [],
   "source": [
    "cm = confusion_matrix(y_valid, y_pred)"
   ]
  },
  {
   "cell_type": "code",
   "execution_count": 53,
   "id": "b4b60871-2637-4853-805d-57ee8c77802f",
   "metadata": {},
   "outputs": [
    {
     "data": {
      "image/png": "[encoded data removed]",
      "text/plain": [
       "<Figure size 720x720 with 1 Axes>"
      ]
     },
     "metadata": {
      "needs_background": "light"
     },
     "output_type": "display_data"
    }
   ],
   "source": [
    "fig, ax = plt.subplots(figsize=(10, 10))\n",
    "\n",
    "sns.heatmap(\n",
    "    data=cm/cm.sum(axis=1).reshape(-1,1),\n",
    "    ax=ax,\n",
    "    cmap='Blues',\n",
    "    vmin=0,\n",
    "    cbar=False,\n",
    "    annot=cm,\n",
    "    fmt=',d'\n",
    ")\n",
    "ax.set_title(f\"Matrice de confusion\", pad=15)\n",
    "ax.set_xlabel(\"Catégorie prédite\")\n",
    "ax.set_ylabel(\"Catégorie réelle\")\n",
    "plt.show()"
   ]
  },
  {
   "cell_type": "markdown",
   "id": "fff0e84a-4a8c-4bcb-a053-059b65985257",
   "metadata": {},
   "source": [
    "# Optimisation du threshold"
   ]
  },
  {
   "cell_type": "code",
   "execution_count": 54,
   "id": "72fbacfe-4b26-49f3-a259-8e15f736aa14",
   "metadata": {},
   "outputs": [],
   "source": [
    "def custom_bin_loss(y_true:np.ndarray, y_pred:np.ndarray, fn_weight:float) -> int:\n",
    "    true_p_map = y_true == 1\n",
    "    y_diff = y_true - y_pred\n",
    "    loss = (fn_weight)*(y_diff[true_p_map]).sum() - y_diff[~true_p_map].sum()\n",
    "    return int(loss)"
   ]
  },
  {
   "cell_type": "code",
   "execution_count": 55,
   "id": "ec8d02cb-f2b6-4d4b-8237-e31fe99a48a5",
   "metadata": {},
   "outputs": [
    {
     "data": {
      "text/plain": [
       "31751"
      ]
     },
     "execution_count": 55,
     "metadata": {},
     "output_type": "execute_result"
    }
   ],
   "source": [
    "y_pred = reduced_model.predict(X_valid.loc[:,top_features])\n",
    "custom_bin_loss(y_valid, y_pred, 10)"
   ]
  },
  {
   "cell_type": "code",
   "execution_count": 56,
   "id": "f6e621ed-e7de-4811-a160-5eff049d3d2f",
   "metadata": {},
   "outputs": [],
   "source": [
    "class loan_model():\n",
    "    def __init__(self, model, pos_thresh):\n",
    "        self.model = model\n",
    "        self.pos_thresh = pos_thresh\n",
    "    def fit(self, X, y):\n",
    "        self.model.fit(X, y)\n",
    "        return self.model\n",
    "    def predict_proba(self, X):\n",
    "        self.prob_pred_raw = self.model.predict_proba(X)\n",
    "        self.prob_pred = self.prob_pred_raw - np.array(\n",
    "            [.5-self.pos_thresh,\n",
    "             self.pos_thresh-.5])\n",
    "        return self.prob_pred\n",
    "    def predict(self, X):\n",
    "        self.y_pred = np.apply_along_axis(\n",
    "            np.argmax,\n",
    "            axis=1,\n",
    "            arr=self.predict_proba(X))\n",
    "        return self.y_pred"
   ]
  },
  {
   "cell_type": "code",
   "execution_count": 57,
   "id": "782f2cff-1cf8-4ba6-bc0b-aebf5ac27226",
   "metadata": {},
   "outputs": [],
   "source": [
    "def objective(pos_thresh):\n",
    "    model_obj = loan_model(reduced_model, pos_thresh)\n",
    "    y_pred = model_obj.predict(X_valid.loc[:,top_features])\n",
    "    loss = custom_bin_loss(y_valid, y_pred, 10)\n",
    "    return -loss"
   ]
  },
  {
   "cell_type": "code",
   "execution_count": 58,
   "id": "0ba0bab8-8e6b-42b1-ac4d-3c63c13754ad",
   "metadata": {},
   "outputs": [],
   "source": [
    "search_space = {\n",
    "    'pos_thresh': (0,1)\n",
    "}"
   ]
  },
  {
   "cell_type": "code",
   "execution_count": 59,
   "id": "12f8c7ff-3cff-4fec-878c-5f99e17cba9a",
   "metadata": {},
   "outputs": [],
   "source": [
    "optimizer = bayes_opt.BayesianOptimization(\n",
    "    f=objective,\n",
    "    pbounds=search_space,\n",
    "    random_state=53\n",
    ")"
   ]
  },
  {
   "cell_type": "code",
   "execution_count": 60,
   "id": "593fc7d3-81cd-4ee3-9497-945e61cc6406",
   "metadata": {},
   "outputs": [
    {
     "name": "stdout",
     "output_type": "stream",
     "text": [
      "|   iter    |  target   | pos_th... |\n",
      "-------------------------------------\n",
      "| \u001b[0m 1       \u001b[0m | \u001b[0m-4.563e+0\u001b[0m | \u001b[0m 0.8467  \u001b[0m |\n",
      "| \u001b[95m 2       \u001b[0m | \u001b[95m-3.237e+0\u001b[0m | \u001b[95m 0.5612  \u001b[0m |\n",
      "| \u001b[95m 3       \u001b[0m | \u001b[95m-3.217e+0\u001b[0m | \u001b[95m 0.4549  \u001b[0m |\n",
      "| \u001b[0m 4       \u001b[0m | \u001b[0m-3.556e+0\u001b[0m | \u001b[0m 0.3522  \u001b[0m |\n",
      "| \u001b[0m 5       \u001b[0m | \u001b[0m-3.287e+0\u001b[0m | \u001b[0m 0.5859  \u001b[0m |\n",
      "| \u001b[0m 6       \u001b[0m | \u001b[0m-5.654e+0\u001b[0m | \u001b[0m 0.0     \u001b[0m |\n",
      "| \u001b[95m 7       \u001b[0m | \u001b[95m-3.179e+0\u001b[0m | \u001b[95m 0.501   \u001b[0m |\n",
      "| \u001b[0m 8       \u001b[0m | \u001b[0m-3.185e+0\u001b[0m | \u001b[0m 0.4918  \u001b[0m |\n",
      "| \u001b[0m 9       \u001b[0m | \u001b[0m-3.179e+0\u001b[0m | \u001b[0m 0.5009  \u001b[0m |\n",
      "| \u001b[0m 10      \u001b[0m | \u001b[0m-3.2e+04 \u001b[0m | \u001b[0m 0.518   \u001b[0m |\n",
      "| \u001b[0m 11      \u001b[0m | \u001b[0m-4.965e+0\u001b[0m | \u001b[0m 1.0     \u001b[0m |\n",
      "| \u001b[0m 12      \u001b[0m | \u001b[0m-3.654e+0\u001b[0m | \u001b[0m 0.6982  \u001b[0m |\n",
      "| \u001b[0m 13      \u001b[0m | \u001b[0m-4.287e+0\u001b[0m | \u001b[0m 0.2267  \u001b[0m |\n",
      "| \u001b[0m 14      \u001b[0m | \u001b[0m-3.333e+0\u001b[0m | \u001b[0m 0.4143  \u001b[0m |\n",
      "| \u001b[95m 15      \u001b[0m | \u001b[95m-3.178e+0\u001b[0m | \u001b[95m 0.5023  \u001b[0m |\n",
      "| \u001b[0m 16      \u001b[0m | \u001b[0m-3.18e+04\u001b[0m | \u001b[0m 0.5032  \u001b[0m |\n",
      "| \u001b[95m 17      \u001b[0m | \u001b[95m-3.176e+0\u001b[0m | \u001b[95m 0.5001  \u001b[0m |\n",
      "| \u001b[0m 18      \u001b[0m | \u001b[0m-3.179e+0\u001b[0m | \u001b[0m 0.4992  \u001b[0m |\n",
      "| \u001b[0m 19      \u001b[0m | \u001b[0m-3.176e+0\u001b[0m | \u001b[0m 0.4994  \u001b[0m |\n",
      "| \u001b[0m 20      \u001b[0m | \u001b[0m-3.178e+0\u001b[0m | \u001b[0m 0.4988  \u001b[0m |\n",
      "| \u001b[0m 21      \u001b[0m | \u001b[0m-3.178e+0\u001b[0m | \u001b[0m 0.499   \u001b[0m |\n",
      "| \u001b[0m 22      \u001b[0m | \u001b[0m-3.178e+0\u001b[0m | \u001b[0m 0.4992  \u001b[0m |\n",
      "| \u001b[0m 23      \u001b[0m | \u001b[0m-3.177e+0\u001b[0m | \u001b[0m 0.4993  \u001b[0m |\n",
      "| \u001b[0m 24      \u001b[0m | \u001b[0m-3.178e+0\u001b[0m | \u001b[0m 0.4992  \u001b[0m |\n",
      "| \u001b[0m 25      \u001b[0m | \u001b[0m-3.177e+0\u001b[0m | \u001b[0m 0.4993  \u001b[0m |\n",
      "| \u001b[0m 26      \u001b[0m | \u001b[0m-3.178e+0\u001b[0m | \u001b[0m 0.4992  \u001b[0m |\n",
      "| \u001b[0m 27      \u001b[0m | \u001b[0m-3.178e+0\u001b[0m | \u001b[0m 0.4993  \u001b[0m |\n",
      "| \u001b[0m 28      \u001b[0m | \u001b[0m-3.178e+0\u001b[0m | \u001b[0m 0.4992  \u001b[0m |\n",
      "| \u001b[0m 29      \u001b[0m | \u001b[0m-3.178e+0\u001b[0m | \u001b[0m 0.4992  \u001b[0m |\n",
      "| \u001b[0m 30      \u001b[0m | \u001b[0m-3.178e+0\u001b[0m | \u001b[0m 0.4992  \u001b[0m |\n",
      "=====================================\n"
     ]
    }
   ],
   "source": [
    "optimizer.maximize()"
   ]
  },
  {
   "cell_type": "code",
   "execution_count": 61,
   "id": "2e7c8211-d56f-43a3-8796-6cbd8228c12f",
   "metadata": {},
   "outputs": [
    {
     "data": {
      "image/png": "[encoded data removed]",
      "text/plain": [
       "<Figure size 720x720 with 1 Axes>"
      ]
     },
     "metadata": {
      "needs_background": "light"
     },
     "output_type": "display_data"
    }
   ],
   "source": [
    "losses = [-x['target'] for x in optimizer.res]\n",
    "pos_threshs = [x['params']['pos_thresh'] for x in optimizer.res]\n",
    "\n",
    "fig, ax = plt.subplots(figsize = (10,10))\n",
    "\n",
    "ax.scatter(\n",
    "    x=pos_threshs,\n",
    "    y=losses\n",
    ")\n",
    "\n",
    "plt.show()"
   ]
  },
  {
   "cell_type": "code",
   "execution_count": 62,
   "id": "2ff46c47-b100-41f9-8318-a68ff8c53da1",
   "metadata": {},
   "outputs": [
    {
     "data": {
      "text/plain": [
       "0.5"
      ]
     },
     "execution_count": 62,
     "metadata": {},
     "output_type": "execute_result"
    }
   ],
   "source": [
    "pos_thresh = round(optimizer.max['params']['pos_thresh'], 2)\n",
    "pos_thresh"
   ]
  },
  {
   "cell_type": "code",
   "execution_count": 63,
   "id": "0723ad99-23db-4cbb-a727-84392b344e44",
   "metadata": {},
   "outputs": [
    {
     "data": {
      "text/html": [
       "<style>#sk-container-id-7 {color: black;background-color: white;}#sk-container-id-7 pre{padding: 0;}#sk-container-id-7 div.sk-toggleable {background-color: white;}#sk-container-id-7 label.sk-toggleable__label {cursor: pointer;display: block;width: 100%;margin-bottom: 0;padding: 0.3em;box-sizing: border-box;text-align: center;}#sk-container-id-7 label.sk-toggleable__label-arrow:before {content: \"▸\";float: left;margin-right: 0.25em;color: #696969;}#sk-container-id-7 label.sk-toggleable__label-arrow:hover:before {color: black;}#sk-container-id-7 div.sk-estimator:hover label.sk-toggleable__label-arrow:before {color: black;}#sk-container-id-7 div.sk-toggleable__content {max-height: 0;max-width: 0;overflow: hidden;text-align: left;background-color: #f0f8ff;}#sk-container-id-7 div.sk-toggleable__content pre {margin: 0.2em;color: black;border-radius: 0.25em;background-color: #f0f8ff;}#sk-container-id-7 input.sk-toggleable__control:checked~div.sk-toggleable__content {max-height: 200px;max-width: 100%;overflow: auto;}#sk-container-id-7 input.sk-toggleable__control:checked~label.sk-toggleable__label-arrow:before {content: \"▾\";}#sk-container-id-7 div.sk-estimator input.sk-toggleable__control:checked~label.sk-toggleable__label {background-color: #d4ebff;}#sk-container-id-7 div.sk-label input.sk-toggleable__control:checked~label.sk-toggleable__label {background-color: #d4ebff;}#sk-container-id-7 input.sk-hidden--visually {border: 0;clip: rect(1px 1px 1px 1px);clip: rect(1px, 1px, 1px, 1px);height: 1px;margin: -1px;overflow: hidden;padding: 0;position: absolute;width: 1px;}#sk-container-id-7 div.sk-estimator {font-family: monospace;background-color: #f0f8ff;border: 1px dotted black;border-radius: 0.25em;box-sizing: border-box;margin-bottom: 0.5em;}#sk-container-id-7 div.sk-estimator:hover {background-color: #d4ebff;}#sk-container-id-7 div.sk-parallel-item::after {content: \"\";width: 100%;border-bottom: 1px solid gray;flex-grow: 1;}#sk-container-id-7 div.sk-label:hover label.sk-toggleable__label {background-color: #d4ebff;}#sk-container-id-7 div.sk-serial::before {content: \"\";position: absolute;border-left: 1px solid gray;box-sizing: border-box;top: 0;bottom: 0;left: 50%;z-index: 0;}#sk-container-id-7 div.sk-serial {display: flex;flex-direction: column;align-items: center;background-color: white;padding-right: 0.2em;padding-left: 0.2em;position: relative;}#sk-container-id-7 div.sk-item {position: relative;z-index: 1;}#sk-container-id-7 div.sk-parallel {display: flex;align-items: stretch;justify-content: center;background-color: white;position: relative;}#sk-container-id-7 div.sk-item::before, #sk-container-id-7 div.sk-parallel-item::before {content: \"\";position: absolute;border-left: 1px solid gray;box-sizing: border-box;top: 0;bottom: 0;left: 50%;z-index: -1;}#sk-container-id-7 div.sk-parallel-item {display: flex;flex-direction: column;z-index: 1;position: relative;background-color: white;}#sk-container-id-7 div.sk-parallel-item:first-child::after {align-self: flex-end;width: 50%;}#sk-container-id-7 div.sk-parallel-item:last-child::after {align-self: flex-start;width: 50%;}#sk-container-id-7 div.sk-parallel-item:only-child::after {width: 0;}#sk-container-id-7 div.sk-dashed-wrapped {border: 1px dashed gray;margin: 0 0.4em 0.5em 0.4em;box-sizing: border-box;padding-bottom: 0.4em;background-color: white;}#sk-container-id-7 div.sk-label label {font-family: monospace;font-weight: bold;display: inline-block;line-height: 1.2em;}#sk-container-id-7 div.sk-label-container {text-align: center;}#sk-container-id-7 div.sk-container {/* jupyter's `normalize.less` sets `[hidden] { display: none; }` but bootstrap.min.css set `[hidden] { display: none !important; }` so we also need the `!important` here to be able to override the default hidden behavior on the sphinx rendered scikit-learn.org. See: https://github.com/scikit-learn/scikit-learn/issues/21755 */display: inline-block !important;position: relative;}#sk-container-id-7 div.sk-text-repr-fallback {display: none;}</style><div id=\"sk-container-id-7\" class=\"sk-top-container\"><div class=\"sk-text-repr-fallback\"><pre>Pipeline(steps=[(&#x27;imputer&#x27;,\n",
       "                 SimpleImputer(fill_value=-99999999, strategy=&#x27;constant&#x27;)),\n",
       "                (&#x27;sampler&#x27;, RandomOverSampler(random_state=52)),\n",
       "                (&#x27;model&#x27;,\n",
       "                 LGBMClassifier(metric=&#x27;accuracy&#x27;, min_child_samples=34,\n",
       "                                n_estimators=341, num_leaves=20,\n",
       "                                objective=&#x27;binary&#x27;, random_state=53))])</pre><b>In a Jupyter environment, please rerun this cell to show the HTML representation or trust the notebook. <br />On GitHub, the HTML representation is unable to render, please try loading this page with nbviewer.org.</b></div><div class=\"sk-container\" hidden><div class=\"sk-item sk-dashed-wrapped\"><div class=\"sk-label-container\"><div class=\"sk-label sk-toggleable\"><input class=\"sk-toggleable__control sk-hidden--visually\" id=\"sk-estimator-id-16\" type=\"checkbox\" ><label for=\"sk-estimator-id-16\" class=\"sk-toggleable__label sk-toggleable__label-arrow\">Pipeline</label><div class=\"sk-toggleable__content\"><pre>Pipeline(steps=[(&#x27;imputer&#x27;,\n",
       "                 SimpleImputer(fill_value=-99999999, strategy=&#x27;constant&#x27;)),\n",
       "                (&#x27;sampler&#x27;, RandomOverSampler(random_state=52)),\n",
       "                (&#x27;model&#x27;,\n",
       "                 LGBMClassifier(metric=&#x27;accuracy&#x27;, min_child_samples=34,\n",
       "                                n_estimators=341, num_leaves=20,\n",
       "                                objective=&#x27;binary&#x27;, random_state=53))])</pre></div></div></div><div class=\"sk-serial\"><div class=\"sk-item\"><div class=\"sk-estimator sk-toggleable\"><input class=\"sk-toggleable__control sk-hidden--visually\" id=\"sk-estimator-id-17\" type=\"checkbox\" ><label for=\"sk-estimator-id-17\" class=\"sk-toggleable__label sk-toggleable__label-arrow\">SimpleImputer</label><div class=\"sk-toggleable__content\"><pre>SimpleImputer(fill_value=-99999999, strategy=&#x27;constant&#x27;)</pre></div></div></div><div class=\"sk-item\"><div class=\"sk-estimator sk-toggleable\"><input class=\"sk-toggleable__control sk-hidden--visually\" id=\"sk-estimator-id-18\" type=\"checkbox\" ><label for=\"sk-estimator-id-18\" class=\"sk-toggleable__label sk-toggleable__label-arrow\">RandomOverSampler</label><div class=\"sk-toggleable__content\"><pre>RandomOverSampler(random_state=52)</pre></div></div></div><div class=\"sk-item\"><div class=\"sk-estimator sk-toggleable\"><input class=\"sk-toggleable__control sk-hidden--visually\" id=\"sk-estimator-id-19\" type=\"checkbox\" ><label for=\"sk-estimator-id-19\" class=\"sk-toggleable__label sk-toggleable__label-arrow\">LGBMClassifier</label><div class=\"sk-toggleable__content\"><pre>LGBMClassifier(metric=&#x27;accuracy&#x27;, min_child_samples=34, n_estimators=341,\n",
       "               num_leaves=20, objective=&#x27;binary&#x27;, random_state=53)</pre></div></div></div></div></div></div></div>"
      ],
      "text/plain": [
       "Pipeline(steps=[('imputer',\n",
       "                 SimpleImputer(fill_value=-99999999, strategy='constant')),\n",
       "                ('sampler', RandomOverSampler(random_state=52)),\n",
       "                ('model',\n",
       "                 LGBMClassifier(metric='accuracy', min_child_samples=34,\n",
       "                                n_estimators=341, num_leaves=20,\n",
       "                                objective='binary', random_state=53))])"
      ]
     },
     "execution_count": 63,
     "metadata": {},
     "output_type": "execute_result"
    }
   ],
   "source": [
    "model = loan_model(reduced_model, pos_thresh)\n",
    "model.model"
   ]
  },
  {
   "cell_type": "code",
   "execution_count": 64,
   "id": "a6931e67-1bb1-4e93-a90a-852660ee8373",
   "metadata": {},
   "outputs": [
    {
     "data": {
      "text/html": [
       "<style>#sk-container-id-8 {color: black;background-color: white;}#sk-container-id-8 pre{padding: 0;}#sk-container-id-8 div.sk-toggleable {background-color: white;}#sk-container-id-8 label.sk-toggleable__label {cursor: pointer;display: block;width: 100%;margin-bottom: 0;padding: 0.3em;box-sizing: border-box;text-align: center;}#sk-container-id-8 label.sk-toggleable__label-arrow:before {content: \"▸\";float: left;margin-right: 0.25em;color: #696969;}#sk-container-id-8 label.sk-toggleable__label-arrow:hover:before {color: black;}#sk-container-id-8 div.sk-estimator:hover label.sk-toggleable__label-arrow:before {color: black;}#sk-container-id-8 div.sk-toggleable__content {max-height: 0;max-width: 0;overflow: hidden;text-align: left;background-color: #f0f8ff;}#sk-container-id-8 div.sk-toggleable__content pre {margin: 0.2em;color: black;border-radius: 0.25em;background-color: #f0f8ff;}#sk-container-id-8 input.sk-toggleable__control:checked~div.sk-toggleable__content {max-height: 200px;max-width: 100%;overflow: auto;}#sk-container-id-8 input.sk-toggleable__control:checked~label.sk-toggleable__label-arrow:before {content: \"▾\";}#sk-container-id-8 div.sk-estimator input.sk-toggleable__control:checked~label.sk-toggleable__label {background-color: #d4ebff;}#sk-container-id-8 div.sk-label input.sk-toggleable__control:checked~label.sk-toggleable__label {background-color: #d4ebff;}#sk-container-id-8 input.sk-hidden--visually {border: 0;clip: rect(1px 1px 1px 1px);clip: rect(1px, 1px, 1px, 1px);height: 1px;margin: -1px;overflow: hidden;padding: 0;position: absolute;width: 1px;}#sk-container-id-8 div.sk-estimator {font-family: monospace;background-color: #f0f8ff;border: 1px dotted black;border-radius: 0.25em;box-sizing: border-box;margin-bottom: 0.5em;}#sk-container-id-8 div.sk-estimator:hover {background-color: #d4ebff;}#sk-container-id-8 div.sk-parallel-item::after {content: \"\";width: 100%;border-bottom: 1px solid gray;flex-grow: 1;}#sk-container-id-8 div.sk-label:hover label.sk-toggleable__label {background-color: #d4ebff;}#sk-container-id-8 div.sk-serial::before {content: \"\";position: absolute;border-left: 1px solid gray;box-sizing: border-box;top: 0;bottom: 0;left: 50%;z-index: 0;}#sk-container-id-8 div.sk-serial {display: flex;flex-direction: column;align-items: center;background-color: white;padding-right: 0.2em;padding-left: 0.2em;position: relative;}#sk-container-id-8 div.sk-item {position: relative;z-index: 1;}#sk-container-id-8 div.sk-parallel {display: flex;align-items: stretch;justify-content: center;background-color: white;position: relative;}#sk-container-id-8 div.sk-item::before, #sk-container-id-8 div.sk-parallel-item::before {content: \"\";position: absolute;border-left: 1px solid gray;box-sizing: border-box;top: 0;bottom: 0;left: 50%;z-index: -1;}#sk-container-id-8 div.sk-parallel-item {display: flex;flex-direction: column;z-index: 1;position: relative;background-color: white;}#sk-container-id-8 div.sk-parallel-item:first-child::after {align-self: flex-end;width: 50%;}#sk-container-id-8 div.sk-parallel-item:last-child::after {align-self: flex-start;width: 50%;}#sk-container-id-8 div.sk-parallel-item:only-child::after {width: 0;}#sk-container-id-8 div.sk-dashed-wrapped {border: 1px dashed gray;margin: 0 0.4em 0.5em 0.4em;box-sizing: border-box;padding-bottom: 0.4em;background-color: white;}#sk-container-id-8 div.sk-label label {font-family: monospace;font-weight: bold;display: inline-block;line-height: 1.2em;}#sk-container-id-8 div.sk-label-container {text-align: center;}#sk-container-id-8 div.sk-container {/* jupyter's `normalize.less` sets `[hidden] { display: none; }` but bootstrap.min.css set `[hidden] { display: none !important; }` so we also need the `!important` here to be able to override the default hidden behavior on the sphinx rendered scikit-learn.org. See: https://github.com/scikit-learn/scikit-learn/issues/21755 */display: inline-block !important;position: relative;}#sk-container-id-8 div.sk-text-repr-fallback {display: none;}</style><div id=\"sk-container-id-8\" class=\"sk-top-container\"><div class=\"sk-text-repr-fallback\"><pre>Pipeline(steps=[(&#x27;imputer&#x27;,\n",
       "                 SimpleImputer(fill_value=-99999999, strategy=&#x27;constant&#x27;)),\n",
       "                (&#x27;sampler&#x27;, RandomOverSampler(random_state=52)),\n",
       "                (&#x27;model&#x27;,\n",
       "                 LGBMClassifier(metric=&#x27;accuracy&#x27;, min_child_samples=34,\n",
       "                                n_estimators=341, num_leaves=20,\n",
       "                                objective=&#x27;binary&#x27;, random_state=53))])</pre><b>In a Jupyter environment, please rerun this cell to show the HTML representation or trust the notebook. <br />On GitHub, the HTML representation is unable to render, please try loading this page with nbviewer.org.</b></div><div class=\"sk-container\" hidden><div class=\"sk-item sk-dashed-wrapped\"><div class=\"sk-label-container\"><div class=\"sk-label sk-toggleable\"><input class=\"sk-toggleable__control sk-hidden--visually\" id=\"sk-estimator-id-20\" type=\"checkbox\" ><label for=\"sk-estimator-id-20\" class=\"sk-toggleable__label sk-toggleable__label-arrow\">Pipeline</label><div class=\"sk-toggleable__content\"><pre>Pipeline(steps=[(&#x27;imputer&#x27;,\n",
       "                 SimpleImputer(fill_value=-99999999, strategy=&#x27;constant&#x27;)),\n",
       "                (&#x27;sampler&#x27;, RandomOverSampler(random_state=52)),\n",
       "                (&#x27;model&#x27;,\n",
       "                 LGBMClassifier(metric=&#x27;accuracy&#x27;, min_child_samples=34,\n",
       "                                n_estimators=341, num_leaves=20,\n",
       "                                objective=&#x27;binary&#x27;, random_state=53))])</pre></div></div></div><div class=\"sk-serial\"><div class=\"sk-item\"><div class=\"sk-estimator sk-toggleable\"><input class=\"sk-toggleable__control sk-hidden--visually\" id=\"sk-estimator-id-21\" type=\"checkbox\" ><label for=\"sk-estimator-id-21\" class=\"sk-toggleable__label sk-toggleable__label-arrow\">SimpleImputer</label><div class=\"sk-toggleable__content\"><pre>SimpleImputer(fill_value=-99999999, strategy=&#x27;constant&#x27;)</pre></div></div></div><div class=\"sk-item\"><div class=\"sk-estimator sk-toggleable\"><input class=\"sk-toggleable__control sk-hidden--visually\" id=\"sk-estimator-id-22\" type=\"checkbox\" ><label for=\"sk-estimator-id-22\" class=\"sk-toggleable__label sk-toggleable__label-arrow\">RandomOverSampler</label><div class=\"sk-toggleable__content\"><pre>RandomOverSampler(random_state=52)</pre></div></div></div><div class=\"sk-item\"><div class=\"sk-estimator sk-toggleable\"><input class=\"sk-toggleable__control sk-hidden--visually\" id=\"sk-estimator-id-23\" type=\"checkbox\" ><label for=\"sk-estimator-id-23\" class=\"sk-toggleable__label sk-toggleable__label-arrow\">LGBMClassifier</label><div class=\"sk-toggleable__content\"><pre>LGBMClassifier(metric=&#x27;accuracy&#x27;, min_child_samples=34, n_estimators=341,\n",
       "               num_leaves=20, objective=&#x27;binary&#x27;, random_state=53)</pre></div></div></div></div></div></div></div>"
      ],
      "text/plain": [
       "Pipeline(steps=[('imputer',\n",
       "                 SimpleImputer(fill_value=-99999999, strategy='constant')),\n",
       "                ('sampler', RandomOverSampler(random_state=52)),\n",
       "                ('model',\n",
       "                 LGBMClassifier(metric='accuracy', min_child_samples=34,\n",
       "                                n_estimators=341, num_leaves=20,\n",
       "                                objective='binary', random_state=53))])"
      ]
     },
     "execution_count": 64,
     "metadata": {},
     "output_type": "execute_result"
    }
   ],
   "source": [
    "model.fit(X_train.loc[:,top_features], y_train)"
   ]
  },
  {
   "cell_type": "code",
   "execution_count": 65,
   "id": "87813e2e-0d1b-4265-9883-b8e790b5151a",
   "metadata": {},
   "outputs": [
    {
     "data": {
      "text/plain": [
       "array(['REFUSED_DAYS_DECISION_MAX', 'YEARLY_PAYMENT_RATE',\n",
       "       'PREV_NAME_CONTRACT_STATUS_Refused_MEAN', 'EXT_SOURCE_3',\n",
       "       'EXT_SOURCE_2', 'NAME_EDUCATION_TYPE_Highereducation',\n",
       "       'REFUSED_DAYS_DECISION_MEAN', 'REGION_RATING_CLIENT',\n",
       "       'REFUSED_AMT_CREDIT_MAX', 'REFUSED_APP_CREDIT_PERC_VAR',\n",
       "       'DAYS_EMPLOYED', 'AMT_GOODS_PRICE', 'PREV_AMT_APPLICATION_MEAN',\n",
       "       'EXT_SOURCE_1', 'DAYS_EMPLOYED_PERC', 'AMT_ANNUITY',\n",
       "       'NAME_INCOME_TYPE_Working', 'REGION_RATING_CLIENT_W_CITY',\n",
       "       'REFUSED_AMT_APPLICATION_MAX', 'DAYS_BIRTH', 'INSTAL_DPD_MEAN',\n",
       "       'DAYS_ID_PUBLISH'], dtype=object)"
      ]
     },
     "execution_count": 65,
     "metadata": {},
     "output_type": "execute_result"
    }
   ],
   "source": [
    "model.model.feature_names_in_"
   ]
  },
  {
   "cell_type": "code",
   "execution_count": 66,
   "id": "ae366fc0-1f28-4af5-891c-84746f1e99de",
   "metadata": {},
   "outputs": [
    {
     "data": {
      "text/plain": [
       "31751"
      ]
     },
     "execution_count": 66,
     "metadata": {},
     "output_type": "execute_result"
    }
   ],
   "source": [
    "y_pred = model.predict(X_valid.loc[:,top_features])\n",
    "custom_bin_loss(y_valid, y_pred, 10)"
   ]
  },
  {
   "cell_type": "code",
   "execution_count": 67,
   "id": "b9bea08e-4796-46d2-8354-9d38262cb4ce",
   "metadata": {},
   "outputs": [],
   "source": [
    "cm = confusion_matrix(y_valid, y_pred)"
   ]
  },
  {
   "cell_type": "code",
   "execution_count": 68,
   "id": "b21f64fb-af3b-4762-837b-fa4ab5dac06c",
   "metadata": {},
   "outputs": [
    {
     "data": {
      "image/png": "[encoded data removed]",
      "text/plain": [
       "<Figure size 720x720 with 1 Axes>"
      ]
     },
     "metadata": {
      "needs_background": "light"
     },
     "output_type": "display_data"
    }
   ],
   "source": [
    "fig, ax = plt.subplots(figsize=(10, 10))\n",
    "\n",
    "sns.heatmap(\n",
    "    data=cm/cm.sum(axis=1).reshape(-1,1),\n",
    "    ax=ax,\n",
    "    cmap='Blues',\n",
    "    vmin=0,\n",
    "    cbar=False,\n",
    "    annot=cm,\n",
    "    fmt=',d'\n",
    ")\n",
    "ax.set_title(f\"Matrice de confusion\", pad=15)\n",
    "ax.set_xlabel(\"Catégorie prédite\")\n",
    "ax.set_ylabel(\"Catégorie réelle\")\n",
    "plt.show()"
   ]
  },
  {
   "cell_type": "code",
   "execution_count": 69,
   "id": "89803508-23ec-462a-a683-7aaec832feff",
   "metadata": {},
   "outputs": [
    {
     "data": {
      "text/plain": [
       "array([[0.57049394, 0.42950606],\n",
       "       [0.49400029, 0.50599971],\n",
       "       [0.45138187, 0.54861813],\n",
       "       ...,\n",
       "       [0.46417727, 0.53582273],\n",
       "       [0.20601261, 0.79398739],\n",
       "       [0.49645984, 0.50354016]])"
      ]
     },
     "execution_count": 69,
     "metadata": {},
     "output_type": "execute_result"
    }
   ],
   "source": [
    "probs = model.predict_proba(X_valid.loc[:,top_features])\n",
    "probs"
   ]
  },
  {
   "cell_type": "code",
   "execution_count": 70,
   "id": "8dc053da-4195-4ca0-9e53-fc36d5dd9c14",
   "metadata": {},
   "outputs": [
    {
     "data": {
      "image/png": "[encoded data removed]",
      "text/plain": [
       "<Figure size 360x360 with 1 Axes>"
      ]
     },
     "metadata": {
      "needs_background": "light"
     },
     "output_type": "display_data"
    }
   ],
   "source": [
    "fig, ax = plt.subplots(figsize=(5,5))\n",
    "\n",
    "sns.histplot(\n",
    "    x=probs[:,0],\n",
    "    bins=25\n",
    ")\n",
    "\n",
    "plt.show()"
   ]
  },
  {
   "cell_type": "code",
   "execution_count": 79,
   "id": "8207e2a2-d398-4fde-bad3-7e9fc5662e15",
   "metadata": {},
   "outputs": [],
   "source": [
    "import json"
   ]
  },
  {
   "cell_type": "code",
   "execution_count": 80,
   "id": "94510663-f998-4177-9f89-9cadc3174b79",
   "metadata": {},
   "outputs": [],
   "source": [
    "def extract_hist_val(X, bins=20):\n",
    "    ax = plt.axes()\n",
    "    values, bins, patches = ax.hist(X, bins=bins)\n",
    "    plt.close()\n",
    "    return values, bins"
   ]
  },
  {
   "cell_type": "code",
   "execution_count": 87,
   "id": "9096670b-5e40-4dc0-9b98-1690cd608fef",
   "metadata": {},
   "outputs": [],
   "source": [
    "hist_data = dict()\n",
    "\n",
    "X = pd.concat([X_train, X_valid], ignore_index=True)\n",
    "\n",
    "for feat in features:\n",
    "    data = X[feat].dropna()\n",
    "    values, bins = extract_hist_val(data, bins=20)\n",
    "    hist_data[feat] = {'values': values.tolist(),\n",
    "                       'bins': bins.tolist(),\n",
    "                       'mean': data.mean()}"
   ]
  },
  {
   "cell_type": "code",
   "execution_count": 88,
   "id": "b63c33d5-662e-48b9-be73-e22e3652200b",
   "metadata": {},
   "outputs": [],
   "source": [
    "with open('plots/hist_data.json', 'w') as file:\n",
    "    json.dump(hist_data, file)"
   ]
  },
  {
   "cell_type": "code",
   "execution_count": 89,
   "id": "bfd28196-cb02-478f-822d-42688af60ff2",
   "metadata": {},
   "outputs": [],
   "source": [
    "data_dict = dict()\n",
    "data_dict['REFUSED_DAYS_DECISION_MAX'] = \"Nombre de jours depuis le premier crédit refusé\"\n",
    "data_dict['YEARLY_PAYMENT_RATE'] = \"Taux de remboursement annuel observé sur crédits\"\n",
    "data_dict['PREV_NAME_CONTRACT_STATUS_Refused_MEAN'] = \"Taux de refus des crédits précedents\"\n",
    "data_dict['EXT_SOURCE_3'] = \"Score de crédit normalisé, source externe\"\n",
    "data_dict['EXT_SOURCE_2'] = \"Score de crédit normalisé, source externe\"\n",
    "data_dict['NAME_EDUCATION_TYPE_Highereducation'] = \"Client ayant atteint un niveau d'éducation équivalent à l'université\"\n",
    "data_dict['REFUSED_DAYS_DECISION_MEAN'] = \"Nombre moyen de jours depuis les crédits refusés\"\n",
    "data_dict['REGION_RATING_CLIENT'] = \"Note attribuée à la région dans laquelle réside le client (1,2,3)\"\n",
    "data_dict['REFUSED_AMT_CREDIT_MAX'] = \"Montant maximal parmi les crédits refusés\"\n",
    "data_dict['REFUSED_APP_CREDIT_PERC_VAR'] = \"Variance observée sur les crédits refusés du ratio entre prêt demandé et crédit considéré\"\n",
    "data_dict['DAYS_EMPLOYED'] = \"Nombre de jours depuis lesquels le client travaille, sur son poste actuel\"\n",
    "data_dict['PREV_AMT_APPLICATION_MEAN'] = \"Montant moyen des précédents prêts demandés\"\n",
    "data_dict['EXT_SOURCE_1'] = \"Score de crédit normalisé, source externe\"\n",
    "data_dict['DAYS_EMPLOYED_PERC'] = \"Proportion de la vie du client passée sur son poste actuel\"\n",
    "data_dict['AMT_ANNUITY'] = \"Montant annuel du remboursement pour le crédit considéré\"\n",
    "data_dict['NAME_INCOME_TYPE_Working'] = \"Indicateur si le client est actuellement au statut employé\"\n",
    "data_dict['REGION_RATING_CLIENT_W_CITY'] = \"Note attribuée à la région dans laquelle réside le client (1,2,3), en tenant compte de la ville de résidence\"\n",
    "data_dict['REFUSED_AMT_APPLICATION_MAX'] = \"Montant maximal parmi les crédits refusés\"\n",
    "data_dict['DAYS_BIRTH'] = \"Age du client, en jours, au moment de la demande de crédit\"\n",
    "data_dict['INSTAL_DPD_MEAN'] = \"Moyenne en jours des retards de paiement observés\"\n",
    "data_dict['DAYS_ID_PUBLISH'] = \"Nombre de jours depuis le dernier changement de papiers d'identité du client, au moment de la demande de crédit\"\n",
    "data_dict['AMT_GOODS_PRICE'] = \"Valeur du bien financé, si crédit conso\"\n",
    "\n",
    "with open('plots/data_dict.json', 'w') as file:\n",
    "    json.dump(data_dict, file)"
   ]
  },
  {
   "cell_type": "code",
   "execution_count": 72,
   "id": "f67f30c0-1ba3-464b-9f06-a66fda510fbf",
   "metadata": {},
   "outputs": [
    {
     "data": {
      "text/plain": [
       "['models/final_model.joblib']"
      ]
     },
     "execution_count": 72,
     "metadata": {},
     "output_type": "execute_result"
    }
   ],
   "source": [
    "joblib.dump(model.model, 'models/final_model.joblib')"
   ]
  },
  {
   "cell_type": "code",
   "execution_count": 73,
   "id": "797d18df-9118-428c-b2e3-3cf58f7b150f",
   "metadata": {},
   "outputs": [],
   "source": [
    "with open('models/final_thresh.txt', 'w') as file:\n",
    "    file.write(str(model.pos_thresh))"
   ]
  },
  {
   "cell_type": "code",
   "execution_count": 74,
   "id": "8b75e15d-8a71-4581-8733-ac45c5c541f4",
   "metadata": {},
   "outputs": [],
   "source": [
    "with open('models/top_features.txt', 'w') as file:\n",
    "    file.write(str(model.model.feature_names_in_.tolist()))"
   ]
  },
  {
   "cell_type": "code",
   "execution_count": 75,
   "id": "d2d00223-bb29-4708-8058-cbae504faf4d",
   "metadata": {},
   "outputs": [],
   "source": [
    "import shap"
   ]
  },
  {
   "cell_type": "code",
   "execution_count": 76,
   "id": "1ca65b45-ebac-4e67-a0f6-e3ff71ceba05",
   "metadata": {},
   "outputs": [],
   "source": [
    "features = model.model.feature_names_in_"
   ]
  },
  {
   "cell_type": "code",
   "execution_count": 77,
   "id": "ef6274ef-f00d-487c-bafc-27f0537a8111",
   "metadata": {},
   "outputs": [],
   "source": [
    "explainer = shap.Explainer(model.predict_proba,\n",
    "                           X_valid.loc[:, features],\n",
    "                           feature_names=features,\n",
    "                           seed=52)"
   ]
  },
  {
   "cell_type": "code",
   "execution_count": 78,
   "id": "b31abe8f-b0ba-475d-bbc7-8c18d50e9625",
   "metadata": {},
   "outputs": [
    {
     "data": {
      "text/plain": [
       "['models/explainer.joblib']"
      ]
     },
     "execution_count": 78,
     "metadata": {},
     "output_type": "execute_result"
    }
   ],
   "source": [
    "joblib.dump(explainer, 'models/explainer.joblib')"
   ]
  },
  {
   "cell_type": "code",
   "execution_count": null,
   "id": "d436b1ec-7395-4fe1-91fe-0d957311b095",
   "metadata": {},
   "outputs": [],
   "source": []
  }
 ],
 "metadata": {
  "kernelspec": {
   "display_name": "Python 3 (ipykernel)",
   "language": "python",
   "name": "python3"
  },
  "language_info": {
   "codemirror_mode": {
    "name": "ipython",
    "version": 3
   },
   "file_extension": ".py",
   "mimetype": "text/x-python",
   "name": "python",
   "nbconvert_exporter": "python",
   "pygments_lexer": "ipython3",
   "version": "3.9.12"
  }
 },
 "nbformat": 4,
 "nbformat_minor": 5
}
